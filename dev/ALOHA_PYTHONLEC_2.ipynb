{
 "cells": [
  {
   "cell_type": "markdown",
   "metadata": {},
   "source": [
    "## FLOW CONTROL\n",
    "\n",
    "+ 2일차"
   ]
  },
  {
   "cell_type": "code",
   "execution_count": 1,
   "metadata": {
    "collapsed": true
   },
   "outputs": [],
   "source": [
    "# int func 은 10진수가 기반으로 되어있으며 처음으로 주는 인자는 문자열로 들어와야한다. (10진수가 아니면)"
   ]
  },
  {
   "cell_type": "code",
   "execution_count": 2,
   "metadata": {
    "collapsed": true
   },
   "outputs": [],
   "source": [
    "# if ~ else 문 사용"
   ]
  },
  {
   "cell_type": "code",
   "execution_count": 4,
   "metadata": {
    "collapsed": true
   },
   "outputs": [],
   "source": [
    "# for ! in ~: ~는 어떤 container 도 가능함. 문자열도 가능함"
   ]
  },
  {
   "cell_type": "code",
   "execution_count": 15,
   "metadata": {},
   "outputs": [
    {
     "name": "stdout",
     "output_type": "stream",
     "text": [
      " 2 * 1 = 2 \n",
      " 2 * 2 = 4 \n",
      " 2 * 3 = 6 \n",
      " 2 * 4 = 8 \n",
      " 2 * 5 = 10 \n",
      " 2 * 6 = 12 \n",
      " 2 * 7 = 14 \n",
      " 2 * 8 = 16 \n",
      " 2 * 9 = 18 \n"
     ]
    }
   ],
   "source": [
    "number = 2\n",
    "\n",
    "for i in range(1,10):\n",
    "    print(' {} * {} = {} '.format(number, i , number*i))"
   ]
  },
  {
   "cell_type": "code",
   "execution_count": 19,
   "metadata": {},
   "outputs": [
    {
     "name": "stdout",
     "output_type": "stream",
     "text": [
      " ### 2 단 ###\n",
      " 2 * 1 = 2\n",
      " 2 * 2 = 4\n",
      " 2 * 3 = 6\n",
      " 2 * 4 = 8\n",
      " 2 * 5 = 10\n",
      " 2 * 6 = 12\n",
      " 2 * 7 = 14\n",
      " 2 * 8 = 16\n",
      " 2 * 9 = 18\n",
      " ### 3 단 ###\n",
      " 3 * 1 = 3\n",
      " 3 * 2 = 6\n",
      " 3 * 3 = 9\n",
      " 3 * 4 = 12\n",
      " 3 * 5 = 15\n",
      " 3 * 6 = 18\n",
      " 3 * 7 = 21\n",
      " 3 * 8 = 24\n",
      " 3 * 9 = 27\n",
      " ### 4 단 ###\n",
      " 4 * 1 = 4\n",
      " 4 * 2 = 8\n",
      " 4 * 3 = 12\n",
      " 4 * 4 = 16\n",
      " 4 * 5 = 20\n",
      " 4 * 6 = 24\n",
      " 4 * 7 = 28\n",
      " 4 * 8 = 32\n",
      " 4 * 9 = 36\n"
     ]
    }
   ],
   "source": [
    "for number in range(2,10):\n",
    "    if number == 5:\n",
    "        break\n",
    "    print(' ### {} 단 ###'.format(number))\n",
    "    for i in range(1,10):\n",
    "        print( ' {} * {} = {}'.format(number, i, number*i))"
   ]
  },
  {
   "cell_type": "code",
   "execution_count": 24,
   "metadata": {
    "collapsed": true
   },
   "outputs": [],
   "source": [
    "def doubled (number):  ## 구구단 함수화\n",
    "    print('### {} 단###'.format(number))\n",
    "    for i in range(1,10):\n",
    "        print( '>>> {} * {} = {}'.format(number, i , number*i))"
   ]
  },
  {
   "cell_type": "code",
   "execution_count": 21,
   "metadata": {},
   "outputs": [
    {
     "name": "stdout",
     "output_type": "stream",
     "text": [
      "### 2 단###\n",
      ">>> 2 * 1 = 2\n",
      ">>> 2 * 2 = 4\n",
      ">>> 2 * 3 = 6\n",
      ">>> 2 * 4 = 8\n",
      ">>> 2 * 5 = 10\n",
      ">>> 2 * 6 = 12\n",
      ">>> 2 * 7 = 14\n",
      ">>> 2 * 8 = 16\n",
      ">>> 2 * 9 = 18\n"
     ]
    }
   ],
   "source": [
    "doubled(2)"
   ]
  },
  {
   "cell_type": "code",
   "execution_count": 22,
   "metadata": {},
   "outputs": [
    {
     "name": "stdout",
     "output_type": "stream",
     "text": [
      "### 4 단###\n",
      ">>> 4 * 1 = 4\n",
      ">>> 4 * 2 = 8\n",
      ">>> 4 * 3 = 12\n",
      ">>> 4 * 4 = 16\n",
      ">>> 4 * 5 = 20\n",
      ">>> 4 * 6 = 24\n",
      ">>> 4 * 7 = 28\n",
      ">>> 4 * 8 = 32\n",
      ">>> 4 * 9 = 36\n"
     ]
    }
   ],
   "source": [
    "doubled(4)"
   ]
  },
  {
   "cell_type": "code",
   "execution_count": 23,
   "metadata": {},
   "outputs": [
    {
     "name": "stdout",
     "output_type": "stream",
     "text": [
      "### 19 단###\n",
      ">>> 19 * 1 = 19\n",
      ">>> 19 * 2 = 38\n",
      ">>> 19 * 3 = 57\n",
      ">>> 19 * 4 = 76\n",
      ">>> 19 * 5 = 95\n",
      ">>> 19 * 6 = 114\n",
      ">>> 19 * 7 = 133\n",
      ">>> 19 * 8 = 152\n",
      ">>> 19 * 9 = 171\n"
     ]
    }
   ],
   "source": [
    "doubled(19)"
   ]
  },
  {
   "cell_type": "code",
   "execution_count": 25,
   "metadata": {},
   "outputs": [
    {
     "name": "stdout",
     "output_type": "stream",
     "text": [
      "HeLLO worlD\n",
      "HeLLO worlD\n",
      "HeLLO worlD\n",
      "HeLLO worlD\n"
     ]
    }
   ],
   "source": [
    "for a in range(4):\n",
    "    print(\"HeLLO worlD\")"
   ]
  },
  {
   "cell_type": "code",
   "execution_count": 26,
   "metadata": {},
   "outputs": [
    {
     "name": "stdout",
     "output_type": "stream",
     "text": [
      "ALOHA world\n",
      "None\n"
     ]
    }
   ],
   "source": [
    "def print_hello():\n",
    "    print(\"ALOHA world\")\n",
    "    \n",
    "print(print_hello())  ## 파이썬에서는 리턴값이 없음 void - 유형이 없다."
   ]
  },
  {
   "cell_type": "code",
   "execution_count": 27,
   "metadata": {},
   "outputs": [
    {
     "data": {
      "text/plain": [
       "10"
      ]
     },
     "execution_count": 27,
     "metadata": {},
     "output_type": "execute_result"
    }
   ],
   "source": [
    "def my():\n",
    "    return(10)\n",
    "my()  ## 프린트가 아니라 리턴이면 상관없나봄."
   ]
  },
  {
   "cell_type": "code",
   "execution_count": 31,
   "metadata": {},
   "outputs": [
    {
     "name": "stdout",
     "output_type": "stream",
     "text": [
      "\n",
      "*\n",
      "**\n",
      "***\n",
      "****\n",
      "*****\n",
      "******\n",
      "*******\n",
      "********\n",
      "*********\n"
     ]
    }
   ],
   "source": [
    "number = 10\n",
    "\n",
    "for i in range(number):\n",
    "    print(\"*\"*i)"
   ]
  },
  {
   "cell_type": "code",
   "execution_count": 60,
   "metadata": {},
   "outputs": [
    {
     "name": "stdout",
     "output_type": "stream",
     "text": [
      "          *\n",
      "         **\n",
      "        ***\n",
      "       ****\n",
      "      *****\n",
      "     ******\n",
      "    *******\n",
      "   ********\n",
      "  *********\n",
      " **********\n"
     ]
    }
   ],
   "source": [
    "number = 10\n",
    "\n",
    "for i in range(1, number+1):\n",
    "    print(' '*(number-i), end=' ')\n",
    "    print('*' * i)"
   ]
  },
  {
   "cell_type": "code",
   "execution_count": 57,
   "metadata": {
    "collapsed": true
   },
   "outputs": [],
   "source": [
    "def print_star_rectangle(number, print_ch, space_ch):\n",
    "    for i in range(1, number+1):\n",
    "        print(space_ch * (number-i), end=' ')\n",
    "        print(print_ch * i)"
   ]
  },
  {
   "cell_type": "code",
   "execution_count": 58,
   "metadata": {},
   "outputs": [
    {
     "name": "stdout",
     "output_type": "stream",
     "text": [
      "OOOOOOOOO A\n",
      "OOOOOOOO AA\n",
      "OOOOOOO AAA\n",
      "OOOOOO AAAA\n",
      "OOOOO AAAAA\n",
      "OOOO AAAAAA\n",
      "OOO AAAAAAA\n",
      "OO AAAAAAAA\n",
      "O AAAAAAAAA\n",
      " AAAAAAAAAA\n"
     ]
    }
   ],
   "source": [
    "print_star_rectangle(10, 'A', 'O')"
   ]
  },
  {
   "cell_type": "code",
   "execution_count": 59,
   "metadata": {
    "collapsed": true
   },
   "outputs": [],
   "source": [
    "#위치인자는 키워드 인자보다 무조건 선행되어야 한다."
   ]
  },
  {
   "cell_type": "code",
   "execution_count": 2,
   "metadata": {
    "collapsed": true
   },
   "outputs": [],
   "source": [
    "def say_hello(name, age=21):\n",
    "    print('안녕. 나는 {}이야. {}살이지.'.format(name,age))"
   ]
  },
  {
   "cell_type": "code",
   "execution_count": 3,
   "metadata": {},
   "outputs": [
    {
     "name": "stdout",
     "output_type": "stream",
     "text": [
      "안녕. 나는 dd이야. 21살이지.\n"
     ]
    }
   ],
   "source": [
    "say_hello(\"dd\")"
   ]
  },
  {
   "cell_type": "code",
   "execution_count": 1,
   "metadata": {},
   "outputs": [
    {
     "name": "stdout",
     "output_type": "stream",
     "text": [
      "Enter password:········\n"
     ]
    }
   ],
   "source": [
    "from getpass import getpass\n",
    "password = getpass(\"Enter password:\")"
   ]
  },
  {
   "cell_type": "code",
   "execution_count": 3,
   "metadata": {
    "collapsed": true
   },
   "outputs": [],
   "source": [
    "import smtplib\n",
    "from email.message import EmailMessage\n",
    "\n",
    "naver_account_name = 'ekfqlc0001'\n",
    "naver_account_password = password\n",
    "\n",
    "message = EmailMessage()\n",
    "message['Subject'] = '국민대학교 여름방학 파이썬 강의 테스트'\n",
    "message['From'] = 'ekfqlc0001@naver.com' # 송신자 이메일\n",
    "message['To'] = 'ekfqlc0001@naver.com' # 수신자 이메일 다수 (구분자: 콤마)\n",
    "message.set_content('''\n",
    "열심히 살기로 약속해..!. ;)''')\n",
    "\n",
    "with smtplib.SMTP_SSL('smtp.naver.com', 465 ) as server:\n",
    "    server.ehlo()\n",
    "    server.login( naver_account_name, naver_account_password )\n",
    "    server.send_message(message)\n"
   ]
  },
  {
   "cell_type": "code",
   "execution_count": 18,
   "metadata": {
    "collapsed": true
   },
   "outputs": [],
   "source": [
    "import smtplib\n",
    "from email.message import EmailMessage\n",
    "\n",
    "naver_account_name = 'ekfqlc0001'\n",
    "naver_account_password = password\n",
    "\n",
    "message = EmailMessage()\n",
    "message['Subject'] = '아!!!!!! 팝업스토어 가고싶다!!!!!!!!!!'\n",
    "message['From'] = 'ekfqlc0001@naver.com' # 송신자 이메일\n",
    "message['To'] = 'ekfqlc0001@naver.com' # 수신자 이메일 다수 (구분자: 콤마)\n",
    "message.set_content('''\n",
    "열심히 살기로 약속해..!. ;)''')\n",
    "\n",
    "#HTML메세지 추가\n",
    "\n",
    "message.add_alternative('''\n",
    "    <h1>Ask Django</h1>\n",
    "    \n",
    "    <p>안녕하세요. 반갑습니다. 오늘의 네이버 웹툰 업데이트 현황을 알려드립니다.</p>\n",
    "    \n",
    "    <ul>\n",
    "        <li><a href=\"http://comic.naver.com/webtoon/list.nhn?titleId=20853&weekday=tue\">마음의 소리</a></li>\n",
    "        <li><a href=\"http://comic.naver.com/webtoon/list.nhn?titleId=662774&weekday=wed\">고수</a></li>\n",
    "    </ul>\n",
    "    \n",
    "    <p>내일 다시 메일 드리겠습니다.</p>\n",
    "''', subtype= 'html')\n",
    "\n",
    "with smtplib.SMTP_SSL('smtp.naver.com', 465 ) as server:\n",
    "    server.ehlo()\n",
    "    server.login( naver_account_name, naver_account_password )\n",
    "    server.send_message(message)\n"
   ]
  },
  {
   "cell_type": "code",
   "execution_count": 24,
   "metadata": {
    "collapsed": true
   },
   "outputs": [],
   "source": [
    "import smtplib\n",
    "from email.message import EmailMessage\n",
    "\n",
    "naver_account_name = 'ekfqlc0001'\n",
    "naver_account_password = password\n",
    "receivers = 'ekfqlc0001@naver.com'  # 수신자 이메일 다수 (구분자 : 콤마)\n",
    "\n",
    "message = EmailMessage()\n",
    "message['Subject'] = '네이버 웹툰 업데이트 현황'\n",
    "message['From'] = '{}@naver.com'.format(naver_account_name)\n",
    "message['To'] = receivers\n",
    "\n",
    "# Plain Text\n",
    "message.set_content('''\n",
    "    안녕하세요. 반갑습니다. 오늘의 네이버 웹툰 업데이트 현황을 알려드립니다.\n",
    "\n",
    "    마음의 소리 : http://comic.naver.com/webtoon/list.nhn?titleId=20853&weekday=tue\n",
    "    고수 : http://comic.naver.com/webtoon/list.nhn?titleId=662774&weekday=wed\n",
    "    \n",
    "    내일 다시 메일 드리겠습니다.\n",
    "''')\n",
    "\n",
    "\n",
    "with smtplib.SMTP_SSL('smtp.naver.com', 465) as server:\n",
    "    server.ehlo()\n",
    "    server.login(naver_account_name, naver_account_password)\n",
    "    server.send_message(message)"
   ]
  },
  {
   "cell_type": "markdown",
   "metadata": {
    "collapsed": true
   },
   "source": [
    "## SMS SENDING"
   ]
  },
  {
   "cell_type": "code",
   "execution_count": 1,
   "metadata": {
    "collapsed": true
   },
   "outputs": [],
   "source": [
    "user_id = 'allieussms'                       # FIXME\n",
    "secure = 'a7c90f72ea90f6d9442949057aa16c58'  # FIXME"
   ]
  },
  {
   "cell_type": "code",
   "execution_count": 2,
   "metadata": {},
   "outputs": [
    {
     "name": "stdout",
     "output_type": "stream",
     "text": [
      "89\n"
     ]
    }
   ],
   "source": [
    "# 잔여건수 조회\n",
    "import requests\n",
    "from base64 import b64encode\n",
    "\n",
    "url = 'https://sslsms.cafe24.com/sms_remain.php'\n",
    "\n",
    "params = {\n",
    "    'user_id': b64encode(user_id.encode('euckr')),\n",
    "    'secure': b64encode(secure.encode('euckr')),\n",
    "    'mode': b64encode('1'.encode('euckr')),\n",
    "}\n",
    "\n",
    "response = requests.post(url, data=params)\n",
    "print(response.text)"
   ]
  },
  {
   "cell_type": "code",
   "execution_count": 3,
   "metadata": {},
   "outputs": [
    {
     "name": "stdout",
     "output_type": "stream",
     "text": [
      "success,88\n"
     ]
    }
   ],
   "source": [
    "# SMS 발송\n",
    "\n",
    "url = 'https://sslsms.cafe24.com/sms_sender.php'\n",
    "\n",
    "params = {\n",
    "    'user_id': user_id, 'secure': secure, 'mode': '1',\n",
    "    'sphone1': '010',\n",
    "    'sphone2': '9129',\n",
    "    'sphone3': '4131',\n",
    "    'rphone': '01086217828',  # FIXME : \n",
    "    'msg': 'ALOHA MY FRIEND.',        # FIXME : \n",
    "}\n",
    "\n",
    "data = {}\n",
    "for key, value in params.items():\n",
    "    # 보낼 메세지. 최대 90바이트 # 송신자 앞 3자리\n",
    "    # 송신자 다음 4자리\n",
    "    # 송신자 마지막 4자리\n",
    "    # 수신자 전화번호 목록 : 구분자 콤마\n",
    "    if isinstance(value, str):\n",
    "        encoded = value.encode('euckr')[:90]\n",
    "        encoded = encoded.decode('euckr', 'ignore').encode('euckr')\n",
    "        value = b64encode(encoded)\n",
    "    data[key] = value\n",
    "\n",
    "print(requests.post(url, data=data).text)\n"
   ]
  },
  {
   "cell_type": "code",
   "execution_count": 1,
   "metadata": {},
   "outputs": [
    {
     "name": "stdout",
     "output_type": "stream",
     "text": [
      "개발환경 구축하기 https://nomade.kr/vod/setup/\n",
      "파이썬 차근차근 시작하기 https://nomade.kr/vod/python/\n",
      "크롤링 차근차근 시작하기 https://nomade.kr/vod/crawling/\n",
      "파이썬으로 업무 자동화 https://nomade.kr/vod/automation/\n",
      "장고 - 기본편 https://nomade.kr/vod/django/\n",
      "장고걸스 튜토리얼 https://nomade.kr/vod/djangogirls/\n",
      "장고 - Form/ModelForm 잘 알고 쓰기 https://nomade.kr/vod/form/\n",
      "장고 - 클래스 기반 뷰. 잘 알고 쓰기 https://nomade.kr/vod/cbv/\n",
      "장고 - 결제 시스템 연동 https://nomade.kr/vod/payment/\n",
      "장고 - 웹 프론트엔드 시작편 https://nomade.kr/vod/frontend/\n",
      "장고 - 다양한 위젯 만들기 https://nomade.kr/vod/widgets/\n",
      "장고 - API 서버 만들기 및 초간단 안드로이드 앱 만들기 https://nomade.kr/vod/apiserver/\n",
      "장고 - 하이브리드 앱 만들기 https://nomade.kr/vod/hybrid/\n",
      "장고 - 서비스 배포하기 https://nomade.kr/vod/deploy/\n",
      "장고 - 실전편 (Feat. 배달의 민족 St. 만들기) https://nomade.kr/vod/django-baemin/\n",
      "장고 - 실전편 (Feat. 인스타그램 St. 만들기) https://nomade.kr/vod/django-instagram/\n"
     ]
    }
   ],
   "source": [
    "import requests\n",
    "from bs4 import BeautifulSoup\n",
    "\n",
    "html = requests.get('https://askdjango.github.io/lv1/').text\n",
    "soup = BeautifulSoup(html, 'html.parser')\n",
    "\n",
    "for tag in soup.select('#course_list > .course > a'):\n",
    "    print(tag.text, tag['href'])"
   ]
  },
  {
   "cell_type": "markdown",
   "metadata": {},
   "source": [
    "## 멜론검색 "
   ]
  },
  {
   "cell_type": "code",
   "execution_count": 7,
   "metadata": {},
   "outputs": [
    {
     "name": "stdout",
     "output_type": "stream",
     "text": [
      "_({\"STATUS\":\"0\",\"KEYWORD\":\"방탄소년단\",\"ARTISTCONTENTS\":[{\"ARTISTID\":\"672375\",\"ARTISTNAME\":\"방탄소년단\",\"ARTISTNAMEDP\":\"<b>방탄소년단</b>\",\"ARITSTIMG\":\"http://cdnimg.melon.co.kr/cm/artistcrop/images/006/72/375/672375_500.jpg/melon/resize/40/quality/80/optimize\",\"NATIONALITYNAME\":\"대한민국\",\"SEX\":\"남성\",\"ACTTYPENAMES\":\"그룹\"}],\"SONGCONTENTS\":[{\"SONGID\":\"30244931\",\"SONGNAME\":\"봄날\",\"SONGNAMEDP\":\"봄날\",\"ALBUMIMG\":\"http://cdnimg.melon.co.kr/cm/album/images/100/37/969/10037969_500.jpg/melon/resize/40/quality/80/optimize\",\"ALBUMID\":\"10037969\",\"ALBUMNAME\":\"YOU NEVER WALK ALONE\",\"ARTISTNAME\":\"방탄소년단\"},{\"SONGID\":\"30029173\",\"SONGNAME\":\"피 땀 눈물\",\"SONGNAMEDP\":\"피 땀 눈물\",\"ALBUMIMG\":\"http://cdnimg.melon.co.kr/cm/album/images/100/04/707/10004707_500.jpg/melon/resize/40/quality/80/optimize\",\"ALBUMID\":\"10004707\",\"ALBUMNAME\":\"WINGS\",\"ARTISTNAME\":\"방탄소년단\"},{\"SONGID\":\"8167307\",\"SONGNAME\":\"불타오르네 (FIRE)\",\"SONGNAMEDP\":\"불타오르네 (FIRE)\",\"ALBUMIMG\":\"http://cdnimg.melon.co.kr/cm/album/images/026/80/573/2680573_500.jpg/melon/resize/40/quality/80/optimize\",\"ALBUMID\":\"2680573\",\"ALBUMNAME\":\"화양연화 Young Forever\",\"ARTISTNAME\":\"방탄소년단\"},{\"SONGID\":\"30244932\",\"SONGNAME\":\"Not Today\",\"SONGNAMEDP\":\"Not Today\",\"ALBUMIMG\":\"http://cdnimg.melon.co.kr/cm/album/images/100/37/969/10037969_500.jpg/melon/resize/40/quality/80/optimize\",\"ALBUMID\":\"10037969\",\"ALBUMNAME\":\"YOU NEVER WALK ALONE\",\"ARTISTNAME\":\"방탄소년단\"},{\"SONGID\":\"5681153\",\"SONGNAME\":\"I NEED U\",\"SONGNAMEDP\":\"I NEED U\",\"ALBUMIMG\":\"http://cdnimg.melon.co.kr/cm/album/images/023/16/261/2316261_500.jpg/melon/resize/40/quality/80/optimize\",\"ALBUMID\":\"2316261\",\"ALBUMNAME\":\"화양연화 pt.1\",\"ARTISTNAME\":\"방탄소년단\"},{\"SONGID\":\"4446449\",\"SONGNAME\":\"상남자 (Boy In Luv)\",\"SONGNAMEDP\":\"상남자 (Boy In Luv)\",\"ALBUMIMG\":\"http://cdnimg.melon.co.kr/cm/album/images/022/32/496/2232496_500.jpg/melon/resize/40/quality/80/optimize\",\"ALBUMID\":\"2232496\",\"ALBUMNAME\":\"Skool Luv Affair\",\"ARTISTNAME\":\"방탄소년단\"},{\"SONGID\":\"30505875\",\"SONGNAME\":\"Come Back Home\",\"SONGNAMEDP\":\"Come Back Home\",\"ALBUMIMG\":\"http://cdnimg.melon.co.kr/cm/album/images/100/76/659/10076659_500.jpg/melon/resize/40/quality/80/optimize\",\"ALBUMID\":\"10076659\",\"ALBUMNAME\":\"Come Back Home\",\"ARTISTNAME\":\"방탄소년단\"},{\"SONGID\":\"5681156\",\"SONGNAME\":\"쩔어\",\"SONGNAMEDP\":\"쩔어\",\"ALBUMIMG\":\"http://cdnimg.melon.co.kr/cm/album/images/023/16/261/2316261_500.jpg/melon/resize/40/quality/80/optimize\",\"ALBUMID\":\"2316261\",\"ALBUMNAME\":\"화양연화 pt.1\",\"ARTISTNAME\":\"방탄소년단\"},{\"SONGID\":\"8167308\",\"SONGNAME\":\"Save ME\",\"SONGNAMEDP\":\"Save ME\",\"ALBUMIMG\":\"http://cdnimg.melon.co.kr/cm/album/images/026/80/573/2680573_500.jpg/melon/resize/40/quality/80/optimize\",\"ALBUMID\":\"2680573\",\"ALBUMNAME\":\"화양연화 Young Forever\",\"ARTISTNAME\":\"방탄소년단\"},{\"SONGID\":\"7953785\",\"SONGNAME\":\"RUN\",\"SONGNAMEDP\":\"RUN\",\"ALBUMIMG\":\"http://cdnimg.melon.co.kr/cm/album/images/026/53/551/2653551_2_500.jpg/melon/resize/40/quality/80/optimize\",\"ALBUMID\":\"2653551\",\"ALBUMNAME\":\"화양연화 pt.2\",\"ARTISTNAME\":\"방탄소년단\"},{\"SONGID\":\"7953786\",\"SONGNAME\":\"Butterfly\",\"SONGNAMEDP\":\"Butterfly\",\"ALBUMIMG\":\"http://cdnimg.melon.co.kr/cm/album/images/026/53/551/2653551_2_500.jpg/melon/resize/40/quality/80/optimize\",\"ALBUMID\":\"2653551\",\"ALBUMNAME\":\"화양연화 pt.2\",\"ARTISTNAME\":\"방탄소년단\"},{\"SONGID\":\"4824733\",\"SONGNAME\":\"Danger\",\"SONGNAMEDP\":\"Danger\",\"ALBUMIMG\":\"http://cdnimg.melon.co.kr/cm/album/images/022/75/731/2275731_500.jpg/melon/resize/40/quality/80/optimize\",\"ALBUMID\":\"2275731\",\"ALBUMNAME\":\"DARK&WILD\",\"ARTISTNAME\":\"방탄소년단\"},{\"SONGID\":\"30244926\",\"SONGNAME\":\"Lost\",\"SONGNAMEDP\":\"Lost\",\"ALBUMIMG\":\"http://cdnimg.melon.co.kr/cm/album/images/100/37/969/10037969_500.jpg/melon/resize/40/quality/80/optimize\",\"ALBUMID\":\"10037969\",\"ALBUMNAME\":\"YOU NEVER WALK ALONE\",\"ARTISTNAME\":\"방탄소년단\"},{\"SONGID\":\"4643464\",\"SONGNAME\":\"Miss Right\",\"SONGNAMEDP\":\"Miss Right\",\"ALBUMIMG\":\"http://cdnimg.melon.co.kr/cm/album/images/022/56/072/2256072_500.jpg/melon/resize/40/quality/80/optimize\",\"ALBUMID\":\"2256072\",\"ALBUMNAME\":\"Skool Luv Affair Special Addition\",\"ARTISTNAME\":\"방탄소년단\"},{\"SONGID\":\"30244929\",\"SONGNAME\":\"21세기 소녀\",\"SONGNAMEDP\":\"21세기 소녀\",\"ALBUMIMG\":\"http://cdnimg.melon.co.kr/cm/album/images/100/37/969/10037969_500.jpg/melon/resize/40/quality/80/optimize\",\"ALBUMID\":\"10037969\",\"ALBUMNAME\":\"YOU NEVER WALK ALONE\",\"ARTISTNAME\":\"방탄소년단\"}],\"ALBUMCONTENTS\":[{\"ALBUMID\":\"10037969\",\"ALBUMNAME\":\"YOU NEVER WALK ALONE\",\"ALBUMNAMEDP\":\"YOU NEVER WALK ALONE\",\"ALBUMIMG\":\"http://cdnimg.melon.co.kr/cm/album/images/100/37/969/10037969_500.jpg/melon/resize/40/quality/80/optimize\",\"ARTISTNAME\":\"방탄소년단\"},{\"ALBUMID\":\"10004707\",\"ALBUMNAME\":\"WINGS\",\"ALBUMNAMEDP\":\"WINGS\",\"ALBUMIMG\":\"http://cdnimg.melon.co.kr/cm/album/images/100/04/707/10004707_500.jpg/melon/resize/40/quality/80/optimize\",\"ARTISTNAME\":\"방탄소년단\"},{\"ALBUMID\":\"2680573\",\"ALBUMNAME\":\"화양연화 Young Forever\",\"ALBUMNAMEDP\":\"화양연화 Young Forever\",\"ALBUMIMG\":\"http://cdnimg.melon.co.kr/cm/album/images/026/80/573/2680573_500.jpg/melon/resize/40/quality/80/optimize\",\"ARTISTNAME\":\"방탄소년단\"},{\"ALBUMID\":\"2653551\",\"ALBUMNAME\":\"화양연화 pt.2\",\"ALBUMNAMEDP\":\"화양연화 pt.2\",\"ALBUMIMG\":\"http://cdnimg.melon.co.kr/cm/album/images/026/53/551/2653551_2_500.jpg/melon/resize/40/quality/80/optimize\",\"ARTISTNAME\":\"방탄소년단\"},{\"ALBUMID\":\"2316261\",\"ALBUMNAME\":\"화양연화 pt.1\",\"ALBUMNAMEDP\":\"화양연화 pt.1\",\"ALBUMIMG\":\"http://cdnimg.melon.co.kr/cm/album/images/023/16/261/2316261_500.jpg/melon/resize/40/quality/80/optimize\",\"ARTISTNAME\":\"방탄소년단\"},{\"ALBUMID\":\"2275731\",\"ALBUMNAME\":\"DARK&WILD\",\"ALBUMNAMEDP\":\"DARK&WILD\",\"ALBUMIMG\":\"http://cdnimg.melon.co.kr/cm/album/images/022/75/731/2275731_500.jpg/melon/resize/40/quality/80/optimize\",\"ARTISTNAME\":\"방탄소년단\"},{\"ALBUMID\":\"2188611\",\"ALBUMNAME\":\"2 COOL 4 SKOOL\",\"ALBUMNAMEDP\":\"2 COOL 4 SKOOL\",\"ALBUMIMG\":\"http://cdnimg.melon.co.kr/cm/album/images/021/88/611/2188611_500.jpg/melon/resize/40/quality/80/optimize\",\"ARTISTNAME\":\"방탄소년단\"},{\"ALBUMID\":\"10076659\",\"ALBUMNAME\":\"Come Back Home\",\"ALBUMNAMEDP\":\"Come Back Home\",\"ALBUMIMG\":\"http://cdnimg.melon.co.kr/cm/album/images/100/76/659/10076659_500.jpg/melon/resize/40/quality/80/optimize\",\"ARTISTNAME\":\"방탄소년단\"},{\"ALBUMID\":\"10013707\",\"ALBUMNAME\":\"YOUTH\",\"ALBUMNAMEDP\":\"YOUTH\",\"ALBUMIMG\":\"http://cdnimg.melon.co.kr/cm/album/images/100/13/707/10013707_500.jpg/melon/resize/40/quality/80/optimize\",\"ARTISTNAME\":\"방탄소년단\"},{\"ALBUMID\":\"2232496\",\"ALBUMNAME\":\"Skool Luv Affair\",\"ALBUMNAMEDP\":\"Skool Luv Affair\",\"ALBUMIMG\":\"http://cdnimg.melon.co.kr/cm/album/images/022/32/496/2232496_500.jpg/melon/resize/40/quality/80/optimize\",\"ARTISTNAME\":\"방탄소년단\"},{\"ALBUMID\":\"2200733\",\"ALBUMNAME\":\"O!RUL8,2?\",\"ALBUMNAMEDP\":\"O!RUL8,2?\",\"ALBUMIMG\":\"http://cdnimg.melon.co.kr/cm/album/images/022/00/733/2200733_500.jpg/melon/resize/40/quality/80/optimize\",\"ARTISTNAME\":\"방탄소년단\"},{\"ALBUMID\":\"2256072\",\"ALBUMNAME\":\"Skool Luv Affair Special Addition\",\"ALBUMNAMEDP\":\"Skool Luv Affair Special Addition\",\"ALBUMIMG\":\"http://cdnimg.melon.co.kr/cm/album/images/022/56/072/2256072_500.jpg/melon/resize/40/quality/80/optimize\",\"ARTISTNAME\":\"방탄소년단\"},{\"ALBUMID\":\"2306283\",\"ALBUMNAME\":\"WAKE UP\",\"ALBUMNAMEDP\":\"WAKE UP\",\"ALBUMIMG\":\"http://cdnimg.melon.co.kr/cm/album/images/023/06/283/2306283_500.jpg/melon/resize/40/quality/80/optimize\",\"ARTISTNAME\":\"방탄소년단\"},{\"ALBUMID\":\"2336223\",\"ALBUMNAME\":\"FOR YOU\",\"ALBUMNAMEDP\":\"FOR YOU\",\"ALBUMIMG\":\"http://cdnimg.melon.co.kr/cm/album/images/023/36/223/2336223_500.jpg/melon/resize/40/quality/80/optimize\",\"ARTISTNAME\":\"방탄소년단\"},{\"ALBUMID\":\"2291793\",\"ALBUMNAME\":\"Danger (Mo-Blue-Mix) (Feat. Thanh)\",\"ALBUMNAMEDP\":\"Danger (Mo-Blue-Mix) (Feat. Thanh)\",\"ALBUMIMG\":\"http://cdnimg.melon.co.kr/cm/album/images/022/91/793/2291793_500.jpg/melon/resize/40/quality/80/optimize\",\"ARTISTNAME\":\"방탄소년단\"}],\"KEYWORDCONTENTS\":[{\"KEYWORDDP\":\"<b>방탄소년단</b>\",\"KEYWORD\":\"방탄소년단\"},{\"KEYWORDDP\":\"<b>방탄소년단</b> 화양연화 Young Forever\",\"KEYWORD\":\"방탄소년단 화양연화 Young Forever\"},{\"KEYWORDDP\":\"<b>방탄소년단</b> 쩔어\",\"KEYWORD\":\"방탄소년단 쩔어\"},{\"KEYWORDDP\":\"<b>방탄소년단</b> 화양연화 pt.2\",\"KEYWORD\":\"방탄소년단 화양연화 pt.2\"},{\"KEYWORDDP\":\"<b>방탄소년단</b> 화양연화 pt.1\",\"KEYWORD\":\"방탄소년단 화양연화 pt.1\"},{\"KEYWORDDP\":\"<b>방탄소년단</b> FOR YOU\",\"KEYWORD\":\"방탄소년단 FOR YOU\"},{\"KEYWORDDP\":\"<b>방탄소년단</b> Wings\",\"KEYWORD\":\"방탄소년단 Wings\"},{\"KEYWORDDP\":\"<b>방탄소년단</b> YOU NEVER WALK ALONE\",\"KEYWORD\":\"방탄소년단 YOU NEVER WALK ALONE\"},{\"KEYWORDDP\":\"<b>방탄소년단</b> 2015\",\"KEYWORD\":\"방탄소년단 2015\"},{\"KEYWORDDP\":\"<b>방탄소년단</b> 호르몬 전쟁\",\"KEYWORD\":\"방탄소년단 호르몬 전쟁\"},{\"KEYWORDDP\":\"<b>방탄소년단</b> 봄날\",\"KEYWORD\":\"방탄소년단 봄날\"},{\"KEYWORDDP\":\"<b>방탄소년단</b> Danger\",\"KEYWORD\":\"방탄소년단 Danger\"},{\"KEYWORDDP\":\"<b>방탄소년단</b> 화양연화 개화\",\"KEYWORD\":\"방탄소년단 화양연화 개화\"},{\"KEYWORDDP\":\"<b>방탄소년단</b> 화양연화 백일몽\",\"KEYWORD\":\"방탄소년단 화양연화 백일몽\"},{\"KEYWORDDP\":\"<b>방탄소년단</b> 컴백홈\",\"KEYWORD\":\"방탄소년단 컴백홈\"}],\"httpDomain\":\"http://www.melon.com\",\"httpsDomain\":\"https://www.melon.com\",\"staticDomain\":\"https://static.melon.co.kr\"});\n"
     ]
    }
   ],
   "source": [
    "import requests\n",
    "search_url = \"http://www.melon.com/search/keyword/index.json\"\n",
    "params = {\n",
    "    \"jscallback\" : \"_\",\n",
    "    \"query\" : \"방탄소년단\",\n",
    "}\n",
    "jsonp_string = requests.get(search_url, params=params).text\n",
    "print(jsonp_string)"
   ]
  },
  {
   "cell_type": "code",
   "execution_count": 9,
   "metadata": {},
   "outputs": [
    {
     "data": {
      "text/plain": [
       "{'ALBUMCONTENTS': [{'ALBUMID': '10037969',\n",
       "   'ALBUMIMG': 'http://cdnimg.melon.co.kr/cm/album/images/100/37/969/10037969_500.jpg/melon/resize/40/quality/80/optimize',\n",
       "   'ALBUMNAME': 'YOU NEVER WALK ALONE',\n",
       "   'ALBUMNAMEDP': 'YOU NEVER WALK ALONE',\n",
       "   'ARTISTNAME': '방탄소년단'},\n",
       "  {'ALBUMID': '10004707',\n",
       "   'ALBUMIMG': 'http://cdnimg.melon.co.kr/cm/album/images/100/04/707/10004707_500.jpg/melon/resize/40/quality/80/optimize',\n",
       "   'ALBUMNAME': 'WINGS',\n",
       "   'ALBUMNAMEDP': 'WINGS',\n",
       "   'ARTISTNAME': '방탄소년단'},\n",
       "  {'ALBUMID': '2680573',\n",
       "   'ALBUMIMG': 'http://cdnimg.melon.co.kr/cm/album/images/026/80/573/2680573_500.jpg/melon/resize/40/quality/80/optimize',\n",
       "   'ALBUMNAME': '화양연화 Young Forever',\n",
       "   'ALBUMNAMEDP': '화양연화 Young Forever',\n",
       "   'ARTISTNAME': '방탄소년단'},\n",
       "  {'ALBUMID': '2653551',\n",
       "   'ALBUMIMG': 'http://cdnimg.melon.co.kr/cm/album/images/026/53/551/2653551_2_500.jpg/melon/resize/40/quality/80/optimize',\n",
       "   'ALBUMNAME': '화양연화 pt.2',\n",
       "   'ALBUMNAMEDP': '화양연화 pt.2',\n",
       "   'ARTISTNAME': '방탄소년단'},\n",
       "  {'ALBUMID': '2316261',\n",
       "   'ALBUMIMG': 'http://cdnimg.melon.co.kr/cm/album/images/023/16/261/2316261_500.jpg/melon/resize/40/quality/80/optimize',\n",
       "   'ALBUMNAME': '화양연화 pt.1',\n",
       "   'ALBUMNAMEDP': '화양연화 pt.1',\n",
       "   'ARTISTNAME': '방탄소년단'},\n",
       "  {'ALBUMID': '2275731',\n",
       "   'ALBUMIMG': 'http://cdnimg.melon.co.kr/cm/album/images/022/75/731/2275731_500.jpg/melon/resize/40/quality/80/optimize',\n",
       "   'ALBUMNAME': 'DARK&WILD',\n",
       "   'ALBUMNAMEDP': 'DARK&WILD',\n",
       "   'ARTISTNAME': '방탄소년단'},\n",
       "  {'ALBUMID': '2188611',\n",
       "   'ALBUMIMG': 'http://cdnimg.melon.co.kr/cm/album/images/021/88/611/2188611_500.jpg/melon/resize/40/quality/80/optimize',\n",
       "   'ALBUMNAME': '2 COOL 4 SKOOL',\n",
       "   'ALBUMNAMEDP': '2 COOL 4 SKOOL',\n",
       "   'ARTISTNAME': '방탄소년단'},\n",
       "  {'ALBUMID': '10076659',\n",
       "   'ALBUMIMG': 'http://cdnimg.melon.co.kr/cm/album/images/100/76/659/10076659_500.jpg/melon/resize/40/quality/80/optimize',\n",
       "   'ALBUMNAME': 'Come Back Home',\n",
       "   'ALBUMNAMEDP': 'Come Back Home',\n",
       "   'ARTISTNAME': '방탄소년단'},\n",
       "  {'ALBUMID': '10013707',\n",
       "   'ALBUMIMG': 'http://cdnimg.melon.co.kr/cm/album/images/100/13/707/10013707_500.jpg/melon/resize/40/quality/80/optimize',\n",
       "   'ALBUMNAME': 'YOUTH',\n",
       "   'ALBUMNAMEDP': 'YOUTH',\n",
       "   'ARTISTNAME': '방탄소년단'},\n",
       "  {'ALBUMID': '2232496',\n",
       "   'ALBUMIMG': 'http://cdnimg.melon.co.kr/cm/album/images/022/32/496/2232496_500.jpg/melon/resize/40/quality/80/optimize',\n",
       "   'ALBUMNAME': 'Skool Luv Affair',\n",
       "   'ALBUMNAMEDP': 'Skool Luv Affair',\n",
       "   'ARTISTNAME': '방탄소년단'},\n",
       "  {'ALBUMID': '2200733',\n",
       "   'ALBUMIMG': 'http://cdnimg.melon.co.kr/cm/album/images/022/00/733/2200733_500.jpg/melon/resize/40/quality/80/optimize',\n",
       "   'ALBUMNAME': 'O!RUL8,2?',\n",
       "   'ALBUMNAMEDP': 'O!RUL8,2?',\n",
       "   'ARTISTNAME': '방탄소년단'},\n",
       "  {'ALBUMID': '2256072',\n",
       "   'ALBUMIMG': 'http://cdnimg.melon.co.kr/cm/album/images/022/56/072/2256072_500.jpg/melon/resize/40/quality/80/optimize',\n",
       "   'ALBUMNAME': 'Skool Luv Affair Special Addition',\n",
       "   'ALBUMNAMEDP': 'Skool Luv Affair Special Addition',\n",
       "   'ARTISTNAME': '방탄소년단'},\n",
       "  {'ALBUMID': '2306283',\n",
       "   'ALBUMIMG': 'http://cdnimg.melon.co.kr/cm/album/images/023/06/283/2306283_500.jpg/melon/resize/40/quality/80/optimize',\n",
       "   'ALBUMNAME': 'WAKE UP',\n",
       "   'ALBUMNAMEDP': 'WAKE UP',\n",
       "   'ARTISTNAME': '방탄소년단'},\n",
       "  {'ALBUMID': '2336223',\n",
       "   'ALBUMIMG': 'http://cdnimg.melon.co.kr/cm/album/images/023/36/223/2336223_500.jpg/melon/resize/40/quality/80/optimize',\n",
       "   'ALBUMNAME': 'FOR YOU',\n",
       "   'ALBUMNAMEDP': 'FOR YOU',\n",
       "   'ARTISTNAME': '방탄소년단'},\n",
       "  {'ALBUMID': '2291793',\n",
       "   'ALBUMIMG': 'http://cdnimg.melon.co.kr/cm/album/images/022/91/793/2291793_500.jpg/melon/resize/40/quality/80/optimize',\n",
       "   'ALBUMNAME': 'Danger (Mo-Blue-Mix) (Feat. Thanh)',\n",
       "   'ALBUMNAMEDP': 'Danger (Mo-Blue-Mix) (Feat. Thanh)',\n",
       "   'ARTISTNAME': '방탄소년단'}],\n",
       " 'ARTISTCONTENTS': [{'ACTTYPENAMES': '그룹',\n",
       "   'ARITSTIMG': 'http://cdnimg.melon.co.kr/cm/artistcrop/images/006/72/375/672375_500.jpg/melon/resize/40/quality/80/optimize',\n",
       "   'ARTISTID': '672375',\n",
       "   'ARTISTNAME': '방탄소년단',\n",
       "   'ARTISTNAMEDP': '<b>방탄소년단</b>',\n",
       "   'NATIONALITYNAME': '대한민국',\n",
       "   'SEX': '남성'}],\n",
       " 'KEYWORD': '방탄소년단',\n",
       " 'KEYWORDCONTENTS': [{'KEYWORD': '방탄소년단', 'KEYWORDDP': '<b>방탄소년단</b>'},\n",
       "  {'KEYWORD': '방탄소년단 화양연화 Young Forever',\n",
       "   'KEYWORDDP': '<b>방탄소년단</b> 화양연화 Young Forever'},\n",
       "  {'KEYWORD': '방탄소년단 쩔어', 'KEYWORDDP': '<b>방탄소년단</b> 쩔어'},\n",
       "  {'KEYWORD': '방탄소년단 화양연화 pt.2', 'KEYWORDDP': '<b>방탄소년단</b> 화양연화 pt.2'},\n",
       "  {'KEYWORD': '방탄소년단 화양연화 pt.1', 'KEYWORDDP': '<b>방탄소년단</b> 화양연화 pt.1'},\n",
       "  {'KEYWORD': '방탄소년단 FOR YOU', 'KEYWORDDP': '<b>방탄소년단</b> FOR YOU'},\n",
       "  {'KEYWORD': '방탄소년단 Wings', 'KEYWORDDP': '<b>방탄소년단</b> Wings'},\n",
       "  {'KEYWORD': '방탄소년단 YOU NEVER WALK ALONE',\n",
       "   'KEYWORDDP': '<b>방탄소년단</b> YOU NEVER WALK ALONE'},\n",
       "  {'KEYWORD': '방탄소년단 2015', 'KEYWORDDP': '<b>방탄소년단</b> 2015'},\n",
       "  {'KEYWORD': '방탄소년단 호르몬 전쟁', 'KEYWORDDP': '<b>방탄소년단</b> 호르몬 전쟁'},\n",
       "  {'KEYWORD': '방탄소년단 봄날', 'KEYWORDDP': '<b>방탄소년단</b> 봄날'},\n",
       "  {'KEYWORD': '방탄소년단 Danger', 'KEYWORDDP': '<b>방탄소년단</b> Danger'},\n",
       "  {'KEYWORD': '방탄소년단 화양연화 개화', 'KEYWORDDP': '<b>방탄소년단</b> 화양연화 개화'},\n",
       "  {'KEYWORD': '방탄소년단 화양연화 백일몽', 'KEYWORDDP': '<b>방탄소년단</b> 화양연화 백일몽'},\n",
       "  {'KEYWORD': '방탄소년단 컴백홈', 'KEYWORDDP': '<b>방탄소년단</b> 컴백홈'}],\n",
       " 'SONGCONTENTS': [{'ALBUMID': '10037969',\n",
       "   'ALBUMIMG': 'http://cdnimg.melon.co.kr/cm/album/images/100/37/969/10037969_500.jpg/melon/resize/40/quality/80/optimize',\n",
       "   'ALBUMNAME': 'YOU NEVER WALK ALONE',\n",
       "   'ARTISTNAME': '방탄소년단',\n",
       "   'SONGID': '30244931',\n",
       "   'SONGNAME': '봄날',\n",
       "   'SONGNAMEDP': '봄날'},\n",
       "  {'ALBUMID': '10004707',\n",
       "   'ALBUMIMG': 'http://cdnimg.melon.co.kr/cm/album/images/100/04/707/10004707_500.jpg/melon/resize/40/quality/80/optimize',\n",
       "   'ALBUMNAME': 'WINGS',\n",
       "   'ARTISTNAME': '방탄소년단',\n",
       "   'SONGID': '30029173',\n",
       "   'SONGNAME': '피 땀 눈물',\n",
       "   'SONGNAMEDP': '피 땀 눈물'},\n",
       "  {'ALBUMID': '2680573',\n",
       "   'ALBUMIMG': 'http://cdnimg.melon.co.kr/cm/album/images/026/80/573/2680573_500.jpg/melon/resize/40/quality/80/optimize',\n",
       "   'ALBUMNAME': '화양연화 Young Forever',\n",
       "   'ARTISTNAME': '방탄소년단',\n",
       "   'SONGID': '8167307',\n",
       "   'SONGNAME': '불타오르네 (FIRE)',\n",
       "   'SONGNAMEDP': '불타오르네 (FIRE)'},\n",
       "  {'ALBUMID': '10037969',\n",
       "   'ALBUMIMG': 'http://cdnimg.melon.co.kr/cm/album/images/100/37/969/10037969_500.jpg/melon/resize/40/quality/80/optimize',\n",
       "   'ALBUMNAME': 'YOU NEVER WALK ALONE',\n",
       "   'ARTISTNAME': '방탄소년단',\n",
       "   'SONGID': '30244932',\n",
       "   'SONGNAME': 'Not Today',\n",
       "   'SONGNAMEDP': 'Not Today'},\n",
       "  {'ALBUMID': '2316261',\n",
       "   'ALBUMIMG': 'http://cdnimg.melon.co.kr/cm/album/images/023/16/261/2316261_500.jpg/melon/resize/40/quality/80/optimize',\n",
       "   'ALBUMNAME': '화양연화 pt.1',\n",
       "   'ARTISTNAME': '방탄소년단',\n",
       "   'SONGID': '5681153',\n",
       "   'SONGNAME': 'I NEED U',\n",
       "   'SONGNAMEDP': 'I NEED U'},\n",
       "  {'ALBUMID': '2232496',\n",
       "   'ALBUMIMG': 'http://cdnimg.melon.co.kr/cm/album/images/022/32/496/2232496_500.jpg/melon/resize/40/quality/80/optimize',\n",
       "   'ALBUMNAME': 'Skool Luv Affair',\n",
       "   'ARTISTNAME': '방탄소년단',\n",
       "   'SONGID': '4446449',\n",
       "   'SONGNAME': '상남자 (Boy In Luv)',\n",
       "   'SONGNAMEDP': '상남자 (Boy In Luv)'},\n",
       "  {'ALBUMID': '10076659',\n",
       "   'ALBUMIMG': 'http://cdnimg.melon.co.kr/cm/album/images/100/76/659/10076659_500.jpg/melon/resize/40/quality/80/optimize',\n",
       "   'ALBUMNAME': 'Come Back Home',\n",
       "   'ARTISTNAME': '방탄소년단',\n",
       "   'SONGID': '30505875',\n",
       "   'SONGNAME': 'Come Back Home',\n",
       "   'SONGNAMEDP': 'Come Back Home'},\n",
       "  {'ALBUMID': '2316261',\n",
       "   'ALBUMIMG': 'http://cdnimg.melon.co.kr/cm/album/images/023/16/261/2316261_500.jpg/melon/resize/40/quality/80/optimize',\n",
       "   'ALBUMNAME': '화양연화 pt.1',\n",
       "   'ARTISTNAME': '방탄소년단',\n",
       "   'SONGID': '5681156',\n",
       "   'SONGNAME': '쩔어',\n",
       "   'SONGNAMEDP': '쩔어'},\n",
       "  {'ALBUMID': '2680573',\n",
       "   'ALBUMIMG': 'http://cdnimg.melon.co.kr/cm/album/images/026/80/573/2680573_500.jpg/melon/resize/40/quality/80/optimize',\n",
       "   'ALBUMNAME': '화양연화 Young Forever',\n",
       "   'ARTISTNAME': '방탄소년단',\n",
       "   'SONGID': '8167308',\n",
       "   'SONGNAME': 'Save ME',\n",
       "   'SONGNAMEDP': 'Save ME'},\n",
       "  {'ALBUMID': '2653551',\n",
       "   'ALBUMIMG': 'http://cdnimg.melon.co.kr/cm/album/images/026/53/551/2653551_2_500.jpg/melon/resize/40/quality/80/optimize',\n",
       "   'ALBUMNAME': '화양연화 pt.2',\n",
       "   'ARTISTNAME': '방탄소년단',\n",
       "   'SONGID': '7953785',\n",
       "   'SONGNAME': 'RUN',\n",
       "   'SONGNAMEDP': 'RUN'},\n",
       "  {'ALBUMID': '2653551',\n",
       "   'ALBUMIMG': 'http://cdnimg.melon.co.kr/cm/album/images/026/53/551/2653551_2_500.jpg/melon/resize/40/quality/80/optimize',\n",
       "   'ALBUMNAME': '화양연화 pt.2',\n",
       "   'ARTISTNAME': '방탄소년단',\n",
       "   'SONGID': '7953786',\n",
       "   'SONGNAME': 'Butterfly',\n",
       "   'SONGNAMEDP': 'Butterfly'},\n",
       "  {'ALBUMID': '2275731',\n",
       "   'ALBUMIMG': 'http://cdnimg.melon.co.kr/cm/album/images/022/75/731/2275731_500.jpg/melon/resize/40/quality/80/optimize',\n",
       "   'ALBUMNAME': 'DARK&WILD',\n",
       "   'ARTISTNAME': '방탄소년단',\n",
       "   'SONGID': '4824733',\n",
       "   'SONGNAME': 'Danger',\n",
       "   'SONGNAMEDP': 'Danger'},\n",
       "  {'ALBUMID': '10037969',\n",
       "   'ALBUMIMG': 'http://cdnimg.melon.co.kr/cm/album/images/100/37/969/10037969_500.jpg/melon/resize/40/quality/80/optimize',\n",
       "   'ALBUMNAME': 'YOU NEVER WALK ALONE',\n",
       "   'ARTISTNAME': '방탄소년단',\n",
       "   'SONGID': '30244926',\n",
       "   'SONGNAME': 'Lost',\n",
       "   'SONGNAMEDP': 'Lost'},\n",
       "  {'ALBUMID': '2256072',\n",
       "   'ALBUMIMG': 'http://cdnimg.melon.co.kr/cm/album/images/022/56/072/2256072_500.jpg/melon/resize/40/quality/80/optimize',\n",
       "   'ALBUMNAME': 'Skool Luv Affair Special Addition',\n",
       "   'ARTISTNAME': '방탄소년단',\n",
       "   'SONGID': '4643464',\n",
       "   'SONGNAME': 'Miss Right',\n",
       "   'SONGNAMEDP': 'Miss Right'},\n",
       "  {'ALBUMID': '10037969',\n",
       "   'ALBUMIMG': 'http://cdnimg.melon.co.kr/cm/album/images/100/37/969/10037969_500.jpg/melon/resize/40/quality/80/optimize',\n",
       "   'ALBUMNAME': 'YOU NEVER WALK ALONE',\n",
       "   'ARTISTNAME': '방탄소년단',\n",
       "   'SONGID': '30244929',\n",
       "   'SONGNAME': '21세기 소녀',\n",
       "   'SONGNAMEDP': '21세기 소녀'}],\n",
       " 'STATUS': '0',\n",
       " 'httpDomain': 'http://www.melon.com',\n",
       " 'httpsDomain': 'https://www.melon.com',\n",
       " 'staticDomain': 'https://static.melon.co.kr'}"
      ]
     },
     "execution_count": 9,
     "metadata": {},
     "output_type": "execute_result"
    }
   ],
   "source": [
    "import json\n",
    "\n",
    "json_string = jsonp_string.replace('_(','').replace(');', '')\n",
    "search_result = json.loads(json_string)\n",
    "search_result"
   ]
  },
  {
   "cell_type": "code",
   "execution_count": 10,
   "metadata": {},
   "outputs": [
    {
     "data": {
      "text/plain": [
       "dict_keys(['ARTISTCONTENTS', 'KEYWORDCONTENTS', 'SONGCONTENTS', 'httpDomain', 'staticDomain', 'httpsDomain', 'ALBUMCONTENTS', 'KEYWORD', 'STATUS'])"
      ]
     },
     "execution_count": 10,
     "metadata": {},
     "output_type": "execute_result"
    }
   ],
   "source": [
    "  search_result.keys()"
   ]
  },
  {
   "cell_type": "code",
   "execution_count": 16,
   "metadata": {},
   "outputs": [
    {
     "data": {
      "text/html": [
       "<img src=\"http://cdnimg.melon.co.kr/cm/album/images/100/37/969/10037969_500.jpg/melon/resize/40/quality/80/optimize\"/>"
      ],
      "text/plain": [
       "<IPython.core.display.Image object>"
      ]
     },
     "metadata": {},
     "output_type": "display_data"
    },
    {
     "name": "stdout",
     "output_type": "stream",
     "text": [
      "[YOU NEVER WALK ALONE] 봄날 - 방탄소년단 \n"
     ]
    },
    {
     "data": {
      "text/html": [
       "<img src=\"http://cdnimg.melon.co.kr/cm/album/images/100/04/707/10004707_500.jpg/melon/resize/40/quality/80/optimize\"/>"
      ],
      "text/plain": [
       "<IPython.core.display.Image object>"
      ]
     },
     "metadata": {},
     "output_type": "display_data"
    },
    {
     "name": "stdout",
     "output_type": "stream",
     "text": [
      "[WINGS] 피 땀 눈물 - 방탄소년단 \n"
     ]
    },
    {
     "data": {
      "text/html": [
       "<img src=\"http://cdnimg.melon.co.kr/cm/album/images/026/80/573/2680573_500.jpg/melon/resize/40/quality/80/optimize\"/>"
      ],
      "text/plain": [
       "<IPython.core.display.Image object>"
      ]
     },
     "metadata": {},
     "output_type": "display_data"
    },
    {
     "name": "stdout",
     "output_type": "stream",
     "text": [
      "[화양연화 Young Forever] 불타오르네 (FIRE) - 방탄소년단 \n"
     ]
    },
    {
     "data": {
      "text/html": [
       "<img src=\"http://cdnimg.melon.co.kr/cm/album/images/100/37/969/10037969_500.jpg/melon/resize/40/quality/80/optimize\"/>"
      ],
      "text/plain": [
       "<IPython.core.display.Image object>"
      ]
     },
     "metadata": {},
     "output_type": "display_data"
    },
    {
     "name": "stdout",
     "output_type": "stream",
     "text": [
      "[YOU NEVER WALK ALONE] Not Today - 방탄소년단 \n"
     ]
    },
    {
     "data": {
      "text/html": [
       "<img src=\"http://cdnimg.melon.co.kr/cm/album/images/023/16/261/2316261_500.jpg/melon/resize/40/quality/80/optimize\"/>"
      ],
      "text/plain": [
       "<IPython.core.display.Image object>"
      ]
     },
     "metadata": {},
     "output_type": "display_data"
    },
    {
     "name": "stdout",
     "output_type": "stream",
     "text": [
      "[화양연화 pt.1] I NEED U - 방탄소년단 \n"
     ]
    },
    {
     "data": {
      "text/html": [
       "<img src=\"http://cdnimg.melon.co.kr/cm/album/images/022/32/496/2232496_500.jpg/melon/resize/40/quality/80/optimize\"/>"
      ],
      "text/plain": [
       "<IPython.core.display.Image object>"
      ]
     },
     "metadata": {},
     "output_type": "display_data"
    },
    {
     "name": "stdout",
     "output_type": "stream",
     "text": [
      "[Skool Luv Affair] 상남자 (Boy In Luv) - 방탄소년단 \n"
     ]
    },
    {
     "data": {
      "text/html": [
       "<img src=\"http://cdnimg.melon.co.kr/cm/album/images/100/76/659/10076659_500.jpg/melon/resize/40/quality/80/optimize\"/>"
      ],
      "text/plain": [
       "<IPython.core.display.Image object>"
      ]
     },
     "metadata": {},
     "output_type": "display_data"
    },
    {
     "name": "stdout",
     "output_type": "stream",
     "text": [
      "[Come Back Home] Come Back Home - 방탄소년단 \n"
     ]
    },
    {
     "data": {
      "text/html": [
       "<img src=\"http://cdnimg.melon.co.kr/cm/album/images/023/16/261/2316261_500.jpg/melon/resize/40/quality/80/optimize\"/>"
      ],
      "text/plain": [
       "<IPython.core.display.Image object>"
      ]
     },
     "metadata": {},
     "output_type": "display_data"
    },
    {
     "name": "stdout",
     "output_type": "stream",
     "text": [
      "[화양연화 pt.1] 쩔어 - 방탄소년단 \n"
     ]
    },
    {
     "data": {
      "text/html": [
       "<img src=\"http://cdnimg.melon.co.kr/cm/album/images/026/80/573/2680573_500.jpg/melon/resize/40/quality/80/optimize\"/>"
      ],
      "text/plain": [
       "<IPython.core.display.Image object>"
      ]
     },
     "metadata": {},
     "output_type": "display_data"
    },
    {
     "name": "stdout",
     "output_type": "stream",
     "text": [
      "[화양연화 Young Forever] Save ME - 방탄소년단 \n"
     ]
    },
    {
     "data": {
      "text/html": [
       "<img src=\"http://cdnimg.melon.co.kr/cm/album/images/026/53/551/2653551_2_500.jpg/melon/resize/40/quality/80/optimize\"/>"
      ],
      "text/plain": [
       "<IPython.core.display.Image object>"
      ]
     },
     "metadata": {},
     "output_type": "display_data"
    },
    {
     "name": "stdout",
     "output_type": "stream",
     "text": [
      "[화양연화 pt.2] RUN - 방탄소년단 \n"
     ]
    },
    {
     "data": {
      "text/html": [
       "<img src=\"http://cdnimg.melon.co.kr/cm/album/images/026/53/551/2653551_2_500.jpg/melon/resize/40/quality/80/optimize\"/>"
      ],
      "text/plain": [
       "<IPython.core.display.Image object>"
      ]
     },
     "metadata": {},
     "output_type": "display_data"
    },
    {
     "name": "stdout",
     "output_type": "stream",
     "text": [
      "[화양연화 pt.2] Butterfly - 방탄소년단 \n"
     ]
    },
    {
     "data": {
      "text/html": [
       "<img src=\"http://cdnimg.melon.co.kr/cm/album/images/022/75/731/2275731_500.jpg/melon/resize/40/quality/80/optimize\"/>"
      ],
      "text/plain": [
       "<IPython.core.display.Image object>"
      ]
     },
     "metadata": {},
     "output_type": "display_data"
    },
    {
     "name": "stdout",
     "output_type": "stream",
     "text": [
      "[DARK&WILD] Danger - 방탄소년단 \n"
     ]
    },
    {
     "data": {
      "text/html": [
       "<img src=\"http://cdnimg.melon.co.kr/cm/album/images/100/37/969/10037969_500.jpg/melon/resize/40/quality/80/optimize\"/>"
      ],
      "text/plain": [
       "<IPython.core.display.Image object>"
      ]
     },
     "metadata": {},
     "output_type": "display_data"
    },
    {
     "name": "stdout",
     "output_type": "stream",
     "text": [
      "[YOU NEVER WALK ALONE] Lost - 방탄소년단 \n"
     ]
    },
    {
     "data": {
      "text/html": [
       "<img src=\"http://cdnimg.melon.co.kr/cm/album/images/022/56/072/2256072_500.jpg/melon/resize/40/quality/80/optimize\"/>"
      ],
      "text/plain": [
       "<IPython.core.display.Image object>"
      ]
     },
     "metadata": {},
     "output_type": "display_data"
    },
    {
     "name": "stdout",
     "output_type": "stream",
     "text": [
      "[Skool Luv Affair Special Addition] Miss Right - 방탄소년단 \n"
     ]
    },
    {
     "data": {
      "text/html": [
       "<img src=\"http://cdnimg.melon.co.kr/cm/album/images/100/37/969/10037969_500.jpg/melon/resize/40/quality/80/optimize\"/>"
      ],
      "text/plain": [
       "<IPython.core.display.Image object>"
      ]
     },
     "metadata": {},
     "output_type": "display_data"
    },
    {
     "name": "stdout",
     "output_type": "stream",
     "text": [
      "[YOU NEVER WALK ALONE] 21세기 소녀 - 방탄소년단 \n"
     ]
    }
   ],
   "source": [
    "from IPython.display import Image, display\n",
    "\n",
    "for song in search_result['SONGCONTENTS']:\n",
    "    display(Image(url=song['ALBUMIMG']))\n",
    "    #print(song['SONGNAME'])\n",
    "    print(\"[{ALBUMNAME}] {SONGNAME} - {ARTISTNAME} \".format(**song))"
   ]
  },
  {
   "cell_type": "code",
   "execution_count": 19,
   "metadata": {
    "collapsed": true
   },
   "outputs": [],
   "source": [
    "import json\n",
    "import requests\n",
    "from IPython.display import Image, display\n",
    "\n",
    "def melon_search(query):\n",
    "    search_url = \"http://www.melon.com/search/keyword/index.json\"\n",
    "    params = {\n",
    "        \"jscallback\" : \"_\",\n",
    "        \"query\" : query,\n",
    "    }\n",
    "    json_string = requests.get(search_url, params=params).text\n",
    "    json_string = jsonp_string.replace('_(','').replace(');','')\n",
    "    search_result = json.loads(json_string)\n",
    "    \n",
    "    for song in search_result['SONGCONTENTS']:\n",
    "        display(Image(url=song['ALBUMIMG']))\n",
    "        print(\"[{ALBUMNAME}] {SONGNAME} - {ARTISTNAME}\".format(**song))"
   ]
  },
  {
   "cell_type": "code",
   "execution_count": 20,
   "metadata": {},
   "outputs": [
    {
     "data": {
      "text/html": [
       "<img src=\"http://cdnimg.melon.co.kr/cm/album/images/100/37/969/10037969_500.jpg/melon/resize/40/quality/80/optimize\"/>"
      ],
      "text/plain": [
       "<IPython.core.display.Image object>"
      ]
     },
     "metadata": {},
     "output_type": "display_data"
    },
    {
     "name": "stdout",
     "output_type": "stream",
     "text": [
      "[YOU NEVER WALK ALONE] 봄날 - 방탄소년단\n"
     ]
    },
    {
     "data": {
      "text/html": [
       "<img src=\"http://cdnimg.melon.co.kr/cm/album/images/100/04/707/10004707_500.jpg/melon/resize/40/quality/80/optimize\"/>"
      ],
      "text/plain": [
       "<IPython.core.display.Image object>"
      ]
     },
     "metadata": {},
     "output_type": "display_data"
    },
    {
     "name": "stdout",
     "output_type": "stream",
     "text": [
      "[WINGS] 피 땀 눈물 - 방탄소년단\n"
     ]
    },
    {
     "data": {
      "text/html": [
       "<img src=\"http://cdnimg.melon.co.kr/cm/album/images/026/80/573/2680573_500.jpg/melon/resize/40/quality/80/optimize\"/>"
      ],
      "text/plain": [
       "<IPython.core.display.Image object>"
      ]
     },
     "metadata": {},
     "output_type": "display_data"
    },
    {
     "name": "stdout",
     "output_type": "stream",
     "text": [
      "[화양연화 Young Forever] 불타오르네 (FIRE) - 방탄소년단\n"
     ]
    },
    {
     "data": {
      "text/html": [
       "<img src=\"http://cdnimg.melon.co.kr/cm/album/images/100/37/969/10037969_500.jpg/melon/resize/40/quality/80/optimize\"/>"
      ],
      "text/plain": [
       "<IPython.core.display.Image object>"
      ]
     },
     "metadata": {},
     "output_type": "display_data"
    },
    {
     "name": "stdout",
     "output_type": "stream",
     "text": [
      "[YOU NEVER WALK ALONE] Not Today - 방탄소년단\n"
     ]
    },
    {
     "data": {
      "text/html": [
       "<img src=\"http://cdnimg.melon.co.kr/cm/album/images/023/16/261/2316261_500.jpg/melon/resize/40/quality/80/optimize\"/>"
      ],
      "text/plain": [
       "<IPython.core.display.Image object>"
      ]
     },
     "metadata": {},
     "output_type": "display_data"
    },
    {
     "name": "stdout",
     "output_type": "stream",
     "text": [
      "[화양연화 pt.1] I NEED U - 방탄소년단\n"
     ]
    },
    {
     "data": {
      "text/html": [
       "<img src=\"http://cdnimg.melon.co.kr/cm/album/images/022/32/496/2232496_500.jpg/melon/resize/40/quality/80/optimize\"/>"
      ],
      "text/plain": [
       "<IPython.core.display.Image object>"
      ]
     },
     "metadata": {},
     "output_type": "display_data"
    },
    {
     "name": "stdout",
     "output_type": "stream",
     "text": [
      "[Skool Luv Affair] 상남자 (Boy In Luv) - 방탄소년단\n"
     ]
    },
    {
     "data": {
      "text/html": [
       "<img src=\"http://cdnimg.melon.co.kr/cm/album/images/100/76/659/10076659_500.jpg/melon/resize/40/quality/80/optimize\"/>"
      ],
      "text/plain": [
       "<IPython.core.display.Image object>"
      ]
     },
     "metadata": {},
     "output_type": "display_data"
    },
    {
     "name": "stdout",
     "output_type": "stream",
     "text": [
      "[Come Back Home] Come Back Home - 방탄소년단\n"
     ]
    },
    {
     "data": {
      "text/html": [
       "<img src=\"http://cdnimg.melon.co.kr/cm/album/images/023/16/261/2316261_500.jpg/melon/resize/40/quality/80/optimize\"/>"
      ],
      "text/plain": [
       "<IPython.core.display.Image object>"
      ]
     },
     "metadata": {},
     "output_type": "display_data"
    },
    {
     "name": "stdout",
     "output_type": "stream",
     "text": [
      "[화양연화 pt.1] 쩔어 - 방탄소년단\n"
     ]
    },
    {
     "data": {
      "text/html": [
       "<img src=\"http://cdnimg.melon.co.kr/cm/album/images/026/80/573/2680573_500.jpg/melon/resize/40/quality/80/optimize\"/>"
      ],
      "text/plain": [
       "<IPython.core.display.Image object>"
      ]
     },
     "metadata": {},
     "output_type": "display_data"
    },
    {
     "name": "stdout",
     "output_type": "stream",
     "text": [
      "[화양연화 Young Forever] Save ME - 방탄소년단\n"
     ]
    },
    {
     "data": {
      "text/html": [
       "<img src=\"http://cdnimg.melon.co.kr/cm/album/images/026/53/551/2653551_2_500.jpg/melon/resize/40/quality/80/optimize\"/>"
      ],
      "text/plain": [
       "<IPython.core.display.Image object>"
      ]
     },
     "metadata": {},
     "output_type": "display_data"
    },
    {
     "name": "stdout",
     "output_type": "stream",
     "text": [
      "[화양연화 pt.2] RUN - 방탄소년단\n"
     ]
    },
    {
     "data": {
      "text/html": [
       "<img src=\"http://cdnimg.melon.co.kr/cm/album/images/026/53/551/2653551_2_500.jpg/melon/resize/40/quality/80/optimize\"/>"
      ],
      "text/plain": [
       "<IPython.core.display.Image object>"
      ]
     },
     "metadata": {},
     "output_type": "display_data"
    },
    {
     "name": "stdout",
     "output_type": "stream",
     "text": [
      "[화양연화 pt.2] Butterfly - 방탄소년단\n"
     ]
    },
    {
     "data": {
      "text/html": [
       "<img src=\"http://cdnimg.melon.co.kr/cm/album/images/022/75/731/2275731_500.jpg/melon/resize/40/quality/80/optimize\"/>"
      ],
      "text/plain": [
       "<IPython.core.display.Image object>"
      ]
     },
     "metadata": {},
     "output_type": "display_data"
    },
    {
     "name": "stdout",
     "output_type": "stream",
     "text": [
      "[DARK&WILD] Danger - 방탄소년단\n"
     ]
    },
    {
     "data": {
      "text/html": [
       "<img src=\"http://cdnimg.melon.co.kr/cm/album/images/100/37/969/10037969_500.jpg/melon/resize/40/quality/80/optimize\"/>"
      ],
      "text/plain": [
       "<IPython.core.display.Image object>"
      ]
     },
     "metadata": {},
     "output_type": "display_data"
    },
    {
     "name": "stdout",
     "output_type": "stream",
     "text": [
      "[YOU NEVER WALK ALONE] Lost - 방탄소년단\n"
     ]
    },
    {
     "data": {
      "text/html": [
       "<img src=\"http://cdnimg.melon.co.kr/cm/album/images/022/56/072/2256072_500.jpg/melon/resize/40/quality/80/optimize\"/>"
      ],
      "text/plain": [
       "<IPython.core.display.Image object>"
      ]
     },
     "metadata": {},
     "output_type": "display_data"
    },
    {
     "name": "stdout",
     "output_type": "stream",
     "text": [
      "[Skool Luv Affair Special Addition] Miss Right - 방탄소년단\n"
     ]
    },
    {
     "data": {
      "text/html": [
       "<img src=\"http://cdnimg.melon.co.kr/cm/album/images/100/37/969/10037969_500.jpg/melon/resize/40/quality/80/optimize\"/>"
      ],
      "text/plain": [
       "<IPython.core.display.Image object>"
      ]
     },
     "metadata": {},
     "output_type": "display_data"
    },
    {
     "name": "stdout",
     "output_type": "stream",
     "text": [
      "[YOU NEVER WALK ALONE] 21세기 소녀 - 방탄소년단\n"
     ]
    }
   ],
   "source": [
    "melon_search('방탄소년단')"
   ]
  },
  {
   "cell_type": "markdown",
   "metadata": {},
   "source": [
    "## CSV FILE MAKING"
   ]
  },
  {
   "cell_type": "code",
   "execution_count": null,
   "metadata": {
    "collapsed": true
   },
   "outputs": [],
   "source": []
  }
 ],
 "metadata": {
  "kernelspec": {
   "display_name": "Python 3",
   "language": "python",
   "name": "python3"
  },
  "language_info": {
   "codemirror_mode": {
    "name": "ipython",
    "version": 3
   },
   "file_extension": ".py",
   "mimetype": "text/x-python",
   "name": "python",
   "nbconvert_exporter": "python",
   "pygments_lexer": "ipython3",
   "version": "3.5.2"
  }
 },
 "nbformat": 4,
 "nbformat_minor": 2
}
