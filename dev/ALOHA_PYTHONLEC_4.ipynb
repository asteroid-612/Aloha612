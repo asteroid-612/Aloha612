{
 "cells": [
  {
   "cell_type": "code",
   "execution_count": 2,
   "metadata": {},
   "outputs": [
    {
     "data": {
      "text/plain": [
       "5"
      ]
     },
     "execution_count": 2,
     "metadata": {},
     "output_type": "execute_result"
    }
   ],
   "source": [
    "len(\"ALOHA\") # 유니코드(str)문자열"
   ]
  },
  {
   "cell_type": "code",
   "execution_count": 4,
   "metadata": {},
   "outputs": [
    {
     "name": "stdout",
     "output_type": "stream",
     "text": [
      "ALOO\n"
     ]
    }
   ],
   "source": [
    "message = \"ALOOHA\"[:4]\n",
    "print(message)"
   ]
  },
  {
   "cell_type": "code",
   "execution_count": 6,
   "metadata": {},
   "outputs": [
    {
     "name": "stdout",
     "output_type": "stream",
     "text": [
      "27\n"
     ]
    }
   ],
   "source": [
    "message = \"안녕하세요. 교수님.\".encode(\"utf8\")  # UTF8 문자열 ( bytes )\n",
    "print(len(message))  #바이트 수 "
   ]
  },
  {
   "cell_type": "code",
   "execution_count": 8,
   "metadata": {},
   "outputs": [
    {
     "name": "stdout",
     "output_type": "stream",
     "text": [
      "안-녕하세\n"
     ]
    }
   ],
   "source": [
    "message = \"안-녕하세요. 교수님.\".encode(\"utf8\")  # UTF8 문자열 ( bytes )\n",
    "print((message[:13]).decode(\"utf8\"))  #바이트 수 "
   ]
  },
  {
   "cell_type": "markdown",
   "metadata": {},
   "source": [
    "## ASCII"
   ]
  },
  {
   "cell_type": "code",
   "execution_count": 10,
   "metadata": {},
   "outputs": [
    {
     "data": {
      "text/plain": [
       "49"
      ]
     },
     "execution_count": 10,
     "metadata": {},
     "output_type": "execute_result"
    }
   ],
   "source": [
    "ord(\"1\")"
   ]
  },
  {
   "cell_type": "code",
   "execution_count": 11,
   "metadata": {},
   "outputs": [
    {
     "data": {
      "text/plain": [
       "'1'"
      ]
     },
     "execution_count": 11,
     "metadata": {},
     "output_type": "execute_result"
    }
   ],
   "source": [
    "chr(49)"
   ]
  },
  {
   "cell_type": "code",
   "execution_count": 12,
   "metadata": {},
   "outputs": [
    {
     "name": "stdout",
     "output_type": "stream",
     "text": [
      "0 '\\x00'\n",
      "1 '\\x01'\n",
      "2 '\\x02'\n",
      "3 '\\x03'\n",
      "4 '\\x04'\n",
      "5 '\\x05'\n",
      "6 '\\x06'\n",
      "7 '\\x07'\n",
      "8 '\\x08'\n",
      "9 '\\t'\n",
      "10 '\\n'\n",
      "11 '\\x0b'\n",
      "12 '\\x0c'\n",
      "13 '\\r'\n",
      "14 '\\x0e'\n",
      "15 '\\x0f'\n",
      "16 '\\x10'\n",
      "17 '\\x11'\n",
      "18 '\\x12'\n",
      "19 '\\x13'\n",
      "20 '\\x14'\n",
      "21 '\\x15'\n",
      "22 '\\x16'\n",
      "23 '\\x17'\n",
      "24 '\\x18'\n",
      "25 '\\x19'\n",
      "26 '\\x1a'\n",
      "27 '\\x1b'\n",
      "28 '\\x1c'\n",
      "29 '\\x1d'\n",
      "30 '\\x1e'\n",
      "31 '\\x1f'\n",
      "32 ' '\n",
      "33 '!'\n",
      "34 '\"'\n",
      "35 '#'\n",
      "36 '$'\n",
      "37 '%'\n",
      "38 '&'\n",
      "39 \"'\"\n",
      "40 '('\n",
      "41 ')'\n",
      "42 '*'\n",
      "43 '+'\n",
      "44 ','\n",
      "45 '-'\n",
      "46 '.'\n",
      "47 '/'\n",
      "48 '0'\n",
      "49 '1'\n",
      "50 '2'\n",
      "51 '3'\n",
      "52 '4'\n",
      "53 '5'\n",
      "54 '6'\n",
      "55 '7'\n",
      "56 '8'\n",
      "57 '9'\n",
      "58 ':'\n",
      "59 ';'\n",
      "60 '<'\n",
      "61 '='\n",
      "62 '>'\n",
      "63 '?'\n",
      "64 '@'\n",
      "65 'A'\n",
      "66 'B'\n",
      "67 'C'\n",
      "68 'D'\n",
      "69 'E'\n",
      "70 'F'\n",
      "71 'G'\n",
      "72 'H'\n",
      "73 'I'\n",
      "74 'J'\n",
      "75 'K'\n",
      "76 'L'\n",
      "77 'M'\n",
      "78 'N'\n",
      "79 'O'\n",
      "80 'P'\n",
      "81 'Q'\n",
      "82 'R'\n",
      "83 'S'\n",
      "84 'T'\n",
      "85 'U'\n",
      "86 'V'\n",
      "87 'W'\n",
      "88 'X'\n",
      "89 'Y'\n",
      "90 'Z'\n",
      "91 '['\n",
      "92 '\\\\'\n",
      "93 ']'\n",
      "94 '^'\n",
      "95 '_'\n",
      "96 '`'\n",
      "97 'a'\n",
      "98 'b'\n",
      "99 'c'\n",
      "100 'd'\n",
      "101 'e'\n",
      "102 'f'\n",
      "103 'g'\n",
      "104 'h'\n",
      "105 'i'\n",
      "106 'j'\n",
      "107 'k'\n",
      "108 'l'\n",
      "109 'm'\n",
      "110 'n'\n",
      "111 'o'\n",
      "112 'p'\n",
      "113 'q'\n",
      "114 'r'\n",
      "115 's'\n",
      "116 't'\n",
      "117 'u'\n",
      "118 'v'\n",
      "119 'w'\n",
      "120 'x'\n",
      "121 'y'\n",
      "122 'z'\n",
      "123 '{'\n",
      "124 '|'\n",
      "125 '}'\n",
      "126 '~'\n",
      "127 '\\x7f'\n"
     ]
    }
   ],
   "source": [
    "for i in range(128):\n",
    "    print(i, repr(chr(i)))"
   ]
  },
  {
   "cell_type": "markdown",
   "metadata": {},
   "source": [
    "# # unicode"
   ]
  },
  {
   "cell_type": "code",
   "execution_count": 15,
   "metadata": {
    "collapsed": true
   },
   "outputs": [],
   "source": [
    "unicode_ga = \"가\""
   ]
  },
  {
   "cell_type": "code",
   "execution_count": 16,
   "metadata": {},
   "outputs": [],
   "source": [
    "utf8_ga = unicode_ga.encode(\"utf8\")\n",
    "cp949_ga = unicode_ga.encode(\"cp949\")"
   ]
  },
  {
   "cell_type": "code",
   "execution_count": 17,
   "metadata": {},
   "outputs": [
    {
     "data": {
      "text/plain": [
       "'가'"
      ]
     },
     "execution_count": 17,
     "metadata": {},
     "output_type": "execute_result"
    }
   ],
   "source": [
    "cp949_ga.decode(\"cp949\")"
   ]
  },
  {
   "cell_type": "code",
   "execution_count": 18,
   "metadata": {},
   "outputs": [
    {
     "ename": "UnicodeDecodeError",
     "evalue": "'utf-8' codec can't decode byte 0xb0 in position 0: invalid start byte",
     "output_type": "error",
     "traceback": [
      "\u001b[0;31m---------------------------------------------------------------------------\u001b[0m",
      "\u001b[0;31mUnicodeDecodeError\u001b[0m                        Traceback (most recent call last)",
      "\u001b[0;32m<ipython-input-18-604d8840a5b6>\u001b[0m in \u001b[0;36m<module>\u001b[0;34m()\u001b[0m\n\u001b[0;32m----> 1\u001b[0;31m \u001b[0mcp949_ga\u001b[0m\u001b[0;34m.\u001b[0m\u001b[0mdecode\u001b[0m\u001b[0;34m(\u001b[0m\u001b[0;34m\"utf8\"\u001b[0m\u001b[0;34m)\u001b[0m\u001b[0;34m\u001b[0m\u001b[0m\n\u001b[0m",
      "\u001b[0;31mUnicodeDecodeError\u001b[0m: 'utf-8' codec can't decode byte 0xb0 in position 0: invalid start byte"
     ]
    }
   ],
   "source": [
    "cp949_ga.decode(\"utf8\")"
   ]
  },
  {
   "cell_type": "code",
   "execution_count": 19,
   "metadata": {},
   "outputs": [
    {
     "data": {
      "text/plain": [
       "b'\\xb0\\xa1'"
      ]
     },
     "execution_count": 19,
     "metadata": {},
     "output_type": "execute_result"
    }
   ],
   "source": [
    "cp949_ga"
   ]
  },
  {
   "cell_type": "code",
   "execution_count": 20,
   "metadata": {
    "collapsed": true
   },
   "outputs": [],
   "source": [
    "## 파일읽기\n"
   ]
  },
  {
   "cell_type": "markdown",
   "metadata": {},
   "source": [
    "## 파일읽기"
   ]
  },
  {
   "cell_type": "code",
   "execution_count": 25,
   "metadata": {},
   "outputs": [
    {
     "name": "stdout",
     "output_type": "stream",
     "text": [
      "<class 'str'>\n",
      "보고 싶다\n",
      "이렇게 말하니까 더 보고 싶다\n",
      "너희 사진을 보고 있어도\n",
      "보고 싶다\n",
      "너무 야속한 시간\n",
      "나는 우리가 밉다\n",
      "이젠 얼굴 한번 보는 것 조차\n",
      "힘들어진 우리가\n",
      "여긴 온통 겨울 뿐이야\n",
      "8월에도 겨울이 와\n",
      "마음은 시간을 달려가네\n",
      "홀로 남은 설국열차\n",
      "\n"
     ]
    }
   ],
   "source": [
    "f = open(\"/home/user/dev/봄날.txt\",\"rt\")\n",
    "readed_data = f.read()\n",
    "f.close()\n",
    "\n",
    "print(type(readed_data))\n",
    "print(readed_data)"
   ]
  },
  {
   "cell_type": "code",
   "execution_count": 26,
   "metadata": {
    "collapsed": true
   },
   "outputs": [],
   "source": [
    "## 디폴트 인코딩 확인"
   ]
  },
  {
   "cell_type": "code",
   "execution_count": 27,
   "metadata": {},
   "outputs": [
    {
     "data": {
      "text/plain": [
       "'UTF-8'"
      ]
     },
     "execution_count": 27,
     "metadata": {},
     "output_type": "execute_result"
    }
   ],
   "source": [
    "import locale\n",
    "locale.getpreferredencoding(False)"
   ]
  },
  {
   "cell_type": "code",
   "execution_count": 29,
   "metadata": {},
   "outputs": [
    {
     "name": "stdout",
     "output_type": "stream",
     "text": [
      "<class 'bytes'>\n",
      "b'\\xeb\\xb3\\xb4\\xea\\xb3\\xa0 \\xec\\x8b\\xb6\\xeb\\x8b\\xa4\\n\\xec\\x9d\\xb4\\xeb\\xa0\\x87\\xea\\xb2\\x8c \\xeb\\xa7\\x90\\xed\\x95\\x98\\xeb\\x8b\\x88\\xea\\xb9\\x8c \\xeb\\x8d\\x94 \\xeb\\xb3\\xb4\\xea\\xb3\\xa0 \\xec\\x8b\\xb6\\xeb\\x8b\\xa4\\n\\xeb\\x84\\x88\\xed\\x9d\\xac \\xec\\x82\\xac\\xec\\xa7\\x84\\xec\\x9d\\x84 \\xeb\\xb3\\xb4\\xea\\xb3\\xa0 \\xec\\x9e\\x88\\xec\\x96\\xb4\\xeb\\x8f\\x84\\n\\xeb\\xb3\\xb4\\xea\\xb3\\xa0 \\xec\\x8b\\xb6\\xeb\\x8b\\xa4\\n\\xeb\\x84\\x88\\xeb\\xac\\xb4 \\xec\\x95\\xbc\\xec\\x86\\x8d\\xed\\x95\\x9c \\xec\\x8b\\x9c\\xea\\xb0\\x84\\n\\xeb\\x82\\x98\\xeb\\x8a\\x94 \\xec\\x9a\\xb0\\xeb\\xa6\\xac\\xea\\xb0\\x80 \\xeb\\xb0\\x89\\xeb\\x8b\\xa4\\n\\xec\\x9d\\xb4\\xec\\xa0\\xa0 \\xec\\x96\\xbc\\xea\\xb5\\xb4 \\xed\\x95\\x9c\\xeb\\xb2\\x88 \\xeb\\xb3\\xb4\\xeb\\x8a\\x94 \\xea\\xb2\\x83 \\xec\\xa1\\xb0\\xec\\xb0\\xa8\\n\\xed\\x9e\\x98\\xeb\\x93\\xa4\\xec\\x96\\xb4\\xec\\xa7\\x84 \\xec\\x9a\\xb0\\xeb\\xa6\\xac\\xea\\xb0\\x80\\n\\xec\\x97\\xac\\xea\\xb8\\xb4 \\xec\\x98\\xa8\\xed\\x86\\xb5 \\xea\\xb2\\xa8\\xec\\x9a\\xb8 \\xeb\\xbf\\x90\\xec\\x9d\\xb4\\xec\\x95\\xbc\\n8\\xec\\x9b\\x94\\xec\\x97\\x90\\xeb\\x8f\\x84 \\xea\\xb2\\xa8\\xec\\x9a\\xb8\\xec\\x9d\\xb4 \\xec\\x99\\x80\\n\\xeb\\xa7\\x88\\xec\\x9d\\x8c\\xec\\x9d\\x80 \\xec\\x8b\\x9c\\xea\\xb0\\x84\\xec\\x9d\\x84 \\xeb\\x8b\\xac\\xeb\\xa0\\xa4\\xea\\xb0\\x80\\xeb\\x84\\xa4\\n\\xed\\x99\\x80\\xeb\\xa1\\x9c \\xeb\\x82\\xa8\\xec\\x9d\\x80 \\xec\\x84\\xa4\\xea\\xb5\\xad\\xec\\x97\\xb4\\xec\\xb0\\xa8\\n'\n"
     ]
    }
   ],
   "source": [
    "f = open(\"/home/user/dev/봄날.txt\",\"rb\")\n",
    "readed_data = f.read()\n",
    "f.close()\n",
    "\n",
    "print(type(readed_data))\n",
    "print(readed_data)"
   ]
  },
  {
   "cell_type": "code",
   "execution_count": null,
   "metadata": {
    "collapsed": true
   },
   "outputs": [],
   "source": [
    "import os\n",
    "\n",
    "filepath = \"/home/user/nomade/python.txt\"\n",
    "\n",
    "dirpath = os.path.dirname(filepath)\n",
    "if not os.path.exists(dirpath)"
   ]
  }
 ],
 "metadata": {
  "kernelspec": {
   "display_name": "Python 3",
   "language": "python",
   "name": "python3"
  },
  "language_info": {
   "codemirror_mode": {
    "name": "ipython",
    "version": 3
   },
   "file_extension": ".py",
   "mimetype": "text/x-python",
   "name": "python",
   "nbconvert_exporter": "python",
   "pygments_lexer": "ipython3",
   "version": "3.5.2"
  }
 },
 "nbformat": 4,
 "nbformat_minor": 2
}
