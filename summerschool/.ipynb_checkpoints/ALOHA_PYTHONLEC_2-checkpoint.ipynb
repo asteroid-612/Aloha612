{
 "cells": [
  {
   "cell_type": "markdown",
   "metadata": {},
   "source": [
    "## FLOW CONTROL\n",
    "\n",
    "+ 2일차"
   ]
  },
  {
   "cell_type": "code",
   "execution_count": 1,
   "metadata": {
    "collapsed": true
   },
   "outputs": [],
   "source": [
    "# int func 은 10진수가 기반으로 되어있으며 처음으로 주는 인자는 문자열로 들어와야한다. (10진수가 아니면)"
   ]
  },
  {
   "cell_type": "code",
   "execution_count": 2,
   "metadata": {
    "collapsed": true
   },
   "outputs": [],
   "source": [
    "# if ~ else 문 사용"
   ]
  },
  {
   "cell_type": "code",
   "execution_count": 4,
   "metadata": {
    "collapsed": true
   },
   "outputs": [],
   "source": [
    "# for ! in ~: ~는 어떤 container 도 가능함. 문자열도 가능함"
   ]
  },
  {
   "cell_type": "code",
   "execution_count": 15,
   "metadata": {},
   "outputs": [
    {
     "name": "stdout",
     "output_type": "stream",
     "text": [
      " 2 * 1 = 2 \n",
      " 2 * 2 = 4 \n",
      " 2 * 3 = 6 \n",
      " 2 * 4 = 8 \n",
      " 2 * 5 = 10 \n",
      " 2 * 6 = 12 \n",
      " 2 * 7 = 14 \n",
      " 2 * 8 = 16 \n",
      " 2 * 9 = 18 \n"
     ]
    }
   ],
   "source": [
    "number = 2\n",
    "\n",
    "for i in range(1,10):\n",
    "    print(' {} * {} = {} '.format(number, i , number*i))"
   ]
  },
  {
   "cell_type": "code",
   "execution_count": 19,
   "metadata": {},
   "outputs": [
    {
     "name": "stdout",
     "output_type": "stream",
     "text": [
      " ### 2 단 ###\n",
      " 2 * 1 = 2\n",
      " 2 * 2 = 4\n",
      " 2 * 3 = 6\n",
      " 2 * 4 = 8\n",
      " 2 * 5 = 10\n",
      " 2 * 6 = 12\n",
      " 2 * 7 = 14\n",
      " 2 * 8 = 16\n",
      " 2 * 9 = 18\n",
      " ### 3 단 ###\n",
      " 3 * 1 = 3\n",
      " 3 * 2 = 6\n",
      " 3 * 3 = 9\n",
      " 3 * 4 = 12\n",
      " 3 * 5 = 15\n",
      " 3 * 6 = 18\n",
      " 3 * 7 = 21\n",
      " 3 * 8 = 24\n",
      " 3 * 9 = 27\n",
      " ### 4 단 ###\n",
      " 4 * 1 = 4\n",
      " 4 * 2 = 8\n",
      " 4 * 3 = 12\n",
      " 4 * 4 = 16\n",
      " 4 * 5 = 20\n",
      " 4 * 6 = 24\n",
      " 4 * 7 = 28\n",
      " 4 * 8 = 32\n",
      " 4 * 9 = 36\n"
     ]
    }
   ],
   "source": [
    "for number in range(2,10):\n",
    "    if number == 5:\n",
    "        break\n",
    "    print(' ### {} 단 ###'.format(number))\n",
    "    for i in range(1,10):\n",
    "        print( ' {} * {} = {}'.format(number, i, number*i))"
   ]
  },
  {
   "cell_type": "code",
   "execution_count": 24,
   "metadata": {
    "collapsed": true
   },
   "outputs": [],
   "source": [
    "def doubled (number):  ## 구구단 함수화\n",
    "    print('### {} 단###'.format(number))\n",
    "    for i in range(1,10):\n",
    "        print( '>>> {} * {} = {}'.format(number, i , number*i))"
   ]
  },
  {
   "cell_type": "code",
   "execution_count": 21,
   "metadata": {},
   "outputs": [
    {
     "name": "stdout",
     "output_type": "stream",
     "text": [
      "### 2 단###\n",
      ">>> 2 * 1 = 2\n",
      ">>> 2 * 2 = 4\n",
      ">>> 2 * 3 = 6\n",
      ">>> 2 * 4 = 8\n",
      ">>> 2 * 5 = 10\n",
      ">>> 2 * 6 = 12\n",
      ">>> 2 * 7 = 14\n",
      ">>> 2 * 8 = 16\n",
      ">>> 2 * 9 = 18\n"
     ]
    }
   ],
   "source": [
    "doubled(2)"
   ]
  },
  {
   "cell_type": "code",
   "execution_count": 22,
   "metadata": {},
   "outputs": [
    {
     "name": "stdout",
     "output_type": "stream",
     "text": [
      "### 4 단###\n",
      ">>> 4 * 1 = 4\n",
      ">>> 4 * 2 = 8\n",
      ">>> 4 * 3 = 12\n",
      ">>> 4 * 4 = 16\n",
      ">>> 4 * 5 = 20\n",
      ">>> 4 * 6 = 24\n",
      ">>> 4 * 7 = 28\n",
      ">>> 4 * 8 = 32\n",
      ">>> 4 * 9 = 36\n"
     ]
    }
   ],
   "source": [
    "doubled(4)"
   ]
  },
  {
   "cell_type": "code",
   "execution_count": 23,
   "metadata": {},
   "outputs": [
    {
     "name": "stdout",
     "output_type": "stream",
     "text": [
      "### 19 단###\n",
      ">>> 19 * 1 = 19\n",
      ">>> 19 * 2 = 38\n",
      ">>> 19 * 3 = 57\n",
      ">>> 19 * 4 = 76\n",
      ">>> 19 * 5 = 95\n",
      ">>> 19 * 6 = 114\n",
      ">>> 19 * 7 = 133\n",
      ">>> 19 * 8 = 152\n",
      ">>> 19 * 9 = 171\n"
     ]
    }
   ],
   "source": [
    "doubled(19)"
   ]
  },
  {
   "cell_type": "code",
   "execution_count": 25,
   "metadata": {},
   "outputs": [
    {
     "name": "stdout",
     "output_type": "stream",
     "text": [
      "HeLLO worlD\n",
      "HeLLO worlD\n",
      "HeLLO worlD\n",
      "HeLLO worlD\n"
     ]
    }
   ],
   "source": [
    "for a in range(4):\n",
    "    print(\"HeLLO worlD\")"
   ]
  },
  {
   "cell_type": "code",
   "execution_count": 26,
   "metadata": {},
   "outputs": [
    {
     "name": "stdout",
     "output_type": "stream",
     "text": [
      "ALOHA world\n",
      "None\n"
     ]
    }
   ],
   "source": [
    "def print_hello():\n",
    "    print(\"ALOHA world\")\n",
    "    \n",
    "print(print_hello())  ## 파이썬에서는 리턴값이 없음 void - 유형이 없다."
   ]
  },
  {
   "cell_type": "code",
   "execution_count": 27,
   "metadata": {},
   "outputs": [
    {
     "data": {
      "text/plain": [
       "10"
      ]
     },
     "execution_count": 27,
     "metadata": {},
     "output_type": "execute_result"
    }
   ],
   "source": [
    "def my():\n",
    "    return(10)\n",
    "my()  ## 프린트가 아니라 리턴이면 상관없나봄."
   ]
  },
  {
   "cell_type": "code",
   "execution_count": 31,
   "metadata": {},
   "outputs": [
    {
     "name": "stdout",
     "output_type": "stream",
     "text": [
      "\n",
      "*\n",
      "**\n",
      "***\n",
      "****\n",
      "*****\n",
      "******\n",
      "*******\n",
      "********\n",
      "*********\n"
     ]
    }
   ],
   "source": [
    "number = 10\n",
    "\n",
    "for i in range(number):\n",
    "    print(\"*\"*i)"
   ]
  },
  {
   "cell_type": "code",
   "execution_count": 60,
   "metadata": {},
   "outputs": [
    {
     "name": "stdout",
     "output_type": "stream",
     "text": [
      "          *\n",
      "         **\n",
      "        ***\n",
      "       ****\n",
      "      *****\n",
      "     ******\n",
      "    *******\n",
      "   ********\n",
      "  *********\n",
      " **********\n"
     ]
    }
   ],
   "source": [
    "number = 10\n",
    "\n",
    "for i in range(1, number+1):\n",
    "    print(' '*(number-i), end=' ')\n",
    "    print('*' * i)"
   ]
  },
  {
   "cell_type": "code",
   "execution_count": 57,
   "metadata": {
    "collapsed": true
   },
   "outputs": [],
   "source": [
    "def print_star_rectangle(number, print_ch, space_ch):\n",
    "    for i in range(1, number+1):\n",
    "        print(space_ch * (number-i), end=' ')\n",
    "        print(print_ch * i)"
   ]
  },
  {
   "cell_type": "code",
   "execution_count": 58,
   "metadata": {},
   "outputs": [
    {
     "name": "stdout",
     "output_type": "stream",
     "text": [
      "OOOOOOOOO A\n",
      "OOOOOOOO AA\n",
      "OOOOOOO AAA\n",
      "OOOOOO AAAA\n",
      "OOOOO AAAAA\n",
      "OOOO AAAAAA\n",
      "OOO AAAAAAA\n",
      "OO AAAAAAAA\n",
      "O AAAAAAAAA\n",
      " AAAAAAAAAA\n"
     ]
    }
   ],
   "source": [
    "print_star_rectangle(10, 'A', 'O')"
   ]
  },
  {
   "cell_type": "code",
   "execution_count": 59,
   "metadata": {
    "collapsed": true
   },
   "outputs": [],
   "source": [
    "#위치인자는 키워드 인자보다 무조건 선행되어야 한다."
   ]
  },
  {
   "cell_type": "code",
   "execution_count": 2,
   "metadata": {
    "collapsed": true
   },
   "outputs": [],
   "source": [
    "def say_hello(name, age=21):\n",
    "    print('안녕. 나는 {}이야. {}살이지.'.format(name,age))"
   ]
  },
  {
   "cell_type": "code",
   "execution_count": 3,
   "metadata": {},
   "outputs": [
    {
     "name": "stdout",
     "output_type": "stream",
     "text": [
      "안녕. 나는 dd이야. 21살이지.\n"
     ]
    }
   ],
   "source": [
    "say_hello(\"dd\")"
   ]
  },
  {
   "cell_type": "code",
   "execution_count": 1,
   "metadata": {},
   "outputs": [
    {
     "name": "stdout",
     "output_type": "stream",
     "text": [
      "Enter password:········\n"
     ]
    }
   ],
   "source": [
    "from getpass import getpass\n",
    "password = getpass(\"Enter password:\")"
   ]
  },
  {
   "cell_type": "code",
   "execution_count": 3,
   "metadata": {
    "collapsed": true
   },
   "outputs": [],
   "source": [
    "import smtplib\n",
    "from email.message import EmailMessage\n",
    "\n",
    "naver_account_name = 'ekfqlc0001'\n",
    "naver_account_password = password\n",
    "\n",
    "message = EmailMessage()\n",
    "message['Subject'] = '국민대학교 여름방학 파이썬 강의 테스트'\n",
    "message['From'] = 'ekfqlc0001@naver.com' # 송신자 이메일\n",
    "message['To'] = 'ekfqlc0001@naver.com' # 수신자 이메일 다수 (구분자: 콤마)\n",
    "message.set_content('''\n",
    "열심히 살기로 약속해..!. ;)''')\n",
    "\n",
    "with smtplib.SMTP_SSL('smtp.naver.com', 465 ) as server:\n",
    "    server.ehlo()\n",
    "    server.login( naver_account_name, naver_account_password )\n",
    "    server.send_message(message)\n"
   ]
  },
  {
   "cell_type": "code",
   "execution_count": 18,
   "metadata": {
    "collapsed": true
   },
   "outputs": [],
   "source": [
    "import smtplib\n",
    "from email.message import EmailMessage\n",
    "\n",
    "naver_account_name = 'ekfqlc0001'\n",
    "naver_account_password = password\n",
    "\n",
    "message = EmailMessage()\n",
    "message['Subject'] = '아!!!!!! 팝업스토어 가고싶다!!!!!!!!!!'\n",
    "message['From'] = 'ekfqlc0001@naver.com' # 송신자 이메일\n",
    "message['To'] = 'ekfqlc0001@naver.com' # 수신자 이메일 다수 (구분자: 콤마)\n",
    "message.set_content('''\n",
    "열심히 살기로 약속해..!. ;)''')\n",
    "\n",
    "#HTML메세지 추가\n",
    "\n",
    "message.add_alternative('''\n",
    "    <h1>Ask Django</h1>\n",
    "    \n",
    "    <p>안녕하세요. 반갑습니다. 오늘의 네이버 웹툰 업데이트 현황을 알려드립니다.</p>\n",
    "    \n",
    "    <ul>\n",
    "        <li><a href=\"http://comic.naver.com/webtoon/list.nhn?titleId=20853&weekday=tue\">마음의 소리</a></li>\n",
    "        <li><a href=\"http://comic.naver.com/webtoon/list.nhn?titleId=662774&weekday=wed\">고수</a></li>\n",
    "    </ul>\n",
    "    \n",
    "    <p>내일 다시 메일 드리겠습니다.</p>\n",
    "''', subtype= 'html')\n",
    "\n",
    "with smtplib.SMTP_SSL('smtp.naver.com', 465 ) as server:\n",
    "    server.ehlo()\n",
    "    server.login( naver_account_name, naver_account_password )\n",
    "    server.send_message(message)\n"
   ]
  },
  {
   "cell_type": "code",
   "execution_count": 24,
   "metadata": {
    "collapsed": true
   },
   "outputs": [],
   "source": [
    "import smtplib\n",
    "from email.message import EmailMessage\n",
    "\n",
    "naver_account_name = 'ekfqlc0001'\n",
    "naver_account_password = password\n",
    "receivers = 'ekfqlc0001@naver.com'  # 수신자 이메일 다수 (구분자 : 콤마)\n",
    "\n",
    "message = EmailMessage()\n",
    "message['Subject'] = '네이버 웹툰 업데이트 현황'\n",
    "message['From'] = '{}@naver.com'.format(naver_account_name)\n",
    "message['To'] = receivers\n",
    "\n",
    "# Plain Text\n",
    "message.set_content('''\n",
    "    안녕하세요. 반갑습니다. 오늘의 네이버 웹툰 업데이트 현황을 알려드립니다.\n",
    "\n",
    "    마음의 소리 : http://comic.naver.com/webtoon/list.nhn?titleId=20853&weekday=tue\n",
    "    고수 : http://comic.naver.com/webtoon/list.nhn?titleId=662774&weekday=wed\n",
    "    \n",
    "    내일 다시 메일 드리겠습니다.\n",
    "''')\n",
    "\n",
    "\n",
    "with smtplib.SMTP_SSL('smtp.naver.com', 465) as server:\n",
    "    server.ehlo()\n",
    "    server.login(naver_account_name, naver_account_password)\n",
    "    server.send_message(message)"
   ]
  },
  {
   "cell_type": "markdown",
   "metadata": {
    "collapsed": true
   },
   "source": [
    "## SMS SENDING"
   ]
  },
  {
   "cell_type": "code",
   "execution_count": 1,
   "metadata": {
    "collapsed": true
   },
   "outputs": [],
   "source": [
    "user_id = 'allieussms'                       # FIXME\n",
    "secure = 'a7c90f72ea90f6d9442949057aa16c58'  # FIXME"
   ]
  },
  {
   "cell_type": "code",
   "execution_count": 2,
   "metadata": {},
   "outputs": [
    {
     "name": "stdout",
     "output_type": "stream",
     "text": [
      "89\n"
     ]
    }
   ],
   "source": [
    "# 잔여건수 조회\n",
    "import requests\n",
    "from base64 import b64encode\n",
    "\n",
    "url = 'https://sslsms.cafe24.com/sms_remain.php'\n",
    "\n",
    "params = {\n",
    "    'user_id': b64encode(user_id.encode('euckr')),\n",
    "    'secure': b64encode(secure.encode('euckr')),\n",
    "    'mode': b64encode('1'.encode('euckr')),\n",
    "}\n",
    "\n",
    "response = requests.post(url, data=params)\n",
    "print(response.text)"
   ]
  },
  {
   "cell_type": "code",
   "execution_count": 3,
   "metadata": {},
   "outputs": [
    {
     "name": "stdout",
     "output_type": "stream",
     "text": [
      "success,88\n"
     ]
    }
   ],
   "source": [
    "# SMS 발송\n",
    "\n",
    "url = 'https://sslsms.cafe24.com/sms_sender.php'\n",
    "\n",
    "params = {\n",
    "    'user_id': user_id, 'secure': secure, 'mode': '1',\n",
    "    'sphone1': '010',\n",
    "    'sphone2': '9129',\n",
    "    'sphone3': '4131',\n",
    "    'rphone': '01086217828',  # FIXME : \n",
    "    'msg': 'ALOHA MY FRIEND.',        # FIXME : \n",
    "}\n",
    "\n",
    "data = {}\n",
    "for key, value in params.items():\n",
    "    # 보낼 메세지. 최대 90바이트 # 송신자 앞 3자리\n",
    "    # 송신자 다음 4자리\n",
    "    # 송신자 마지막 4자리\n",
    "    # 수신자 전화번호 목록 : 구분자 콤마\n",
    "    if isinstance(value, str):\n",
    "        encoded = value.encode('euckr')[:90]\n",
    "        encoded = encoded.decode('euckr', 'ignore').encode('euckr')\n",
    "        value = b64encode(encoded)\n",
    "    data[key] = value\n",
    "\n",
    "print(requests.post(url, data=data).text)\n"
   ]
  },
  {
   "cell_type": "code",
   "execution_count": null,
   "metadata": {
    "collapsed": true
   },
   "outputs": [],
   "source": []
  }
 ],
 "metadata": {
  "kernelspec": {
   "display_name": "Python 3",
   "language": "python",
   "name": "python3"
  },
  "language_info": {
   "codemirror_mode": {
    "name": "ipython",
    "version": 3
   },
   "file_extension": ".py",
   "mimetype": "text/x-python",
   "name": "python",
   "nbconvert_exporter": "python",
   "pygments_lexer": "ipython3",
   "version": "3.5.2"
  }
 },
 "nbformat": 4,
 "nbformat_minor": 2
}
