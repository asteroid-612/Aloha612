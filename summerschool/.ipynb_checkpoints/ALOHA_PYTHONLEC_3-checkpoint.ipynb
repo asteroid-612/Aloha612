{
 "cells": [
  {
   "cell_type": "markdown",
   "metadata": {},
   "source": [
    "\n",
    "## 1급 함수, 1급 클래스"
   ]
  },
  {
   "cell_type": "code",
   "execution_count": 1,
   "metadata": {
    "collapsed": true
   },
   "outputs": [],
   "source": [
    "## 1급 객체"
   ]
  },
  {
   "cell_type": "code",
   "execution_count": 2,
   "metadata": {
    "collapsed": true
   },
   "outputs": [],
   "source": [
    "def mysum(x, y):\n",
    "    return x+y"
   ]
  },
  {
   "cell_type": "code",
   "execution_count": 3,
   "metadata": {
    "collapsed": true
   },
   "outputs": [],
   "source": [
    "other_fn = mysum  ## 함수를 다른 이름으로 변수취급 가능하다. (1급객체 지원하는 언어이다)"
   ]
  },
  {
   "cell_type": "code",
   "execution_count": 5,
   "metadata": {},
   "outputs": [
    {
     "data": {
      "text/plain": [
       "3"
      ]
     },
     "execution_count": 5,
     "metadata": {},
     "output_type": "execute_result"
    }
   ],
   "source": [
    "other_fn(1,2)"
   ]
  },
  {
   "cell_type": "code",
   "execution_count": 6,
   "metadata": {
    "collapsed": true
   },
   "outputs": [],
   "source": [
    "def myfn (fn,x,y):\n",
    "    return fn(x,y)"
   ]
  },
  {
   "cell_type": "code",
   "execution_count": 7,
   "metadata": {},
   "outputs": [
    {
     "data": {
      "text/plain": [
       "3"
      ]
     },
     "execution_count": 7,
     "metadata": {},
     "output_type": "execute_result"
    }
   ],
   "source": [
    "myfn(mysum, 1, 2)"
   ]
  },
  {
   "cell_type": "code",
   "execution_count": 8,
   "metadata": {},
   "outputs": [
    {
     "data": {
      "text/plain": [
       "3"
      ]
     },
     "execution_count": 8,
     "metadata": {},
     "output_type": "execute_result"
    }
   ],
   "source": [
    "(lambda x, y: x + y)(1, 2) ## 익명함수, Anonymous Function"
   ]
  },
  {
   "cell_type": "code",
   "execution_count": 11,
   "metadata": {
    "collapsed": true
   },
   "outputs": [],
   "source": [
    "mysum2 = lambda x, y: x + y ## 익명함수에 mysum2 이름이 생겼다."
   ]
  },
  {
   "cell_type": "code",
   "execution_count": 12,
   "metadata": {},
   "outputs": [
    {
     "data": {
      "text/plain": [
       "3"
      ]
     },
     "execution_count": 12,
     "metadata": {},
     "output_type": "execute_result"
    }
   ],
   "source": [
    "mysum2(1,2)"
   ]
  },
  {
   "cell_type": "code",
   "execution_count": 13,
   "metadata": {
    "collapsed": true
   },
   "outputs": [],
   "source": [
    "def base_calc(base_number):\n",
    "    fn = lambda x, y: x + y + base_number\n",
    "    return fn"
   ]
  },
  {
   "cell_type": "code",
   "execution_count": 14,
   "metadata": {},
   "outputs": [
    {
     "data": {
      "text/plain": [
       "13"
      ]
     },
     "execution_count": 14,
     "metadata": {},
     "output_type": "execute_result"
    }
   ],
   "source": [
    "returned_fn = base_calc(10)\n",
    "returned_fn(1,2)"
   ]
  },
  {
   "cell_type": "code",
   "execution_count": 16,
   "metadata": {},
   "outputs": [
    {
     "data": {
      "text/plain": [
       "23"
      ]
     },
     "execution_count": 16,
     "metadata": {},
     "output_type": "execute_result"
    }
   ],
   "source": [
    "base_20 = base_calc(20)\n",
    "base_20(1,2)"
   ]
  },
  {
   "cell_type": "code",
   "execution_count": 17,
   "metadata": {
    "collapsed": true
   },
   "outputs": [],
   "source": [
    "def base_calc_other(base_number):\n",
    "    def fn(x,y):\n",
    "        return x + y + base_number\n",
    "    return fn"
   ]
  },
  {
   "cell_type": "code",
   "execution_count": 18,
   "metadata": {},
   "outputs": [
    {
     "data": {
      "text/plain": [
       "13"
      ]
     },
     "execution_count": 18,
     "metadata": {},
     "output_type": "execute_result"
    }
   ],
   "source": [
    "base_10 = base_calc_other(10)\n",
    "base_10(1,2)"
   ]
  },
  {
   "cell_type": "markdown",
   "metadata": {},
   "source": [
    "## CLASS"
   ]
  },
  {
   "cell_type": "code",
   "execution_count": 19,
   "metadata": {
    "collapsed": true
   },
   "outputs": [],
   "source": [
    "## 특정 대상뒤에 괄호를 열고닫음>>> \"호출\""
   ]
  },
  {
   "cell_type": "code",
   "execution_count": 65,
   "metadata": {},
   "outputs": [],
   "source": [
    "class Person:\n",
    "    def __init__(self, name, age, region): ## self의 값은 우리가 넘겨주는것이 아니라 파이썬이 지정해주는 값이다.\n",
    "        self.name = name\n",
    "        self.age = age\n",
    "        self.region = region\n",
    "    \n",
    "    def say_hello(self):  ##인자가 없이 실행됨\n",
    "        print(\" 안녕. 나는 {}이야. {}살이지. {}에 살아.\".format(self.name, self.age, self.region))\n",
    "    \n",
    "    def move_to(self, new_region):\n",
    "        print(\"{}는 {}에서 {}로 이사를 합니다\".format(self.name, self.region, new_region))\n",
    "        self.region = new_region"
   ]
  },
  {
   "cell_type": "code",
   "execution_count": 66,
   "metadata": {},
   "outputs": [],
   "source": [
    "Tom = Person(\"Tom\", 10, \"Seoul\")"
   ]
  },
  {
   "cell_type": "code",
   "execution_count": 72,
   "metadata": {},
   "outputs": [
    {
     "data": {
      "text/plain": [
       "('Tom', 10, 'China')"
      ]
     },
     "execution_count": 72,
     "metadata": {},
     "output_type": "execute_result"
    }
   ],
   "source": [
    "Tom.name, Tom.age, Tom.region"
   ]
  },
  {
   "cell_type": "code",
   "execution_count": 68,
   "metadata": {},
   "outputs": [],
   "source": [
    "Steve = Person(\"Steve\", 20, \"Sanfransisco\")"
   ]
  },
  {
   "cell_type": "code",
   "execution_count": 69,
   "metadata": {},
   "outputs": [
    {
     "name": "stdout",
     "output_type": "stream",
     "text": [
      " 안녕. 나는 Steve이야. 20살이지. Sanfransisco에 살아.\n"
     ]
    }
   ],
   "source": [
    "Steve.say_hello()"
   ]
  },
  {
   "cell_type": "code",
   "execution_count": 70,
   "metadata": {},
   "outputs": [
    {
     "name": "stdout",
     "output_type": "stream",
     "text": [
      "Steve는 Sanfransisco에서 Seoul로 이사를 합니다\n"
     ]
    }
   ],
   "source": [
    "Steve.move_to(\"Seoul\")"
   ]
  },
  {
   "cell_type": "code",
   "execution_count": 71,
   "metadata": {},
   "outputs": [
    {
     "name": "stdout",
     "output_type": "stream",
     "text": [
      "Tom는 Seoul에서 China로 이사를 합니다\n"
     ]
    }
   ],
   "source": [
    "Tom.move_to(\"China\")"
   ]
  },
  {
   "cell_type": "markdown",
   "metadata": {},
   "source": [
    "## CALLABLE OBJECT"
   ]
  },
  {
   "cell_type": "code",
   "execution_count": 77,
   "metadata": {
    "collapsed": true
   },
   "outputs": [],
   "source": [
    "class Calculator:\n",
    "    def __init__(self, base):\n",
    "        self.base = base\n",
    "    \n",
    "    def sum(self, x, y):\n",
    "        return x + y + self.base\n",
    "    \n",
    "    def __call__(self, x, y):\n",
    "        return x + y + self.base"
   ]
  },
  {
   "cell_type": "code",
   "execution_count": 78,
   "metadata": {},
   "outputs": [
    {
     "data": {
      "text/plain": [
       "632"
      ]
     },
     "execution_count": 78,
     "metadata": {},
     "output_type": "execute_result"
    }
   ],
   "source": [
    "calc = Calculator(10)\n",
    "calc.base\n",
    "calc.sum(392, 230)"
   ]
  },
  {
   "cell_type": "code",
   "execution_count": 79,
   "metadata": {},
   "outputs": [
    {
     "name": "stdout",
     "output_type": "stream",
     "text": [
      "13\n",
      "13\n"
     ]
    }
   ],
   "source": [
    "print(calc.sum(1, 2))\n",
    "print(calc.__call__(1,2))"
   ]
  },
  {
   "cell_type": "code",
   "execution_count": 81,
   "metadata": {},
   "outputs": [
    {
     "data": {
      "text/plain": [
       "13"
      ]
     },
     "execution_count": 81,
     "metadata": {},
     "output_type": "execute_result"
    }
   ],
   "source": [
    "calc(1,2) ## 실제로 __call__ 인스턴스 함수를 파이썬이 호출해준 것"
   ]
  },
  {
   "cell_type": "markdown",
   "metadata": {},
   "source": [
    "## 상속, 오버라이딩"
   ]
  },
  {
   "cell_type": "code",
   "execution_count": 89,
   "metadata": {
    "collapsed": true
   },
   "outputs": [],
   "source": [
    "class Person2:\n",
    "    def run(self):\n",
    "        print('뜁니다')"
   ]
  },
  {
   "cell_type": "code",
   "execution_count": 90,
   "metadata": {},
   "outputs": [
    {
     "name": "stdout",
     "output_type": "stream",
     "text": [
      "발로 공을 드리블하며 뜁니다\n"
     ]
    }
   ],
   "source": [
    "class SoccerPlayer(Person2):\n",
    "    def run(self):\n",
    "        print(\"발로 공을 드리블하며 뜁니다\")\n",
    "        \n",
    "player = SoccerPlayer()\n",
    "player.run()"
   ]
  },
  {
   "cell_type": "code",
   "execution_count": 91,
   "metadata": {},
   "outputs": [
    {
     "name": "stdout",
     "output_type": "stream",
     "text": [
      "뜁니다\n"
     ]
    }
   ],
   "source": [
    "person = Person2()\n",
    "person.run()"
   ]
  },
  {
   "cell_type": "code",
   "execution_count": 92,
   "metadata": {},
   "outputs": [
    {
     "name": "stdout",
     "output_type": "stream",
     "text": [
      "뜁니다\n",
      "손으로 공을 드리블하며 뜁니다\n"
     ]
    }
   ],
   "source": [
    "class BasketBallPlayer(Person2):\n",
    "    def run(self):\n",
    "        super().run()\n",
    "        print(\"손으로 공을 드리블하며 뜁니다\")\n",
    "        \n",
    "player = BasketBallPlayer()\n",
    "player.run()"
   ]
  },
  {
   "cell_type": "markdown",
   "metadata": {},
   "source": [
    "## 예외(EXCEPTION)"
   ]
  },
  {
   "cell_type": "code",
   "execution_count": 93,
   "metadata": {},
   "outputs": [
    {
     "name": "stdout",
     "output_type": "stream",
     "text": [
      "line1\n"
     ]
    },
    {
     "ename": "ValueError",
     "evalue": "invalid literal for int() with base 10: 'a'",
     "output_type": "error",
     "traceback": [
      "\u001b[0;31m---------------------------------------------------------------------------\u001b[0m",
      "\u001b[0;31mValueError\u001b[0m                                Traceback (most recent call last)",
      "\u001b[0;32m<ipython-input-93-152cc6923cbc>\u001b[0m in \u001b[0;36m<module>\u001b[0;34m()\u001b[0m\n\u001b[1;32m      1\u001b[0m \u001b[0mprint\u001b[0m\u001b[0;34m(\u001b[0m\u001b[0;34m\"line1\"\u001b[0m\u001b[0;34m)\u001b[0m\u001b[0;34m\u001b[0m\u001b[0m\n\u001b[0;32m----> 2\u001b[0;31m \u001b[0mint\u001b[0m\u001b[0;34m(\u001b[0m\u001b[0;34m\"a\"\u001b[0m\u001b[0;34m)\u001b[0m\u001b[0;34m\u001b[0m\u001b[0m\n\u001b[0m\u001b[1;32m      3\u001b[0m \u001b[0mprint\u001b[0m\u001b[0;34m(\u001b[0m\u001b[0;34m\"line2\"\u001b[0m\u001b[0;34m)\u001b[0m\u001b[0;34m\u001b[0m\u001b[0m\n",
      "\u001b[0;31mValueError\u001b[0m: invalid literal for int() with base 10: 'a'"
     ]
    }
   ],
   "source": [
    "print(\"line1\")\n",
    "int(\"a\")\n",
    "print(\"line2\") ## 예외처리를 해주지않으면 예외 이후의 프로그램이 실행되지 않는다."
   ]
  },
  {
   "cell_type": "code",
   "execution_count": 96,
   "metadata": {},
   "outputs": [
    {
     "name": "stdout",
     "output_type": "stream",
     "text": [
      "10\n",
      "KeyError 예외발생\n",
      "END\n"
     ]
    }
   ],
   "source": [
    "people = {'john': 10, 'jane': 20, 'steve':8}\n",
    "try:\n",
    "    print(people['john'])\n",
    "    print(people['kal'])\n",
    "except KeyError:\n",
    "    print(\"KeyError 예외발생\")\n",
    "\n",
    "print(\"END\")"
   ]
  },
  {
   "cell_type": "code",
   "execution_count": 97,
   "metadata": {},
   "outputs": [
    {
     "name": "stdout",
     "output_type": "stream",
     "text": [
      "division by zero\n"
     ]
    }
   ],
   "source": [
    "try:\n",
    "    1 / 0\n",
    "except ZeroDivisionError as e:\n",
    "    print(e)"
   ]
  },
  {
   "cell_type": "code",
   "execution_count": 98,
   "metadata": {
    "collapsed": true
   },
   "outputs": [],
   "source": [
    "try:\n",
    "    1 / 0\n",
    "except:  ## 모든 예외를 다 잡겠다 >> 좋지않은 습관. \n",
    "    pass"
   ]
  },
  {
   "cell_type": "markdown",
   "metadata": {},
   "source": [
    "## DECORATOR"
   ]
  },
  {
   "cell_type": "code",
   "execution_count": 99,
   "metadata": {
    "collapsed": true
   },
   "outputs": [],
   "source": [
    "def base_10(fn):\n",
    "    def wrap(x, y):\n",
    "        return fn(x,y) +10\n",
    "    return wrap"
   ]
  },
  {
   "cell_type": "code",
   "execution_count": 100,
   "metadata": {},
   "outputs": [
    {
     "data": {
      "text/plain": [
       "13"
      ]
     },
     "execution_count": 100,
     "metadata": {},
     "output_type": "execute_result"
    }
   ],
   "source": [
    "def mysum(x, y):\n",
    "    return x + y\n",
    "\n",
    "return_fn = base_10(mysum)\n",
    "return_fn(1, 2)"
   ]
  },
  {
   "cell_type": "code",
   "execution_count": 102,
   "metadata": {},
   "outputs": [
    {
     "name": "stdout",
     "output_type": "stream",
     "text": [
      "13\n",
      "12\n"
     ]
    }
   ],
   "source": [
    "def mysum(x, y):\n",
    "    return x + y\n",
    " \n",
    "def mymultiply(x, y):\n",
    "    return x * y\n",
    "\n",
    "print(base_10(mysum)(1,2))\n",
    "print(base_10(mymultiply)(1,2))"
   ]
  },
  {
   "cell_type": "code",
   "execution_count": 106,
   "metadata": {},
   "outputs": [
    {
     "name": "stdout",
     "output_type": "stream",
     "text": [
      "13\n",
      "12\n"
     ]
    }
   ],
   "source": [
    "@base_10\n",
    "def mysum(x, y):\n",
    "    return x + y\n",
    "\n",
    "@base_10\n",
    "def mymultiply(x, y):\n",
    "    return x * y\n",
    "\n",
    "print(mysum(1,2))\n",
    "print(mymultiply(1,2))\n"
   ]
  },
  {
   "cell_type": "markdown",
   "metadata": {},
   "source": [
    "## Quiz\n",
    "\n",
    "+ 함수에 base_20 장식자를 정의하세요"
   ]
  },
  {
   "cell_type": "code",
   "execution_count": 108,
   "metadata": {
    "collapsed": true
   },
   "outputs": [],
   "source": [
    "def base_20(fn):\n",
    "    def wrap(x, y):\n",
    "        return fn(x,y) +20\n",
    "    return wrap"
   ]
  },
  {
   "cell_type": "code",
   "execution_count": 111,
   "metadata": {},
   "outputs": [
    {
     "data": {
      "text/plain": [
       "36"
      ]
     },
     "execution_count": 111,
     "metadata": {},
     "output_type": "execute_result"
    }
   ],
   "source": [
    "@base_20\n",
    "def mypower(x, y):\n",
    "    return x ** y\n",
    "\n",
    "mypower(2,4)"
   ]
  },
  {
   "cell_type": "code",
   "execution_count": 112,
   "metadata": {},
   "outputs": [
    {
     "data": {
      "text/plain": [
       "10"
      ]
     },
     "execution_count": 112,
     "metadata": {},
     "output_type": "execute_result"
    }
   ],
   "source": [
    "#절댓값 \n",
    "abs(-10)"
   ]
  },
  {
   "cell_type": "code",
   "execution_count": 114,
   "metadata": {},
   "outputs": [
    {
     "data": {
      "text/plain": [
       "13"
      ]
     },
     "execution_count": 114,
     "metadata": {},
     "output_type": "execute_result"
    }
   ],
   "source": [
    "def myabs(fn):\n",
    "    def wrap(x, y):\n",
    "        return fn(abs(x), abs(y))\n",
    "    return wrap\n",
    "\n",
    "@myabs\n",
    "def mysum(x, y):\n",
    "    return x + y\n",
    "mysum(-1,-12)"
   ]
  },
  {
   "cell_type": "code",
   "execution_count": 119,
   "metadata": {},
   "outputs": [
    {
     "data": {
      "text/plain": [
       "13"
      ]
     },
     "execution_count": 119,
     "metadata": {},
     "output_type": "execute_result"
    }
   ],
   "source": [
    "def base(base_number):\n",
    "    def wrap(fn):\n",
    "        def inner(x,y):\n",
    "            return fn(x,y) + base_number\n",
    "        return inner\n",
    "    return wrap\n",
    "\n",
    "base_10 = base(10)\n",
    "\n",
    "@base_10\n",
    "def mysum(x,y):\n",
    "    return x + y\n",
    "\n",
    "mysum(1,2)"
   ]
  },
  {
   "cell_type": "markdown",
   "metadata": {},
   "source": [
    "## Quiz2 \n",
    "+ 숫자를 인자로 받는 함수의 각 인자에 +10 을 더해주는 장식자를 작성하고, 예시도 작성하세요."
   ]
  },
  {
   "cell_type": "code",
   "execution_count": 126,
   "metadata": {
    "collapsed": true
   },
   "outputs": [],
   "source": [
    "def decorator(fn):\n",
    "    def inner(x,y):\n",
    "        return fn(x+10, y+10)\n",
    "    return inner"
   ]
  },
  {
   "cell_type": "code",
   "execution_count": 132,
   "metadata": {},
   "outputs": [
    {
     "name": "stdout",
     "output_type": "stream",
     "text": [
      "23\n",
      "25\n",
      "1st example end\n",
      "132\n",
      "156\n",
      "2nd example end\n"
     ]
    }
   ],
   "source": [
    "## EXAMPLE ##\n",
    "\n",
    "@decorator\n",
    "def mysum(x,y):\n",
    "    return x + y\n",
    "\n",
    "print(mysum(1,2))\n",
    "print(mysum(2,3))\n",
    "\n",
    "print(\"1st example end\")\n",
    "\n",
    "@decorator\n",
    "def calculate(x,y):\n",
    "    return x * y\n",
    "\n",
    "print(calculate(1,2))\n",
    "print(calculate(2,3))\n",
    "\n",
    "print(\"2nd example end\")"
   ]
  },
  {
   "cell_type": "markdown",
   "metadata": {},
   "source": [
    "## memoize 패턴"
   ]
  },
  {
   "cell_type": "code",
   "execution_count": 141,
   "metadata": {
    "collapsed": true
   },
   "outputs": [],
   "source": [
    "import time\n",
    "\n",
    "def memoize(fn):\n",
    "    cached = {}\n",
    "    def wrap(x,y):\n",
    "        key = (x, y)\n",
    "        if key not in cached:\n",
    "            cached[key] = fn(x, y)\n",
    "        return cached[key]\n",
    "    return wrap\n",
    "        \n",
    "@memoize\n",
    "def mysum(x, y):\n",
    "    time.sleep(1)\n",
    "    return x + y\n",
    "\n",
    "@memoize\n",
    "def mymultiply(x, y):\n",
    "    time.sleep(1)\n",
    "    return x *y "
   ]
  },
  {
   "cell_type": "code",
   "execution_count": 142,
   "metadata": {},
   "outputs": [
    {
     "name": "stdout",
     "output_type": "stream",
     "text": [
      "3\n",
      "3\n",
      "3\n",
      "3\n",
      "3\n",
      "4\n",
      "3\n",
      "3\n",
      "3\n",
      "3\n",
      "3\n"
     ]
    }
   ],
   "source": [
    "print(mysum(1,2))\n",
    "print(mysum(1,2))\n",
    "print(mysum(1,2))\n",
    "print(mysum(1,2))\n",
    "print(mysum(1,2))\n",
    "print(mysum(1,3))\n",
    "\n",
    "print(mymultiply(1,3))\n",
    "print(mymultiply(1,3))\n",
    "print(mymultiply(1,3))\n",
    "print(mymultiply(1,3))\n",
    "print(mymultiply(1,3))"
   ]
  },
  {
   "cell_type": "markdown",
   "metadata": {},
   "source": [
    "## QUIZ\n",
    "+ 인자 3개를 받는 memoize3 장식자를 만들고, 예시 작성"
   ]
  },
  {
   "cell_type": "code",
   "execution_count": 144,
   "metadata": {},
   "outputs": [
    {
     "name": "stdout",
     "output_type": "stream",
     "text": [
      "6\n",
      "6\n",
      "6\n",
      "6\n",
      "7\n",
      "6\n",
      "6\n",
      "6\n",
      "10\n"
     ]
    }
   ],
   "source": [
    "def memoize3(fn):\n",
    "    cached = {}\n",
    "    def wrap(x, y, z):\n",
    "        key = (x, y, z)\n",
    "        if key not in cached:\n",
    "            cached[key] = fn(x, y, z)\n",
    "        return cached[key]\n",
    "    return wrap\n",
    "\n",
    "@memoize3\n",
    "def lets_caculate(x,y,z):\n",
    "    time.sleep(1)\n",
    "    return x + y + z\n",
    "\n",
    "@memoize3\n",
    "def lets2(x,y,z):\n",
    "    time.sleep(1)\n",
    "    return x * y * z\n",
    "\n",
    "print(lets_caculate(1,2,3))\n",
    "print(lets_caculate(1,2,3))\n",
    "print(lets_caculate(1,2,3))\n",
    "print(lets_caculate(1,2,3))\n",
    "print(lets_caculate(1,2,4))\n",
    "\n",
    "print(lets2(1,2,3))\n",
    "print(lets2(1,2,3))\n",
    "print(lets2(1,2,3))\n",
    "print(lets2(1,2,5))"
   ]
  },
  {
   "cell_type": "markdown",
   "metadata": {},
   "source": [
    "## 가변인자 \n",
    "\n",
    "+ 위치 가변인자\n",
    "+ 키워드 가변인자 "
   ]
  },
  {
   "cell_type": "code",
   "execution_count": 146,
   "metadata": {},
   "outputs": [
    {
     "name": "stdout",
     "output_type": "stream",
     "text": [
      "3\n",
      "6\n",
      "7\n",
      "15\n",
      "25\n",
      "45\n"
     ]
    }
   ],
   "source": [
    "def mysum2(*args):  # 위치 가변인자 # packing\n",
    "    result = 0\n",
    "    for i in args:\n",
    "        result += i\n",
    "    return result\n",
    "\n",
    "print(mysum2(1,2))\n",
    "print(mysum2(1,2,3))\n",
    "print(mysum2(1,2,4))\n",
    "print(mysum2(1,2,3,4,5))\n",
    "print(mysum2(1,2,4,5,6,7))\n",
    "print(mysum2(1,2,3,4,5,6,7,8,9))"
   ]
  },
  {
   "cell_type": "code",
   "execution_count": 148,
   "metadata": {},
   "outputs": [
    {
     "name": "stdout",
     "output_type": "stream",
     "text": [
      "6\n"
     ]
    }
   ],
   "source": [
    "def mysum3(x, y, z):  # unpacking\n",
    "    return x + y + z\n",
    "\n",
    "myparams= [1,2,3]\n",
    "print(mysum3(*myparams)) # 들어가는 인자의 개수를 맞춰줘야만 하지만 들어가게 할 개수를 slicing으로 지정가능."
   ]
  },
  {
   "cell_type": "markdown",
   "metadata": {},
   "source": [
    "## 네이버 웹툰 크롤링"
   ]
  },
  {
   "cell_type": "code",
   "execution_count": 149,
   "metadata": {
    "collapsed": true
   },
   "outputs": [],
   "source": [
    "from collections import OrderedDict\n",
    "from itertools import count\n",
    "from urllib.parse import urljoin\n",
    "import requests\n",
    "from bs4 import BeautifulSoup\n",
    "\n",
    "\n",
    "def get_list(title_id):\n",
    "    list_url = 'http://comic.naver.com/webtoon/list.nhn'\n",
    "    ep_dict = OrderedDict()\n",
    "\n",
    "    for page in count(1):\n",
    "        params = {'titleId': title_id, 'page': page}\n",
    "        print('try {}'.format(params))\n",
    "        list_html = requests.get(list_url, params=params).text\n",
    "        soup = BeautifulSoup(list_html, 'html.parser')\n",
    "        for tag in soup.select('.viewList tr td.title'):\n",
    "            tag_a = tag.find('a')\n",
    "            is_up = bool(tag.find('img'))\n",
    "            link = urljoin(list_url, tag_a['href'])\n",
    "            title = tag_a.text\n",
    "            print(title, is_up, link)\n",
    "            if link in ep_dict:\n",
    "                return ep_dict\n",
    "            ep = {\n",
    "                'title': title,\n",
    "                'is_up': is_up,\n",
    "                'link': link,\n",
    "            }\n",
    "            ep_dict[link] = ep"
   ]
  },
  {
   "cell_type": "code",
   "execution_count": 150,
   "metadata": {},
   "outputs": [
    {
     "name": "stdout",
     "output_type": "stream",
     "text": [
      "try {'titleId': '698888', 'page': 1}\n",
      "1화. 친구는 어떻게 사귀나요? False http://comic.naver.com/webtoon/detail.nhn?titleId=698888&no=2&weekday=mon\n",
      "프롤로그 False http://comic.naver.com/webtoon/detail.nhn?titleId=698888&no=1&weekday=mon\n",
      "try {'titleId': '698888', 'page': 2}\n",
      "1화. 친구는 어떻게 사귀나요? False http://comic.naver.com/webtoon/detail.nhn?titleId=698888&no=2&weekday=mon\n"
     ]
    },
    {
     "data": {
      "text/plain": [
       "OrderedDict([('http://comic.naver.com/webtoon/detail.nhn?titleId=698888&no=2&weekday=mon',\n",
       "              {'is_up': False,\n",
       "               'link': 'http://comic.naver.com/webtoon/detail.nhn?titleId=698888&no=2&weekday=mon',\n",
       "               'title': '1화. 친구는 어떻게 사귀나요?'}),\n",
       "             ('http://comic.naver.com/webtoon/detail.nhn?titleId=698888&no=1&weekday=mon',\n",
       "              {'is_up': False,\n",
       "               'link': 'http://comic.naver.com/webtoon/detail.nhn?titleId=698888&no=1&weekday=mon',\n",
       "               'title': '프롤로그'})])"
      ]
     },
     "execution_count": 150,
     "metadata": {},
     "output_type": "execute_result"
    }
   ],
   "source": [
    "get_list('698888')"
   ]
  },
  {
   "cell_type": "code",
   "execution_count": 151,
   "metadata": {},
   "outputs": [
    {
     "name": "stdout",
     "output_type": "stream",
     "text": [
      "http://imgcomic.naver.net/webtoon/662774/37/20160510150916_12adcfae4fca4e6f7265c76c85a13661_IMAG01_1.jpg\n",
      "20160510150916_12adcfae4fca4e6f7265c76c85a13661_IMAG01_1.jpg\n",
      "http://imgcomic.naver.net/webtoon/662774/37/20160510150916_12adcfae4fca4e6f7265c76c85a13661_IMAG01_2.jpg\n",
      "20160510150916_12adcfae4fca4e6f7265c76c85a13661_IMAG01_2.jpg\n",
      "http://imgcomic.naver.net/webtoon/662774/37/20160510150916_12adcfae4fca4e6f7265c76c85a13661_IMAG01_3.jpg\n",
      "20160510150916_12adcfae4fca4e6f7265c76c85a13661_IMAG01_3.jpg\n",
      "http://imgcomic.naver.net/webtoon/662774/37/20160510150916_12adcfae4fca4e6f7265c76c85a13661_IMAG01_4.jpg\n",
      "20160510150916_12adcfae4fca4e6f7265c76c85a13661_IMAG01_4.jpg\n",
      "http://imgcomic.naver.net/webtoon/662774/37/20160510150916_12adcfae4fca4e6f7265c76c85a13661_IMAG01_5.jpg\n",
      "20160510150916_12adcfae4fca4e6f7265c76c85a13661_IMAG01_5.jpg\n",
      "http://imgcomic.naver.net/webtoon/662774/37/20160510150916_12adcfae4fca4e6f7265c76c85a13661_IMAG01_6.jpg\n",
      "20160510150916_12adcfae4fca4e6f7265c76c85a13661_IMAG01_6.jpg\n",
      "http://imgcomic.naver.net/webtoon/662774/37/20160510150916_12adcfae4fca4e6f7265c76c85a13661_IMAG01_7.jpg\n",
      "20160510150916_12adcfae4fca4e6f7265c76c85a13661_IMAG01_7.jpg\n",
      "http://imgcomic.naver.net/webtoon/662774/37/20160510150916_12adcfae4fca4e6f7265c76c85a13661_IMAG01_8.jpg\n",
      "20160510150916_12adcfae4fca4e6f7265c76c85a13661_IMAG01_8.jpg\n",
      "http://imgcomic.naver.net/webtoon/662774/37/20160510150916_12adcfae4fca4e6f7265c76c85a13661_IMAG01_9.jpg\n",
      "20160510150916_12adcfae4fca4e6f7265c76c85a13661_IMAG01_9.jpg\n",
      "http://imgcomic.naver.net/webtoon/662774/37/20160510150916_12adcfae4fca4e6f7265c76c85a13661_IMAG01_10.jpg\n",
      "20160510150916_12adcfae4fca4e6f7265c76c85a13661_IMAG01_10.jpg\n",
      "http://imgcomic.naver.net/webtoon/662774/37/20160510150916_12adcfae4fca4e6f7265c76c85a13661_IMAG01_11.jpg\n",
      "20160510150916_12adcfae4fca4e6f7265c76c85a13661_IMAG01_11.jpg\n",
      "http://imgcomic.naver.net/webtoon/662774/37/20160510150916_12adcfae4fca4e6f7265c76c85a13661_IMAG01_12.jpg\n",
      "20160510150916_12adcfae4fca4e6f7265c76c85a13661_IMAG01_12.jpg\n",
      "http://imgcomic.naver.net/webtoon/662774/37/20160510150916_12adcfae4fca4e6f7265c76c85a13661_IMAG01_13.jpg\n",
      "20160510150916_12adcfae4fca4e6f7265c76c85a13661_IMAG01_13.jpg\n",
      "http://imgcomic.naver.net/webtoon/662774/37/20160510150916_12adcfae4fca4e6f7265c76c85a13661_IMAG01_14.jpg\n",
      "20160510150916_12adcfae4fca4e6f7265c76c85a13661_IMAG01_14.jpg\n",
      "http://imgcomic.naver.net/webtoon/662774/37/20160510150916_12adcfae4fca4e6f7265c76c85a13661_IMAG01_15.jpg\n",
      "20160510150916_12adcfae4fca4e6f7265c76c85a13661_IMAG01_15.jpg\n",
      "http://imgcomic.naver.net/webtoon/662774/37/20160510150916_12adcfae4fca4e6f7265c76c85a13661_IMAG01_16.jpg\n",
      "20160510150916_12adcfae4fca4e6f7265c76c85a13661_IMAG01_16.jpg\n",
      "http://imgcomic.naver.net/webtoon/662774/37/20160510150916_12adcfae4fca4e6f7265c76c85a13661_IMAG01_17.jpg\n",
      "20160510150916_12adcfae4fca4e6f7265c76c85a13661_IMAG01_17.jpg\n",
      "http://imgcomic.naver.net/webtoon/662774/37/20160510150916_12adcfae4fca4e6f7265c76c85a13661_IMAG01_18.jpg\n",
      "20160510150916_12adcfae4fca4e6f7265c76c85a13661_IMAG01_18.jpg\n",
      "http://imgcomic.naver.net/webtoon/662774/37/20160510150916_12adcfae4fca4e6f7265c76c85a13661_IMAG01_19.jpg\n",
      "20160510150916_12adcfae4fca4e6f7265c76c85a13661_IMAG01_19.jpg\n",
      "http://imgcomic.naver.net/webtoon/662774/37/20160510150916_12adcfae4fca4e6f7265c76c85a13661_IMAG01_20.jpg\n",
      "20160510150916_12adcfae4fca4e6f7265c76c85a13661_IMAG01_20.jpg\n",
      "http://imgcomic.naver.net/webtoon/662774/37/20160510150916_12adcfae4fca4e6f7265c76c85a13661_IMAG01_21.jpg\n",
      "20160510150916_12adcfae4fca4e6f7265c76c85a13661_IMAG01_21.jpg\n",
      "http://imgcomic.naver.net/webtoon/662774/37/20160510150916_12adcfae4fca4e6f7265c76c85a13661_IMAG01_22.jpg\n",
      "20160510150916_12adcfae4fca4e6f7265c76c85a13661_IMAG01_22.jpg\n",
      "http://imgcomic.naver.net/webtoon/662774/37/20160510150916_12adcfae4fca4e6f7265c76c85a13661_IMAG01_23.jpg\n",
      "20160510150916_12adcfae4fca4e6f7265c76c85a13661_IMAG01_23.jpg\n",
      "http://imgcomic.naver.net/webtoon/662774/37/20160510150916_12adcfae4fca4e6f7265c76c85a13661_IMAG01_24.jpg\n",
      "20160510150916_12adcfae4fca4e6f7265c76c85a13661_IMAG01_24.jpg\n",
      "http://imgcomic.naver.net/webtoon/662774/37/20160510150916_12adcfae4fca4e6f7265c76c85a13661_IMAG01_25.jpg\n",
      "20160510150916_12adcfae4fca4e6f7265c76c85a13661_IMAG01_25.jpg\n",
      "http://imgcomic.naver.net/webtoon/662774/37/20160510150916_12adcfae4fca4e6f7265c76c85a13661_IMAG01_26.jpg\n",
      "20160510150916_12adcfae4fca4e6f7265c76c85a13661_IMAG01_26.jpg\n",
      "http://imgcomic.naver.net/webtoon/662774/37/20160510150916_12adcfae4fca4e6f7265c76c85a13661_IMAG01_27.jpg\n",
      "20160510150916_12adcfae4fca4e6f7265c76c85a13661_IMAG01_27.jpg\n",
      "http://imgcomic.naver.net/webtoon/662774/37/20160510150916_12adcfae4fca4e6f7265c76c85a13661_IMAG01_28.jpg\n",
      "20160510150916_12adcfae4fca4e6f7265c76c85a13661_IMAG01_28.jpg\n",
      "http://imgcomic.naver.net/webtoon/662774/37/20160510150916_12adcfae4fca4e6f7265c76c85a13661_IMAG01_29.jpg\n",
      "20160510150916_12adcfae4fca4e6f7265c76c85a13661_IMAG01_29.jpg\n",
      "http://imgcomic.naver.net/webtoon/662774/37/20160510150916_12adcfae4fca4e6f7265c76c85a13661_IMAG01_30.jpg\n",
      "20160510150916_12adcfae4fca4e6f7265c76c85a13661_IMAG01_30.jpg\n",
      "http://imgcomic.naver.net/webtoon/662774/37/20160510150916_12adcfae4fca4e6f7265c76c85a13661_IMAG01_31.jpg\n",
      "20160510150916_12adcfae4fca4e6f7265c76c85a13661_IMAG01_31.jpg\n",
      "http://imgcomic.naver.net/webtoon/662774/37/20160510150916_12adcfae4fca4e6f7265c76c85a13661_IMAG01_32.jpg\n",
      "20160510150916_12adcfae4fca4e6f7265c76c85a13661_IMAG01_32.jpg\n",
      "http://imgcomic.naver.net/webtoon/662774/37/20160510150916_12adcfae4fca4e6f7265c76c85a13661_IMAG01_33.jpg\n",
      "20160510150916_12adcfae4fca4e6f7265c76c85a13661_IMAG01_33.jpg\n",
      "http://imgcomic.naver.net/webtoon/662774/37/20160510150916_12adcfae4fca4e6f7265c76c85a13661_IMAG01_34.jpg\n",
      "20160510150916_12adcfae4fca4e6f7265c76c85a13661_IMAG01_34.jpg\n",
      "http://imgcomic.naver.net/webtoon/662774/37/20160510150916_12adcfae4fca4e6f7265c76c85a13661_IMAG01_35.jpg\n",
      "20160510150916_12adcfae4fca4e6f7265c76c85a13661_IMAG01_35.jpg\n",
      "http://imgcomic.naver.net/webtoon/662774/37/20160510150916_12adcfae4fca4e6f7265c76c85a13661_IMAG01_36.jpg\n",
      "20160510150916_12adcfae4fca4e6f7265c76c85a13661_IMAG01_36.jpg\n",
      "http://imgcomic.naver.net/webtoon/662774/37/20160510150916_12adcfae4fca4e6f7265c76c85a13661_IMAG01_37.jpg\n",
      "20160510150916_12adcfae4fca4e6f7265c76c85a13661_IMAG01_37.jpg\n",
      "http://imgcomic.naver.net/webtoon/662774/37/20160510150916_12adcfae4fca4e6f7265c76c85a13661_IMAG01_38.jpg\n",
      "20160510150916_12adcfae4fca4e6f7265c76c85a13661_IMAG01_38.jpg\n",
      "http://imgcomic.naver.net/webtoon/662774/37/20160510150916_12adcfae4fca4e6f7265c76c85a13661_IMAG01_39.jpg\n",
      "20160510150916_12adcfae4fca4e6f7265c76c85a13661_IMAG01_39.jpg\n",
      "http://imgcomic.naver.net/webtoon/662774/37/20160510150916_12adcfae4fca4e6f7265c76c85a13661_IMAG01_40.jpg\n",
      "20160510150916_12adcfae4fca4e6f7265c76c85a13661_IMAG01_40.jpg\n"
     ]
    }
   ],
   "source": [
    "## 이미지 다운받기\n",
    "import os\n",
    "import requests               # pip install requests\n",
    "from bs4 import BeautifulSoup  # pip install beautifulsoup4\n",
    "from PIL import Image          # pip install pillow\n",
    "\n",
    "ep_url = \"http://comic.naver.com/webtoon/detail.nhn?titleId=662774&no=37&weekday=wed\"\n",
    "html = requests.get(ep_url).text\n",
    "soup = BeautifulSoup(html, 'html.parser')\n",
    "\n",
    "im_list = []\n",
    "\n",
    "for tag in soup.select('.wt_viewer img'):\n",
    "    img_url = tag['src']\n",
    "    headers = {\n",
    "        'Referer': ep_url,\n",
    "    }\n",
    "    img_data = requests.get(img_url, headers=headers).content\n",
    "    \n",
    "    print(img_url)\n",
    "    \n",
    "    # filename = img_url.split('/')[-1]\n",
    "    filename = os.path.basename(img_url)\n",
    "    print(filename)\n",
    "    \n",
    "    with open(filename, 'wb') as f:\n",
    "        f.write(img_data)\n",
    "\n",
    "    im = Image.open(filename)  # Image Instance\n",
    "    im_list.append(im)"
   ]
  },
  {
   "cell_type": "code",
   "execution_count": 152,
   "metadata": {},
   "outputs": [
    {
     "name": "stdout",
     "output_type": "stream",
     "text": [
      "690\n",
      "2925\n"
     ]
    }
   ],
   "source": [
    "print(im_list[0].width)\n",
    "print(im_list[0].height)"
   ]
  },
  {
   "cell_type": "code",
   "execution_count": 153,
   "metadata": {},
   "outputs": [
    {
     "data": {
      "text/plain": [
       "690"
      ]
     },
     "execution_count": 153,
     "metadata": {},
     "output_type": "execute_result"
    }
   ],
   "source": [
    "canvas_width = None\n",
    "for im in im_list:\n",
    "    if canvas_width is None:\n",
    "        canvas_width = im.width\n",
    "    elif canvas_width < im.width:\n",
    "        canvas_width = im.width\n",
    "canvas_width\n"
   ]
  },
  {
   "cell_type": "code",
   "execution_count": 154,
   "metadata": {},
   "outputs": [
    {
     "data": {
      "text/plain": [
       "115191"
      ]
     },
     "execution_count": 154,
     "metadata": {},
     "output_type": "execute_result"
    }
   ],
   "source": [
    "canvas_height = 0\n",
    "for im in im_list:\n",
    "    canvas_height += im.height\n",
    "canvas_height"
   ]
  },
  {
   "cell_type": "code",
   "execution_count": 155,
   "metadata": {},
   "outputs": [
    {
     "data": {
      "text/plain": [
       "690"
      ]
     },
     "execution_count": 155,
     "metadata": {},
     "output_type": "execute_result"
    }
   ],
   "source": [
    "canvas_width = max(im.width for im in im_list)\n",
    "canvas_width"
   ]
  },
  {
   "cell_type": "code",
   "execution_count": 156,
   "metadata": {},
   "outputs": [
    {
     "data": {
      "text/plain": [
       "115191"
      ]
     },
     "execution_count": 156,
     "metadata": {},
     "output_type": "execute_result"
    }
   ],
   "source": [
    "canvas_height = sum(im.height for im in im_list)\n",
    "canvas_height"
   ]
  },
  {
   "cell_type": "code",
   "execution_count": 157,
   "metadata": {},
   "outputs": [
    {
     "name": "stdout",
     "output_type": "stream",
     "text": [
      "2925\n",
      "5700\n",
      "8277\n",
      "10887\n",
      "13803\n",
      "16698\n",
      "19698\n",
      "22536\n",
      "25536\n",
      "28536\n",
      "31536\n",
      "34536\n",
      "37536\n",
      "40314\n",
      "43314\n",
      "46182\n",
      "49182\n",
      "51996\n",
      "54996\n",
      "57996\n",
      "60996\n",
      "63600\n",
      "66600\n",
      "69507\n",
      "72387\n",
      "75300\n",
      "78300\n",
      "81300\n",
      "84300\n",
      "87300\n",
      "90300\n",
      "92961\n",
      "95961\n",
      "98757\n",
      "101757\n",
      "104556\n",
      "107328\n",
      "110154\n",
      "112704\n",
      "115191\n"
     ]
    }
   ],
   "source": [
    "with Image.new('RGB', (canvas_width, canvas_height)) as canvas:\n",
    "    left = 0\n",
    "    top = 0\n",
    "    for im in im_list:\n",
    "        canvas.paste(im, (left, top))\n",
    "        top += im.height\n",
    "        print(top)\n",
    "    canvas.save(\"merged.png\")\n"
   ]
  },
  {
   "cell_type": "code",
   "execution_count": null,
   "metadata": {
    "collapsed": true
   },
   "outputs": [],
   "source": []
  }
 ],
 "metadata": {
  "kernelspec": {
   "display_name": "Python 3",
   "language": "python",
   "name": "python3"
  },
  "language_info": {
   "codemirror_mode": {
    "name": "ipython",
    "version": 3
   },
   "file_extension": ".py",
   "mimetype": "text/x-python",
   "name": "python",
   "nbconvert_exporter": "python",
   "pygments_lexer": "ipython3",
   "version": "3.5.2"
  }
 },
 "nbformat": 4,
 "nbformat_minor": 2
}
