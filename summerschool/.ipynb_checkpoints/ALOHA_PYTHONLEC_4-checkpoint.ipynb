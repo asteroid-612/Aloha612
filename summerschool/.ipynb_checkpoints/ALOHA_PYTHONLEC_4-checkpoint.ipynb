{
 "cells": [
  {
   "cell_type": "code",
   "execution_count": 2,
   "metadata": {},
   "outputs": [
    {
     "data": {
      "text/plain": [
       "5"
      ]
     },
     "execution_count": 2,
     "metadata": {},
     "output_type": "execute_result"
    }
   ],
   "source": [
    "len(\"ALOHA\") # 유니코드(str)문자열"
   ]
  },
  {
   "cell_type": "code",
   "execution_count": 4,
   "metadata": {},
   "outputs": [
    {
     "name": "stdout",
     "output_type": "stream",
     "text": [
      "ALOO\n"
     ]
    }
   ],
   "source": [
    "message = \"ALOOHA\"[:4]\n",
    "print(message)"
   ]
  },
  {
   "cell_type": "code",
   "execution_count": 6,
   "metadata": {},
   "outputs": [
    {
     "name": "stdout",
     "output_type": "stream",
     "text": [
      "27\n"
     ]
    }
   ],
   "source": [
    "message = \"안녕하세요. 교수님.\".encode(\"utf8\")  # UTF8 문자열 ( bytes )\n",
    "print(len(message))  #바이트 수 "
   ]
  },
  {
   "cell_type": "code",
   "execution_count": 8,
   "metadata": {},
   "outputs": [
    {
     "name": "stdout",
     "output_type": "stream",
     "text": [
      "안-녕하세\n"
     ]
    }
   ],
   "source": [
    "message = \"안-녕하세요. 교수님.\".encode(\"utf8\")  # UTF8 문자열 ( bytes )\n",
    "print((message[:13]).decode(\"utf8\"))  #바이트 수 "
   ]
  },
  {
   "cell_type": "markdown",
   "metadata": {},
   "source": [
    "## ASCII"
   ]
  },
  {
   "cell_type": "code",
   "execution_count": 10,
   "metadata": {},
   "outputs": [
    {
     "data": {
      "text/plain": [
       "49"
      ]
     },
     "execution_count": 10,
     "metadata": {},
     "output_type": "execute_result"
    }
   ],
   "source": [
    "ord(\"1\")"
   ]
  },
  {
   "cell_type": "code",
   "execution_count": 11,
   "metadata": {},
   "outputs": [
    {
     "data": {
      "text/plain": [
       "'1'"
      ]
     },
     "execution_count": 11,
     "metadata": {},
     "output_type": "execute_result"
    }
   ],
   "source": [
    "chr(49)"
   ]
  },
  {
   "cell_type": "code",
   "execution_count": 12,
   "metadata": {},
   "outputs": [
    {
     "name": "stdout",
     "output_type": "stream",
     "text": [
      "0 '\\x00'\n",
      "1 '\\x01'\n",
      "2 '\\x02'\n",
      "3 '\\x03'\n",
      "4 '\\x04'\n",
      "5 '\\x05'\n",
      "6 '\\x06'\n",
      "7 '\\x07'\n",
      "8 '\\x08'\n",
      "9 '\\t'\n",
      "10 '\\n'\n",
      "11 '\\x0b'\n",
      "12 '\\x0c'\n",
      "13 '\\r'\n",
      "14 '\\x0e'\n",
      "15 '\\x0f'\n",
      "16 '\\x10'\n",
      "17 '\\x11'\n",
      "18 '\\x12'\n",
      "19 '\\x13'\n",
      "20 '\\x14'\n",
      "21 '\\x15'\n",
      "22 '\\x16'\n",
      "23 '\\x17'\n",
      "24 '\\x18'\n",
      "25 '\\x19'\n",
      "26 '\\x1a'\n",
      "27 '\\x1b'\n",
      "28 '\\x1c'\n",
      "29 '\\x1d'\n",
      "30 '\\x1e'\n",
      "31 '\\x1f'\n",
      "32 ' '\n",
      "33 '!'\n",
      "34 '\"'\n",
      "35 '#'\n",
      "36 '$'\n",
      "37 '%'\n",
      "38 '&'\n",
      "39 \"'\"\n",
      "40 '('\n",
      "41 ')'\n",
      "42 '*'\n",
      "43 '+'\n",
      "44 ','\n",
      "45 '-'\n",
      "46 '.'\n",
      "47 '/'\n",
      "48 '0'\n",
      "49 '1'\n",
      "50 '2'\n",
      "51 '3'\n",
      "52 '4'\n",
      "53 '5'\n",
      "54 '6'\n",
      "55 '7'\n",
      "56 '8'\n",
      "57 '9'\n",
      "58 ':'\n",
      "59 ';'\n",
      "60 '<'\n",
      "61 '='\n",
      "62 '>'\n",
      "63 '?'\n",
      "64 '@'\n",
      "65 'A'\n",
      "66 'B'\n",
      "67 'C'\n",
      "68 'D'\n",
      "69 'E'\n",
      "70 'F'\n",
      "71 'G'\n",
      "72 'H'\n",
      "73 'I'\n",
      "74 'J'\n",
      "75 'K'\n",
      "76 'L'\n",
      "77 'M'\n",
      "78 'N'\n",
      "79 'O'\n",
      "80 'P'\n",
      "81 'Q'\n",
      "82 'R'\n",
      "83 'S'\n",
      "84 'T'\n",
      "85 'U'\n",
      "86 'V'\n",
      "87 'W'\n",
      "88 'X'\n",
      "89 'Y'\n",
      "90 'Z'\n",
      "91 '['\n",
      "92 '\\\\'\n",
      "93 ']'\n",
      "94 '^'\n",
      "95 '_'\n",
      "96 '`'\n",
      "97 'a'\n",
      "98 'b'\n",
      "99 'c'\n",
      "100 'd'\n",
      "101 'e'\n",
      "102 'f'\n",
      "103 'g'\n",
      "104 'h'\n",
      "105 'i'\n",
      "106 'j'\n",
      "107 'k'\n",
      "108 'l'\n",
      "109 'm'\n",
      "110 'n'\n",
      "111 'o'\n",
      "112 'p'\n",
      "113 'q'\n",
      "114 'r'\n",
      "115 's'\n",
      "116 't'\n",
      "117 'u'\n",
      "118 'v'\n",
      "119 'w'\n",
      "120 'x'\n",
      "121 'y'\n",
      "122 'z'\n",
      "123 '{'\n",
      "124 '|'\n",
      "125 '}'\n",
      "126 '~'\n",
      "127 '\\x7f'\n"
     ]
    }
   ],
   "source": [
    "for i in range(128):\n",
    "    print(i, repr(chr(i)))"
   ]
  },
  {
   "cell_type": "markdown",
   "metadata": {},
   "source": [
    "# # unicode"
   ]
  },
  {
   "cell_type": "code",
   "execution_count": 15,
   "metadata": {
    "collapsed": true
   },
   "outputs": [],
   "source": [
    "unicode_ga = \"가\""
   ]
  },
  {
   "cell_type": "code",
   "execution_count": 16,
   "metadata": {
    "collapsed": true
   },
   "outputs": [],
   "source": [
    "utf8_ga = unicode_ga.encode(\"utf8\")\n",
    "cp949_ga = unicode_ga.encode(\"cp949\")"
   ]
  },
  {
   "cell_type": "code",
   "execution_count": 17,
   "metadata": {},
   "outputs": [
    {
     "data": {
      "text/plain": [
       "'가'"
      ]
     },
     "execution_count": 17,
     "metadata": {},
     "output_type": "execute_result"
    }
   ],
   "source": [
    "cp949_ga.decode(\"cp949\")"
   ]
  },
  {
   "cell_type": "code",
   "execution_count": 18,
   "metadata": {},
   "outputs": [
    {
     "ename": "UnicodeDecodeError",
     "evalue": "'utf-8' codec can't decode byte 0xb0 in position 0: invalid start byte",
     "output_type": "error",
     "traceback": [
      "\u001b[0;31m---------------------------------------------------------------------------\u001b[0m",
      "\u001b[0;31mUnicodeDecodeError\u001b[0m                        Traceback (most recent call last)",
      "\u001b[0;32m<ipython-input-18-604d8840a5b6>\u001b[0m in \u001b[0;36m<module>\u001b[0;34m()\u001b[0m\n\u001b[0;32m----> 1\u001b[0;31m \u001b[0mcp949_ga\u001b[0m\u001b[0;34m.\u001b[0m\u001b[0mdecode\u001b[0m\u001b[0;34m(\u001b[0m\u001b[0;34m\"utf8\"\u001b[0m\u001b[0;34m)\u001b[0m\u001b[0;34m\u001b[0m\u001b[0m\n\u001b[0m",
      "\u001b[0;31mUnicodeDecodeError\u001b[0m: 'utf-8' codec can't decode byte 0xb0 in position 0: invalid start byte"
     ]
    }
   ],
   "source": [
    "cp949_ga.decode(\"utf8\")"
   ]
  },
  {
   "cell_type": "code",
   "execution_count": 19,
   "metadata": {},
   "outputs": [
    {
     "data": {
      "text/plain": [
       "b'\\xb0\\xa1'"
      ]
     },
     "execution_count": 19,
     "metadata": {},
     "output_type": "execute_result"
    }
   ],
   "source": [
    "cp949_ga"
   ]
  },
  {
   "cell_type": "code",
   "execution_count": 20,
   "metadata": {
    "collapsed": true
   },
   "outputs": [],
   "source": [
    "## 파일읽기\n"
   ]
  },
  {
   "cell_type": "markdown",
   "metadata": {},
   "source": [
    "## 파일읽기"
   ]
  },
  {
   "cell_type": "code",
   "execution_count": 25,
   "metadata": {},
   "outputs": [
    {
     "name": "stdout",
     "output_type": "stream",
     "text": [
      "<class 'str'>\n",
      "보고 싶다\n",
      "이렇게 말하니까 더 보고 싶다\n",
      "너희 사진을 보고 있어도\n",
      "보고 싶다\n",
      "너무 야속한 시간\n",
      "나는 우리가 밉다\n",
      "이젠 얼굴 한번 보는 것 조차\n",
      "힘들어진 우리가\n",
      "여긴 온통 겨울 뿐이야\n",
      "8월에도 겨울이 와\n",
      "마음은 시간을 달려가네\n",
      "홀로 남은 설국열차\n",
      "\n"
     ]
    }
   ],
   "source": [
    "f = open(\"/home/user/dev/봄날.txt\",\"rt\")\n",
    "readed_data = f.read()\n",
    "f.close()\n",
    "\n",
    "print(type(readed_data))\n",
    "print(readed_data)"
   ]
  },
  {
   "cell_type": "code",
   "execution_count": 26,
   "metadata": {
    "collapsed": true
   },
   "outputs": [],
   "source": [
    "## 디폴트 인코딩 확인"
   ]
  },
  {
   "cell_type": "code",
   "execution_count": 27,
   "metadata": {},
   "outputs": [
    {
     "data": {
      "text/plain": [
       "'UTF-8'"
      ]
     },
     "execution_count": 27,
     "metadata": {},
     "output_type": "execute_result"
    }
   ],
   "source": [
    "import locale\n",
    "locale.getpreferredencoding(False)"
   ]
  },
  {
   "cell_type": "code",
   "execution_count": 29,
   "metadata": {},
   "outputs": [
    {
     "name": "stdout",
     "output_type": "stream",
     "text": [
      "<class 'bytes'>\n",
      "b'\\xeb\\xb3\\xb4\\xea\\xb3\\xa0 \\xec\\x8b\\xb6\\xeb\\x8b\\xa4\\n\\xec\\x9d\\xb4\\xeb\\xa0\\x87\\xea\\xb2\\x8c \\xeb\\xa7\\x90\\xed\\x95\\x98\\xeb\\x8b\\x88\\xea\\xb9\\x8c \\xeb\\x8d\\x94 \\xeb\\xb3\\xb4\\xea\\xb3\\xa0 \\xec\\x8b\\xb6\\xeb\\x8b\\xa4\\n\\xeb\\x84\\x88\\xed\\x9d\\xac \\xec\\x82\\xac\\xec\\xa7\\x84\\xec\\x9d\\x84 \\xeb\\xb3\\xb4\\xea\\xb3\\xa0 \\xec\\x9e\\x88\\xec\\x96\\xb4\\xeb\\x8f\\x84\\n\\xeb\\xb3\\xb4\\xea\\xb3\\xa0 \\xec\\x8b\\xb6\\xeb\\x8b\\xa4\\n\\xeb\\x84\\x88\\xeb\\xac\\xb4 \\xec\\x95\\xbc\\xec\\x86\\x8d\\xed\\x95\\x9c \\xec\\x8b\\x9c\\xea\\xb0\\x84\\n\\xeb\\x82\\x98\\xeb\\x8a\\x94 \\xec\\x9a\\xb0\\xeb\\xa6\\xac\\xea\\xb0\\x80 \\xeb\\xb0\\x89\\xeb\\x8b\\xa4\\n\\xec\\x9d\\xb4\\xec\\xa0\\xa0 \\xec\\x96\\xbc\\xea\\xb5\\xb4 \\xed\\x95\\x9c\\xeb\\xb2\\x88 \\xeb\\xb3\\xb4\\xeb\\x8a\\x94 \\xea\\xb2\\x83 \\xec\\xa1\\xb0\\xec\\xb0\\xa8\\n\\xed\\x9e\\x98\\xeb\\x93\\xa4\\xec\\x96\\xb4\\xec\\xa7\\x84 \\xec\\x9a\\xb0\\xeb\\xa6\\xac\\xea\\xb0\\x80\\n\\xec\\x97\\xac\\xea\\xb8\\xb4 \\xec\\x98\\xa8\\xed\\x86\\xb5 \\xea\\xb2\\xa8\\xec\\x9a\\xb8 \\xeb\\xbf\\x90\\xec\\x9d\\xb4\\xec\\x95\\xbc\\n8\\xec\\x9b\\x94\\xec\\x97\\x90\\xeb\\x8f\\x84 \\xea\\xb2\\xa8\\xec\\x9a\\xb8\\xec\\x9d\\xb4 \\xec\\x99\\x80\\n\\xeb\\xa7\\x88\\xec\\x9d\\x8c\\xec\\x9d\\x80 \\xec\\x8b\\x9c\\xea\\xb0\\x84\\xec\\x9d\\x84 \\xeb\\x8b\\xac\\xeb\\xa0\\xa4\\xea\\xb0\\x80\\xeb\\x84\\xa4\\n\\xed\\x99\\x80\\xeb\\xa1\\x9c \\xeb\\x82\\xa8\\xec\\x9d\\x80 \\xec\\x84\\xa4\\xea\\xb5\\xad\\xec\\x97\\xb4\\xec\\xb0\\xa8\\n'\n"
     ]
    }
   ],
   "source": [
    "f = open(\"/home/user/dev/봄날.txt\",\"rb\")\n",
    "readed_data = f.read()\n",
    "f.close()\n",
    "\n",
    "print(type(readed_data))\n",
    "print(readed_data)"
   ]
  },
  {
   "cell_type": "code",
   "execution_count": 4,
   "metadata": {},
   "outputs": [],
   "source": [
    "import os\n",
    "\n",
    "filepath = \"/home/user/hello/python.txt\"  # hello 디렉토리가 존재하지 않을 경우\n",
    "\n",
    "dirpath = os.path.dirname(filepath)  # \"/Users/allieus/hello\"\n",
    "if not os.path.exists(dirpath):  # \"/Users/allieus/hello\" 가 없을 경우\n",
    "    os.makedirs(dirpath)         # \"/Users/allieus/hello\" 디렉토리 생성\n",
    "\n",
    "f = open(filepath, 'wt')\n",
    "f.write(\"print('hello')\")\n",
    "f.close()"
   ]
  },
  {
   "cell_type": "markdown",
   "metadata": {},
   "source": [
    "## requests 를 통한 Response 획득"
   ]
  },
  {
   "cell_type": "code",
   "execution_count": 6,
   "metadata": {},
   "outputs": [],
   "source": [
    "import requests\n",
    "\n",
    "photo_url = \"https://s-media-cache-ak0.pinimg.com/736x/b1/aa/89/b1aa89d50288a6ec9374063d173b4627.jpg\"\n",
    "\n",
    "response = requests.get(photo_url)\n",
    "\n",
    "#print(response.encoding)\n",
    "\n",
    "#response.context #Raw 데이터, bytes 타입\n",
    "#response.text #특정 인코딩으로 디코딩된, 유니코드 (str)\n",
    "\n",
    "with open(\"flower.jpg\",\"wb\") as f:\n",
    "    f.write(response.content)"
   ]
  },
  {
   "cell_type": "code",
   "execution_count": 7,
   "metadata": {},
   "outputs": [
    {
     "data": {
      "image/jpeg": "[encoded data removed]",
      "text/plain": [
       "<IPython.core.display.Image object>"
      ]
     },
     "execution_count": 7,
     "metadata": {},
     "output_type": "execute_result"
    }
   ],
   "source": [
    "from IPython.display import Image\n",
    "\n",
    "Image(filename=\"flower.jpg\")"
   ]
  },
  {
   "cell_type": "code",
   "execution_count": null,
   "metadata": {
    "collapsed": true
   },
   "outputs": [],
   "source": [
    "import requests\n",
    "\n",
    "melon_search_url = \"http://www.melon.com/search/keyword/index.json?jscallback=jQuery19100837736816976673_1501733806852&query=방탄소년단&_=1501733806857\"\n",
    "\n",
    "'''\n",
    "response = requests.get(melon_search_url)\n",
    "print(response.encoding)\n",
    "# print(response.content.decode(response.encoding))  # 받은 원본, UTF8로 작성된 Plain Text\n",
    "print(response.text)  # response.content를 디코딩한 유니코드\n",
    "'''\n",
    "\n",
    "jsonp_string = requests.get(melon_search_url).text\n",
    "print(jsonp_string)  # jsonp 포맷의 유니코드 문자열"
   ]
  },
  {
   "cell_type": "markdown",
   "metadata": {},
   "source": [
    "# SORTING"
   ]
  },
  {
   "cell_type": "code",
   "execution_count": 11,
   "metadata": {
    "collapsed": true
   },
   "outputs": [],
   "source": [
    "##QUIZ"
   ]
  },
  {
   "cell_type": "code",
   "execution_count": 33,
   "metadata": {},
   "outputs": [
    {
     "name": "stdout",
     "output_type": "stream",
     "text": [
      "tom 10\n",
      "john 8\n",
      "steve 13\n"
     ]
    }
   ],
   "source": [
    "numbers = [\n",
    "    {'name': 'tom', 'age':10},\n",
    "    {'name': 'john', 'age':8},\n",
    "    {'name': 'steve', 'age':13},\n",
    "]\n",
    "\n",
    "def sort_fn (value):\n",
    "    return value['age']  ## 포장을 뜯은채로 함수에 들어간다. 사전형식이 value에 들어감.\n",
    "    \n",
    "def sort_len(value):\n",
    "    return len(value['name'])\n",
    "\n",
    "numbers.sort(key=sort_len)\n",
    "\n",
    "for people in numbers:\n",
    "    print(people['name'], people['age'])"
   ]
  },
  {
   "cell_type": "code",
   "execution_count": 34,
   "metadata": {},
   "outputs": [
    {
     "name": "stdout",
     "output_type": "stream",
     "text": [
      "{'name': 'tom', 'age': 10}\n"
     ]
    }
   ],
   "source": [
    "print(numbers[0])"
   ]
  },
  {
   "cell_type": "markdown",
   "metadata": {},
   "source": [
    "## filter 함수"
   ]
  },
  {
   "cell_type": "code",
   "execution_count": 30,
   "metadata": {},
   "outputs": [
    {
     "name": "stdout",
     "output_type": "stream",
     "text": [
      "2\n",
      "4\n",
      "6\n",
      "8\n",
      "10\n"
     ]
    }
   ],
   "source": [
    "numbers = [1,2,3,4,5,6,7,8,9,10]\n",
    "\n",
    "def filters(value):\n",
    "    return value % 2 == 0\n",
    "\n",
    "for i in filter(filters, numbers):\n",
    "    print(i)"
   ]
  },
  {
   "cell_type": "code",
   "execution_count": 32,
   "metadata": {},
   "outputs": [
    {
     "name": "stdout",
     "output_type": "stream",
     "text": [
      "1\n",
      "3\n",
      "3\n",
      "5\n",
      "5\n",
      "7\n",
      "23\n"
     ]
    }
   ],
   "source": [
    "numbers = [3,5,6,7,1,2,3,4,5,2,23,4,6,86,84]\n",
    "\n",
    "def filters2(value):\n",
    "    return value % 2 == 1\n",
    "\n",
    "for i in sorted(filter(filters2, numbers)):\n",
    "    print(i)"
   ]
  },
  {
   "cell_type": "markdown",
   "metadata": {},
   "source": [
    "## map"
   ]
  },
  {
   "cell_type": "code",
   "execution_count": 36,
   "metadata": {
    "collapsed": true
   },
   "outputs": [],
   "source": [
    "numbers = [1,2,3,4,5,6,7,8,9,10]"
   ]
  },
  {
   "cell_type": "code",
   "execution_count": 37,
   "metadata": {},
   "outputs": [
    {
     "name": "stdout",
     "output_type": "stream",
     "text": [
      "1\n",
      "4\n",
      "9\n",
      "16\n",
      "25\n",
      "36\n",
      "49\n",
      "64\n",
      "81\n",
      "100\n"
     ]
    }
   ],
   "source": [
    "def map_fn(value):\n",
    "    return value ** 2\n",
    "\n",
    "for i in map(map_fn, numbers):\n",
    "    print(i)"
   ]
  },
  {
   "cell_type": "code",
   "execution_count": 58,
   "metadata": {},
   "outputs": [
    {
     "name": "stdout",
     "output_type": "stream",
     "text": [
      "1\n",
      "81\n",
      "121\n",
      "361\n",
      "441\n",
      "841\n",
      "961\n",
      "1521\n",
      "1681\n",
      "2401\n",
      "2601\n",
      "3481\n",
      "3721\n",
      "4761\n",
      "5041\n",
      "6241\n",
      "6561\n",
      "7921\n",
      "8281\n",
      "9801\n",
      "10201\n",
      "11881\n",
      "12321\n",
      "14161\n",
      "14641\n",
      "16641\n",
      "17161\n",
      "19321\n",
      "19881\n",
      "22201\n",
      "22801\n",
      "25281\n",
      "25921\n",
      "28561\n",
      "29241\n",
      "32041\n",
      "32761\n",
      "35721\n",
      "36481\n",
      "39601\n"
     ]
    }
   ],
   "source": [
    "numbers = range(1,200)\n",
    "\n",
    "def map_fn(value):\n",
    "    return value ** 2\n",
    "\n",
    "def filter3(value):\n",
    "    return value % 10 == 1\n",
    "\n",
    "for i in filter(filter3, map(map_fn, numbers)):\n",
    "    print(i)\n"
   ]
  },
  {
   "cell_type": "markdown",
   "metadata": {},
   "source": [
    "## max/min"
   ]
  },
  {
   "cell_type": "code",
   "execution_count": 60,
   "metadata": {
    "collapsed": true
   },
   "outputs": [
    {
     "name": "stdout",
     "output_type": "stream",
     "text": [
      "[8912, 3806, 7582, 1750, 9853, 9344, 9262, 1371, 6793, 8710, 2110, 9548, 6529, 8794, 97, 4406, 196, 1397, 8576, 6079, 5541, 319, 358, 8897, 755, 5574, 6223, 9471, 9949, 9666, 156, 3905, 1928, 1092, 7643, 9020, 5088, 6284, 5213, 3830, 9190, 670, 2090, 2884, 4777, 3816, 2729, 7989, 678, 3238, 3990, 7302, 8859, 6999, 4937, 6590, 1051, 2691, 7040, 2562, 9357, 4544, 1811, 2344, 867, 1377, 69, 962, 5125, 7390, 6212, 1142, 7601, 4889, 302, 255, 537, 2020, 1723, 1664, 8379, 1014, 849, 1410, 4561, 3316, 5418, 4981, 8243, 5008, 2405, 4477, 560, 3526, 4239, 4612, 9007, 2990, 9681, 8762, 5520, 9264, 9796, 1562, 1196, 4331, 8641, 4238, 3133, 1339, 3316, 351, 3096, 7317, 3032, 8036, 2799, 743, 1343, 3605, 9510, 1253, 4765, 8958, 7473, 1710, 4580, 1869, 5225, 1934, 7130, 691, 5296, 4460, 5424, 434, 7718, 9911, 1955, 1501, 1157, 3707, 9494, 9700, 2884, 5229, 2366, 5235, 7501, 3112, 4849, 3685, 6379, 8038, 8918, 7759, 3141, 1166, 5836, 7222, 6525, 9108, 6373, 1589, 7833, 410, 1823, 1459, 2782, 6964, 6383, 9399, 5778, 4890, 4946, 5843, 8773, 225, 2936, 7293, 654, 1463, 7591, 5370, 6062, 2379, 9390, 6624, 5890, 8856, 6868, 8149, 4525, 2897, 5980, 7348, 5208, 6257, 6123, 9448, 2855, 7366, 8002, 9749, 6849, 6015, 8214, 6052, 1341, 1146, 3687, 2907, 4553, 1713, 653, 7157, 5204, 2170, 1021, 7111, 4341, 9877, 9785, 8272, 7136, 6886, 3063, 9635, 8092, 9359, 4623, 8496, 1827, 1656, 8249, 7207, 308, 2625, 3387, 2986, 2642, 6310, 4353, 4023, 8515, 1924, 4695, 6794, 9430, 9035, 467, 9434, 271, 708, 9789, 7142, 5319, 9687, 3607, 3460, 1578, 8479, 1450, 6725, 9913, 7025, 2543, 7796, 4482, 2471, 1344, 8298, 3570, 810, 1695, 9349, 7080, 9260, 1140, 8217, 4146, 9411, 8026, 5947, 4064, 7561, 5273, 2369, 7387, 285, 8301, 7975, 2231, 619, 6014, 9363, 2439, 4531, 9933, 2839, 9701, 3573, 4086, 9422, 6779, 9274, 9630, 8453, 5966, 5062, 5836, 5057, 5316, 3209, 189, 4967, 9645, 9726, 769, 3993, 8195, 2053, 9493, 6434, 3658, 3489, 8848, 8974, 3044, 2250, 526, 7989, 1898, 518, 8554, 8405, 6831, 2892, 9962, 8953, 7628, 856, 2831, 9748, 2151, 7764, 1015, 4712, 417, 6721, 7159, 8279, 5399, 8780, 3016, 5945, 2501, 9523, 787, 3199, 6200, 5552, 6959, 8375, 9281, 5561, 9915, 1873, 8140, 4469, 7441, 719, 3258, 2111, 8933, 9338, 8673, 1370, 8768, 3477, 5327, 8890, 1274, 7572, 8114, 6515, 3457, 3747, 8235, 450, 7103, 4280, 7002, 3847, 4645, 1350, 9459, 3404, 8173, 6506, 7474, 1153, 545, 6088, 952, 807, 3148, 8563, 5823, 8262, 7564, 635, 1917, 2236, 7149, 2652, 4406, 2626, 3349, 6786, 2875, 1609, 2686, 8035, 7025, 3995, 7237, 7713, 253, 7402, 6918, 8560, 8960, 9066, 3756, 2862, 186, 9238, 4995, 8701, 1173, 9955, 4625, 603, 6065, 2150, 1255, 9160, 7145, 2946, 2191, 2636, 1933, 9566, 4052, 7989, 367, 428, 4916, 3717, 2960, 3896, 8862, 3648, 6285, 9301, 2462, 9388, 5224, 4110, 1336, 6349, 7732, 2000, 8720, 9992, 8639, 3904, 7419, 6424, 8829, 7206, 5715, 9088, 6051, 9077, 3361, 7403, 4323, 3263, 3354, 7711, 6042, 8140, 9758, 9636, 2285, 2985, 9910, 9382, 8393, 6296, 2922, 6888, 9945, 9516, 551, 9018, 9523, 6876, 1485, 2898, 3672, 7601, 7975, 6665, 9725, 5446, 4684, 6431, 1283, 7600, 736, 3463, 4047, 377, 6673, 1272, 6004, 867, 2974, 9624, 2088, 1312, 1227, 6409, 6750, 4030, 1726, 9489, 6150, 816, 9752, 7786, 1739, 9005, 3659, 2952, 5115, 3368, 5929, 8999, 2882, 9332, 627, 9860, 4792, 6279, 1432, 9232, 4327, 4528, 9069, 3706, 7323, 5305, 4913, 609, 2845, 1374, 9410, 9126, 4446, 2964, 3857, 4115, 4939, 2347, 6390, 5496, 8935, 2969, 3546, 5437, 5995, 1732, 5440, 9128, 9725, 5155, 4071, 7698, 90, 9970, 5670, 8243, 5905, 7947, 8071, 5149, 7699, 3696, 9951, 7881, 7093, 625, 3685, 7143, 1243, 9601, 5262, 6646, 1230, 9652, 7140, 3240, 2016, 6772, 2267, 3703, 7848, 417, 9199, 8693, 4308, 7641, 9329, 3057, 7231, 2195, 6563, 6537, 1528, 1553, 9460, 9182, 1004, 8725, 3206, 9696, 9904, 7741, 2463, 9113, 9187, 4366, 5752, 9587, 5352, 9684, 3049, 9615, 4992, 6836, 8231, 1332, 304, 1832, 7913, 7138, 9083, 7690, 4054, 1480, 833, 2101, 3373, 1046, 9703, 8281, 6709, 5012, 7548, 7889, 2810, 6082, 1219, 8197, 9354, 3398, 4088, 3317, 1467, 6792, 1951, 9675, 4437, 1996, 3074, 7996, 3154, 2753, 1000, 4076, 6191, 8264, 7854, 9952, 4747, 7193, 2751, 5174, 5062, 1915, 9532, 2801, 2006, 7002, 980, 455, 7913, 4219, 7024, 8688, 3275, 2679, 7658, 410, 2827, 4175, 4557, 82, 9151, 8499, 4918, 276, 7871, 7307, 3948, 3967, 7797, 9566, 4940, 9752, 7206, 345, 7669, 4127, 8263, 4821, 6383, 3984, 6705, 9797, 2029, 9059, 6987, 7793, 6492, 8253, 4619, 3601, 6730, 7853, 2930, 4596, 3350, 2230, 1747, 6235, 9215, 3228, 1078, 814, 3827, 999, 3692, 2720, 315, 4032, 1117, 8702, 7497, 959, 4262, 959, 9162, 2966, 932, 7874, 740, 1641, 5996, 3111, 6193, 9591, 3728, 7628, 5779, 4503, 2063, 7232, 9328, 1798, 9206, 8333, 561, 5905, 2617, 4862, 6573, 587, 3631, 937, 7588, 9269, 682, 4606, 1763, 687, 5152, 2451, 5780, 6436, 8568, 1642, 9390, 8362, 7882, 849, 8931, 9273, 6266, 3780, 5868, 2235, 7979, 9658, 9853, 2806, 6056, 8604, 36, 6602, 6186, 4373, 1033, 9388, 3828, 986, 9747, 1023, 4589, 3793, 6530, 2326, 6988, 9047, 3461, 8691, 6062, 5897, 1186, 3650, 3063, 7351, 1933, 8180, 6043, 9659, 8637, 5823, 3563, 8823, 1026, 1972, 3455, 1201, 3170, 623, 1880, 2637, 7597, 255, 2268, 5406, 2202, 1665, 6462, 7632, 7947, 97, 6556, 1049, 6657, 4471, 8401, 4729, 3785, 4734, 436, 8462, 9422, 2919, 1256, 6143, 5487, 2597, 9090, 4754, 9012, 8711, 2531, 8374, 4653, 5391, 1185, 2543, 3512, 9833, 2515, 9762, 1523, 7691, 9716, 4242, 1012, 574, 8583, 9794, 2277, 1785, 8279, 1976, 1869, 9602, 1409, 8922, 5112, 2016, 274, 8991, 1, 3358, 9516, 3136, 6059, 3502, 2824, 604, 4465, 6310, 6873, 7822, 4306, 9656, 9036, 7072, 660, 3314, 1014, 9229, 8939, 2098, 8105, 2283, 3165, 4006, 1591, 8409, 617, 5483, 4129, 1881, 4181, 438, 2324, 6955, 8048, 1622, 9487, 9650, 6626, 8612, 3612, 9927, 3835, 7860, 6012, 8956, 5846, 2379, 4098, 8360, 3302, 1945, 7915, 6336, 1747, 3003, 7503, 9016, 1452, 6343, 8029, 1278, 4702, 2719, 6718, 447]\n"
     ]
    }
   ],
   "source": [
    "import random\n",
    "\n",
    "numbers = []\n",
    "\n",
    "for i in range(1000):\n",
    "    number = random.randint(1, 10000)\n",
    "    numbers.append(number)\n",
    "    \n",
    "print(numbers)"
   ]
  },
  {
   "cell_type": "code",
   "execution_count": 61,
   "metadata": {},
   "outputs": [
    {
     "data": {
      "text/plain": [
       "9992"
      ]
     },
     "execution_count": 61,
     "metadata": {},
     "output_type": "execute_result"
    }
   ],
   "source": [
    "max(numbers)"
   ]
  },
  {
   "cell_type": "code",
   "execution_count": 62,
   "metadata": {},
   "outputs": [
    {
     "data": {
      "text/plain": [
       "1"
      ]
     },
     "execution_count": 62,
     "metadata": {},
     "output_type": "execute_result"
    }
   ],
   "source": [
    "min(numbers)"
   ]
  },
  {
   "cell_type": "code",
   "execution_count": 63,
   "metadata": {},
   "outputs": [
    {
     "data": {
      "text/plain": [
       "6999"
      ]
     },
     "execution_count": 63,
     "metadata": {},
     "output_type": "execute_result"
    }
   ],
   "source": [
    "def max_fn(value):\n",
    "    return value % 100\n",
    "\n",
    "max(numbers, key=max_fn)"
   ]
  },
  {
   "cell_type": "code",
   "execution_count": 64,
   "metadata": {},
   "outputs": [
    {
     "data": {
      "text/plain": [
       "9700"
      ]
     },
     "execution_count": 64,
     "metadata": {},
     "output_type": "execute_result"
    }
   ],
   "source": [
    "def min_fn(value):\n",
    "    return value % 100\n",
    "\n",
    "min(numbers, key=min_fn)"
   ]
  },
  {
   "cell_type": "code",
   "execution_count": 67,
   "metadata": {},
   "outputs": [
    {
     "data": {
      "text/plain": [
       "0"
      ]
     },
     "execution_count": 67,
     "metadata": {},
     "output_type": "execute_result"
    }
   ],
   "source": [
    "number= []\n",
    "max(number, default=0) ## 비어있을때는 디폴트로 0을 반환해 달라!"
   ]
  },
  {
   "cell_type": "code",
   "execution_count": 73,
   "metadata": {},
   "outputs": [
    {
     "name": "stdout",
     "output_type": "stream",
     "text": [
      "[9, 10, 11, 20, 12, 313, 211, 121]\n"
     ]
    }
   ],
   "source": [
    "def sort_fn(fn):\n",
    "    def wrap(value):\n",
    "        return fn(value) % 10\n",
    "    return wrap\n",
    "\n",
    "@sort_fn\n",
    "def sort_fn2(value):\n",
    "    return len(str(value))\n",
    "\n",
    "mylist = [10, 11, 9, 20, 12, 313, 211, 121]\n",
    "mylist.sort(key=sort_fn2)\n",
    "\n",
    "print(mylist)\n"
   ]
  },
  {
   "cell_type": "code",
   "execution_count": 71,
   "metadata": {},
   "outputs": [
    {
     "data": {
      "text/plain": [
       "True"
      ]
     },
     "execution_count": 71,
     "metadata": {},
     "output_type": "execute_result"
    }
   ],
   "source": [
    "(2,0)<(2,1)"
   ]
  },
  {
   "cell_type": "code",
   "execution_count": 75,
   "metadata": {},
   "outputs": [],
   "source": [
    "## quiz\n",
    "\n",
    "##리스트를 나이 내림차순으로 정렬, 정렬목록을 json직렬화하여 people.json으로 저장."
   ]
  },
  {
   "cell_type": "code",
   "execution_count": 85,
   "metadata": {},
   "outputs": [],
   "source": [
    "import pickle\n",
    "import json\n",
    "\n",
    "people = [\n",
    "    {'name':'tom', 'age':10},\n",
    "    {'name':'john', 'age':8},\n",
    "    {'name':'steve', 'age':13},\n",
    "]\n",
    "\n",
    "def sort_fn(value):\n",
    "    return value['age']\n",
    "\n",
    "people.sort(key=sort_fn, reverse=True) # 나이 내림차순 정렬.\n",
    "\n",
    "#제이슨 직렬화, people.json으로 저장.\n",
    "\n",
    "json_string = json.dumps(people)\n",
    "with open('people.json', 'wt') as f:\n",
    "    f.write(json_string)\n",
    "\n",
    "f.close()"
   ]
  },
  {
   "cell_type": "code",
   "execution_count": 86,
   "metadata": {
    "collapsed": true
   },
   "outputs": [],
   "source": [
    "## quiz"
   ]
  },
  {
   "cell_type": "code",
   "execution_count": 100,
   "metadata": {},
   "outputs": [],
   "source": [
    "성적 = {'GD': {'국어': 83, '수학': 85, '영어': 64},\n",
    " '넥스트': {'국어': 31, '수학': 46, '영어': 75},\n",
    " '노을': {'국어': 50, '수학': 51, '영어': 64},\n",
    " '루시드폴': {'국어': 79, '수학': 42, '영어': 35},\n",
    " '마크툽': {'국어': 98, '수학': 33, '영어': 95},\n",
    " '박명호': {'국어': 50, '수학': 94, '영어': 86},\n",
    " '박진영': {'국어': 59, '수학': 52, '영어': 81},\n",
    " '싸이': {'국어': 62, '수학': 47, '영어': 86},\n",
    " '아이유': {'국어': 52, '수학': 87, '영어': 61},\n",
    " '유희열': {'국어': 100, '수학': 78, '영어': 96},\n",
    " '윤도현': {'국어': 76, '수학': 74, '영어': 68},\n",
    " '이승환': {'국어': 73, '수학': 58, '영어': 67},\n",
    " '이효리': {'국어': 88, '수학': 98, '영어': 78},\n",
    " '제이슨 므라즈': {'국어': 43, '수학': 35, '영어': 55}}"
   ]
  },
  {
   "cell_type": "code",
   "execution_count": 102,
   "metadata": {},
   "outputs": [
    {
     "name": "stdout",
     "output_type": "stream",
     "text": [
      "[('마크툽', {'영어': 95, '수학': 33, '국어': 98}), ('이승환', {'영어': 67, '수학': 58, '국어': 73}), ('싸이', {'영어': 86, '수학': 47, '국어': 62}), ('윤도현', {'영어': 68, '수학': 74, '국어': 76}), ('아이유', {'영어': 61, '수학': 87, '국어': 52}), ('이효리', {'영어': 78, '수학': 98, '국어': 88}), ('GD', {'영어': 64, '수학': 85, '국어': 83}), ('노을', {'영어': 64, '수학': 51, '국어': 50}), ('유희열', {'영어': 96, '수학': 78, '국어': 100}), ('박명호', {'영어': 86, '수학': 94, '국어': 50}), ('넥스트', {'영어': 75, '수학': 46, '국어': 31}), ('제이슨 므라즈', {'영어': 55, '수학': 35, '국어': 43}), ('박진영', {'영어': 81, '수학': 52, '국어': 59}), ('루시드폴', {'영어': 35, '수학': 42, '국어': 79})]\n"
     ]
    }
   ],
   "source": [
    "성적리스트 = list(성적.items())\n",
    "print(성적리스트)"
   ]
  },
  {
   "cell_type": "code",
   "execution_count": 97,
   "metadata": {},
   "outputs": [
    {
     "ename": "TypeError",
     "evalue": "list indices must be integers or slices, not str",
     "output_type": "error",
     "traceback": [
      "\u001b[0;31m---------------------------------------------------------------------------\u001b[0m",
      "\u001b[0;31mTypeError\u001b[0m                                 Traceback (most recent call last)",
      "\u001b[0;32m<ipython-input-97-812891e5ec8e>\u001b[0m in \u001b[0;36m<module>\u001b[0;34m()\u001b[0m\n\u001b[1;32m      2\u001b[0m     \u001b[0;32mif\u001b[0m \u001b[0;34m(\u001b[0m\u001b[0m성적\u001b[0m\u001b[0;34m[\u001b[0m\u001b[0;34m'value'\u001b[0m\u001b[0;34m]\u001b[0m\u001b[0;34m[\u001b[0m\u001b[0;34m'국어'\u001b[0m\u001b[0;34m]\u001b[0m \u001b[0;34m+\u001b[0m \u001b[0m성적\u001b[0m\u001b[0;34m[\u001b[0m\u001b[0;34m'value'\u001b[0m\u001b[0;34m]\u001b[0m\u001b[0;34m[\u001b[0m\u001b[0;34m'수학'\u001b[0m\u001b[0;34m]\u001b[0m \u001b[0;34m+\u001b[0m \u001b[0;34m[\u001b[0m\u001b[0;34m'value'\u001b[0m\u001b[0;34m]\u001b[0m\u001b[0;34m[\u001b[0m\u001b[0;34m'영어'\u001b[0m\u001b[0;34m]\u001b[0m\u001b[0;34m)\u001b[0m\u001b[0;34m/\u001b[0m\u001b[0;36m3\u001b[0m \u001b[0;34m>=\u001b[0m \u001b[0;36m70\u001b[0m\u001b[0;34m:\u001b[0m\u001b[0;34m\u001b[0m\u001b[0m\n\u001b[1;32m      3\u001b[0m         \u001b[0;32mreturn\u001b[0m \u001b[0mvalue\u001b[0m\u001b[0;34m\u001b[0m\u001b[0m\n\u001b[0;32m----> 4\u001b[0;31m \u001b[0;32mfor\u001b[0m \u001b[0mi\u001b[0m \u001b[0;32min\u001b[0m \u001b[0mfilter\u001b[0m\u001b[0;34m(\u001b[0m\u001b[0mfilter_ex\u001b[0m\u001b[0;34m,\u001b[0m \u001b[0m성적\u001b[0m\u001b[0;34m)\u001b[0m\u001b[0;34m:\u001b[0m\u001b[0;34m\u001b[0m\u001b[0m\n\u001b[0m\u001b[1;32m      5\u001b[0m     \u001b[0mprint\u001b[0m\u001b[0;34m(\u001b[0m\u001b[0mi\u001b[0m\u001b[0;34m)\u001b[0m\u001b[0;34m\u001b[0m\u001b[0m\n",
      "\u001b[0;32m<ipython-input-97-812891e5ec8e>\u001b[0m in \u001b[0;36mfilter_ex\u001b[0;34m(value)\u001b[0m\n\u001b[1;32m      1\u001b[0m \u001b[0;32mdef\u001b[0m \u001b[0mfilter_ex\u001b[0m \u001b[0;34m(\u001b[0m\u001b[0mvalue\u001b[0m\u001b[0;34m)\u001b[0m\u001b[0;34m:\u001b[0m\u001b[0;34m\u001b[0m\u001b[0m\n\u001b[0;32m----> 2\u001b[0;31m     \u001b[0;32mif\u001b[0m \u001b[0;34m(\u001b[0m\u001b[0m성적\u001b[0m\u001b[0;34m[\u001b[0m\u001b[0;34m'value'\u001b[0m\u001b[0;34m]\u001b[0m\u001b[0;34m[\u001b[0m\u001b[0;34m'국어'\u001b[0m\u001b[0;34m]\u001b[0m \u001b[0;34m+\u001b[0m \u001b[0m성적\u001b[0m\u001b[0;34m[\u001b[0m\u001b[0;34m'value'\u001b[0m\u001b[0;34m]\u001b[0m\u001b[0;34m[\u001b[0m\u001b[0;34m'수학'\u001b[0m\u001b[0;34m]\u001b[0m \u001b[0;34m+\u001b[0m \u001b[0;34m[\u001b[0m\u001b[0;34m'value'\u001b[0m\u001b[0;34m]\u001b[0m\u001b[0;34m[\u001b[0m\u001b[0;34m'영어'\u001b[0m\u001b[0;34m]\u001b[0m\u001b[0;34m)\u001b[0m\u001b[0;34m/\u001b[0m\u001b[0;36m3\u001b[0m \u001b[0;34m>=\u001b[0m \u001b[0;36m70\u001b[0m\u001b[0;34m:\u001b[0m\u001b[0;34m\u001b[0m\u001b[0m\n\u001b[0m\u001b[1;32m      3\u001b[0m         \u001b[0;32mreturn\u001b[0m \u001b[0mvalue\u001b[0m\u001b[0;34m\u001b[0m\u001b[0m\n\u001b[1;32m      4\u001b[0m \u001b[0;32mfor\u001b[0m \u001b[0mi\u001b[0m \u001b[0;32min\u001b[0m \u001b[0mfilter\u001b[0m\u001b[0;34m(\u001b[0m\u001b[0mfilter_ex\u001b[0m\u001b[0;34m,\u001b[0m \u001b[0m성적\u001b[0m\u001b[0;34m)\u001b[0m\u001b[0;34m:\u001b[0m\u001b[0;34m\u001b[0m\u001b[0m\n\u001b[1;32m      5\u001b[0m     \u001b[0mprint\u001b[0m\u001b[0;34m(\u001b[0m\u001b[0mi\u001b[0m\u001b[0;34m)\u001b[0m\u001b[0;34m\u001b[0m\u001b[0m\n",
      "\u001b[0;31mTypeError\u001b[0m: list indices must be integers or slices, not str"
     ]
    }
   ],
   "source": [
    "def filter_ex (value):\n",
    "    if (성적['value']['국어'] + 성적['value']['수학'] + ['value']['영어'])/3 >= 70:\n",
    "        return value\n",
    "    \n",
    "for i in filter(filter_ex, 성적):\n",
    "    print(i)"
   ]
  },
  {
   "cell_type": "code",
   "execution_count": 94,
   "metadata": {},
   "outputs": [
    {
     "data": {
      "text/plain": [
       "True"
      ]
     },
     "execution_count": 94,
     "metadata": {},
     "output_type": "execute_result"
    }
   ],
   "source": [
    "870 >=1"
   ]
  },
  {
   "cell_type": "code",
   "execution_count": null,
   "metadata": {
    "collapsed": true
   },
   "outputs": [],
   "source": []
  }
 ],
 "metadata": {
  "kernelspec": {
   "display_name": "Python 3",
   "language": "python",
   "name": "python3"
  },
  "language_info": {
   "codemirror_mode": {
    "name": "ipython",
    "version": 3
   },
   "file_extension": ".py",
   "mimetype": "text/x-python",
   "name": "python",
   "nbconvert_exporter": "python",
   "pygments_lexer": "ipython3",
   "version": "3.5.2"
  }
 },
 "nbformat": 4,
 "nbformat_minor": 2
}
