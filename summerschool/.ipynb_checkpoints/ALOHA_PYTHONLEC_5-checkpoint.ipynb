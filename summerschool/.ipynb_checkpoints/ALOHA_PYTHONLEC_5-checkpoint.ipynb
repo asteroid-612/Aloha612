{
 "cells": [
  {
   "cell_type": "markdown",
   "metadata": {
    "collapsed": true
   },
   "source": [
    "#### 실패했던 퀴즈 풀이"
   ]
  },
  {
   "cell_type": "code",
   "execution_count": 1,
   "metadata": {
    "collapsed": true
   },
   "outputs": [],
   "source": [
    "성적리스트 = [('싸이', {'국어': 62, '수학': 47, '영어': 86}),\n",
    " ('GD', {'국어': 83, '수학': 85, '영어': 64}),\n",
    " ('유희열', {'국어': 100, '수학': 78, '영어': 96}),\n",
    " ('아이유', {'국어': 52, '수학': 87, '영어': 61}),\n",
    " ('윤도현', {'국어': 76, '수학': 74, '영어': 68}),\n",
    " ('이효리', {'국어': 88, '수학': 98, '영어': 78}),\n",
    " ('이승환', {'국어': 73, '수학': 58, '영어': 67}),\n",
    " ('제이슨 므라즈', {'국어': 43, '수학': 35, '영어': 55}),\n",
    " ('마크툽', {'국어': 98, '수학': 33, '영어': 95}),\n",
    " ('박명호', {'국어': 50, '수학': 94, '영어': 86}),\n",
    " ('박진영', {'국어': 59, '수학': 52, '영어': 81}),\n",
    " ('루시드폴', {'국어': 79, '수학': 42, '영어': 35}),\n",
    " ('노을', {'국어': 50, '수학': 51, '영어': 64}),\n",
    " ('넥스트', {'국어': 31, '수학': 46, '영어': 75})]"
   ]
  },
  {
   "cell_type": "code",
   "execution_count": 2,
   "metadata": {
    "collapsed": true
   },
   "outputs": [],
   "source": [
    "for person in 성적리스트: \n",
    "    # person[0] = 이름\n",
    "    # person[1] = 성적\n",
    "    total = person[1]['국어'] + person[1]['수학'] + person[1]['영어']\n",
    "    average = total / 3\n",
    "    person[1]['총점'] = total\n",
    "    person[1]['평균'] = average"
   ]
  },
  {
   "cell_type": "code",
   "execution_count": 3,
   "metadata": {},
   "outputs": [
    {
     "data": {
      "text/plain": [
       "[('싸이', {'국어': 62, '수학': 47, '영어': 86, '총점': 195, '평균': 65.0}),\n",
       " ('GD', {'국어': 83, '수학': 85, '영어': 64, '총점': 232, '평균': 77.33333333333333}),\n",
       " ('유희열', {'국어': 100, '수학': 78, '영어': 96, '총점': 274, '평균': 91.33333333333333}),\n",
       " ('아이유', {'국어': 52, '수학': 87, '영어': 61, '총점': 200, '평균': 66.66666666666667}),\n",
       " ('윤도현', {'국어': 76, '수학': 74, '영어': 68, '총점': 218, '평균': 72.66666666666667}),\n",
       " ('이효리', {'국어': 88, '수학': 98, '영어': 78, '총점': 264, '평균': 88.0}),\n",
       " ('이승환', {'국어': 73, '수학': 58, '영어': 67, '총점': 198, '평균': 66.0}),\n",
       " ('제이슨 므라즈',\n",
       "  {'국어': 43, '수학': 35, '영어': 55, '총점': 133, '평균': 44.333333333333336}),\n",
       " ('마크툽', {'국어': 98, '수학': 33, '영어': 95, '총점': 226, '평균': 75.33333333333333}),\n",
       " ('박명호', {'국어': 50, '수학': 94, '영어': 86, '총점': 230, '평균': 76.66666666666667}),\n",
       " ('박진영', {'국어': 59, '수학': 52, '영어': 81, '총점': 192, '평균': 64.0}),\n",
       " ('루시드폴', {'국어': 79, '수학': 42, '영어': 35, '총점': 156, '평균': 52.0}),\n",
       " ('노을', {'국어': 50, '수학': 51, '영어': 64, '총점': 165, '평균': 55.0}),\n",
       " ('넥스트', {'국어': 31, '수학': 46, '영어': 75, '총점': 152, '평균': 50.666666666666664})]"
      ]
     },
     "execution_count": 3,
     "metadata": {},
     "output_type": "execute_result"
    }
   ],
   "source": [
    "   성적리스트"
   ]
  },
  {
   "cell_type": "code",
   "execution_count": 5,
   "metadata": {
    "collapsed": true
   },
   "outputs": [],
   "source": [
    "def filter_fn(person):\n",
    "    return person[1]['평균'] > 70\n",
    "\n",
    "def sort_fn(person):\n",
    "    return person[1]['평균']\n",
    "\n",
    "결과리스트 = sorted(filter(filter_fn, 성적리스트), key=sort_fn)"
   ]
  },
  {
   "cell_type": "code",
   "execution_count": 6,
   "metadata": {},
   "outputs": [
    {
     "data": {
      "text/plain": [
       "[('윤도현', {'국어': 76, '수학': 74, '영어': 68, '총점': 218, '평균': 72.66666666666667}),\n",
       " ('마크툽', {'국어': 98, '수학': 33, '영어': 95, '총점': 226, '평균': 75.33333333333333}),\n",
       " ('박명호', {'국어': 50, '수학': 94, '영어': 86, '총점': 230, '평균': 76.66666666666667}),\n",
       " ('GD', {'국어': 83, '수학': 85, '영어': 64, '총점': 232, '평균': 77.33333333333333}),\n",
       " ('이효리', {'국어': 88, '수학': 98, '영어': 78, '총점': 264, '평균': 88.0}),\n",
       " ('유희열', {'국어': 100, '수학': 78, '영어': 96, '총점': 274, '평균': 91.33333333333333})]"
      ]
     },
     "execution_count": 6,
     "metadata": {},
     "output_type": "execute_result"
    }
   ],
   "source": [
    "결과리스트"
   ]
  },
  {
   "cell_type": "code",
   "execution_count": 7,
   "metadata": {
    "collapsed": true
   },
   "outputs": [],
   "source": [
    "import json\n",
    "\n",
    "json_string = json.dumps(결과리스트, ensure_ascii=False)\n",
    "# ensure_ascii = False : UTF8 출력 (추천!)\n",
    "# ensure_ascii = True (디폴트) : 유니코드 코드값으로 출력\n",
    "\n",
    "with open(\"성적_결과리스트.json\", \"wt\", encoding=\"utf8\") as f:\n",
    "    f.write(json_string)"
   ]
  },
  {
   "cell_type": "code",
   "execution_count": 8,
   "metadata": {},
   "outputs": [
    {
     "name": "stdout",
     "output_type": "stream",
     "text": [
      "[[\"윤도현\", {\"국어\": 76, \"총점\": 218, \"평균\": 72.66666666666667, \"영어\": 68, \"수학\": 74}], [\"마크툽\", {\"국어\": 98, \"총점\": 226, \"평균\": 75.33333333333333, \"영어\": 95, \"수학\": 33}], [\"박명호\", {\"국어\": 50, \"총점\": 230, \"평균\": 76.66666666666667, \"영어\": 86, \"수학\": 94}], [\"GD\", {\"국어\": 83, \"총점\": 232, \"평균\": 77.33333333333333, \"영어\": 64, \"수학\": 85}], [\"이효리\", {\"국어\": 88, \"총점\": 264, \"평균\": 88.0, \"영어\": 78, \"수학\": 98}], [\"유희열\", {\"국어\": 100, \"총점\": 274, \"평균\": 91.33333333333333, \"영어\": 96, \"수학\": 78}]]\n"
     ]
    }
   ],
   "source": [
    "with open(\"성적_결과리스트.json\", \"rt\", encoding=\"utf8\") as f:\n",
    "    print(f.read()) # json_string 을 읽어서 출력"
   ]
  },
  {
   "cell_type": "code",
   "execution_count": 1,
   "metadata": {},
   "outputs": [
    {
     "data": {
      "text/plain": [
       "<_sre.SRE_Match object; span=(0, 5), match='01011'>"
      ]
     },
     "execution_count": 1,
     "metadata": {},
     "output_type": "execute_result"
    }
   ],
   "source": [
    "import re\n",
    "\n",
    "re.match(r\"01[016-9][1-9]\\d\", '01011')"
   ]
  },
  {
   "cell_type": "code",
   "execution_count": 2,
   "metadata": {},
   "outputs": [
    {
     "data": {
      "text/plain": [
       "<_sre.SRE_Match object; span=(0, 5), match='01012'>"
      ]
     },
     "execution_count": 2,
     "metadata": {},
     "output_type": "execute_result"
    }
   ],
   "source": [
    "re.match(r\"01[016-9][1-9]\\d\", '01012341234')"
   ]
  },
  {
   "cell_type": "code",
   "execution_count": 3,
   "metadata": {
    "collapsed": true
   },
   "outputs": [],
   "source": [
    "re.match(r\"01[016-9][1-9]\\d\",'010-123401234')"
   ]
  },
  {
   "cell_type": "code",
   "execution_count": 4,
   "metadata": {},
   "outputs": [
    {
     "name": "stdout",
     "output_type": "stream",
     "text": [
      "True\n",
      "False\n",
      "False\n"
     ]
    }
   ],
   "source": [
    "import re\n",
    "\n",
    "def validate_phone_number(number):\n",
    "    if not re.match(r'^01[016789][1-9]\\d{6,7}$', number):\n",
    "        return False\n",
    "    return True\n",
    "\n",
    "print(validate_phone_number('01012341234'))\n",
    "print(validate_phone_number('010123412'))\n",
    "print(validate_phone_number('012341234a'))"
   ]
  },
  {
   "cell_type": "code",
   "execution_count": 5,
   "metadata": {},
   "outputs": [
    {
     "data": {
      "text/plain": [
       "<_sre.SRE_Match object; span=(0, 19), match='1234-1234-1234-1234'>"
      ]
     },
     "execution_count": 5,
     "metadata": {},
     "output_type": "execute_result"
    }
   ],
   "source": [
    "import re\n",
    "\n",
    "re.match(r'^\\d{4}-\\d{4}-\\d{4}-\\d{4}$', '1234-1234-1234-1234')"
   ]
  },
  {
   "cell_type": "code",
   "execution_count": 6,
   "metadata": {},
   "outputs": [
    {
     "data": {
      "text/plain": [
       "<_sre.SRE_Match object; span=(0, 14), match='900618-1692244'>"
      ]
     },
     "execution_count": 6,
     "metadata": {},
     "output_type": "execute_result"
    }
   ],
   "source": [
    "re.match(r'^90[01]\\d[0123]\\d-1\\d{6}$','900618-1692244')"
   ]
  },
  {
   "cell_type": "code",
   "execution_count": 7,
   "metadata": {
    "collapsed": true
   },
   "outputs": [],
   "source": [
    "# 퀴즈 #3 : Hex color code를 모두 추출하는 정규 표현식\n",
    "\n",
    "html = \"\"\"\n",
    "<!doctype html>\n",
    "<html>\n",
    "    <head>\n",
    "        <meta charset=\"utf-8\" />\n",
    "        <title>RGB Colors</title>\n",
    "    </head>\n",
    "    <body>\n",
    "        <h1>RGB Colors</h1>\n",
    "        <ul>\n",
    "            <li>Red : #FF0000</li>\n",
    "            <li>Green : #00FF00</li>\n",
    "            <li>Blue : #0000FF</li>\n",
    "        </ul>\n",
    "    </body>\n",
    "</html>\n",
    "\"\"\""
   ]
  },
  {
   "cell_type": "code",
   "execution_count": 8,
   "metadata": {},
   "outputs": [
    {
     "data": {
      "text/plain": [
       "['#FF0000', '#00FF00', '#0000FF']"
      ]
     },
     "execution_count": 8,
     "metadata": {},
     "output_type": "execute_result"
    }
   ],
   "source": [
    "import re\n",
    "\n",
    "re.findall(r'#[0-9a-fA-F]{6}', html)"
   ]
  },
  {
   "cell_type": "code",
   "execution_count": 10,
   "metadata": {},
   "outputs": [
    {
     "name": "stdout",
     "output_type": "stream",
     "text": [
      "lucky numbers are [36, 34, 3, 23, 10, 22] bounus number is 16\n"
     ]
    }
   ],
   "source": [
    "# 무작위 선별, 로또 만들기\n",
    "\n",
    "import random\n",
    "number = []\n",
    "for i in range(1,46):\n",
    "    number.append(i)\n",
    "\n",
    "random.shuffle(number)\n",
    "print(\"lucky numbers are\",number[:6],\"bounus number is\",number[7])"
   ]
  },
  {
   "cell_type": "code",
   "execution_count": 1,
   "metadata": {},
   "outputs": [
    {
     "data": {
      "text/plain": [
       "Counter({'8월에도': 1,\n",
       "         'Friend': 1,\n",
       "         'You': 1,\n",
       "         \"You're\": 1,\n",
       "         'all': 1,\n",
       "         'best': 1,\n",
       "         'friend': 1,\n",
       "         'it': 1,\n",
       "         'know': 1,\n",
       "         'my': 1,\n",
       "         '가': 1,\n",
       "         '갈게': 2,\n",
       "         '거야': 1,\n",
       "         '거지': 2,\n",
       "         '건지': 2,\n",
       "         '것': 1,\n",
       "         '겨울': 3,\n",
       "         '겨울도': 1,\n",
       "         '겨울을': 1,\n",
       "         '겨울이': 1,\n",
       "         '계절도': 1,\n",
       "         '그': 1,\n",
       "         '그게': 1,\n",
       "         '그곳에': 2,\n",
       "         '그래': 1,\n",
       "         '그런': 1,\n",
       "         '그리움들이': 1,\n",
       "         '기다려야': 2,\n",
       "         '기다리면': 1,\n",
       "         '꽃': 2,\n",
       "         '끝내고파': 1,\n",
       "         '끝을': 2,\n",
       "         '끝이': 1,\n",
       "         '나는': 1,\n",
       "         '나라면': 1,\n",
       "         '나요': 1,\n",
       "         '난': 2,\n",
       "         '날리는': 1,\n",
       "         '남은': 1,\n",
       "         '내가': 1,\n",
       "         '내려야': 1,\n",
       "         '너를': 2,\n",
       "         '너무': 1,\n",
       "         '너희': 1,\n",
       "         '넌': 1,\n",
       "         '널': 5,\n",
       "         '네게': 1,\n",
       "         '눈꽃이': 2,\n",
       "         '눈이': 1,\n",
       "         '눈처럼': 1,\n",
       "         '니': 1,\n",
       "         '니가': 2,\n",
       "         '다시': 3,\n",
       "         '단': 1,\n",
       "         '달려가네': 1,\n",
       "         '닿을': 1,\n",
       "         '더': 7,\n",
       "         '덜': 1,\n",
       "         '데리러': 1,\n",
       "         '될까': 4,\n",
       "         '때까지': 4,\n",
       "         '떠났지만': 1,\n",
       "         '떠도는': 1,\n",
       "         '떨어져요': 2,\n",
       "         '또': 4,\n",
       "         '마음은': 1,\n",
       "         '만나게': 2,\n",
       "         '만나러': 1,\n",
       "         '말로는': 1,\n",
       "         '말하니까': 1,\n",
       "         '머물러줘': 4,\n",
       "         '먼지처럼': 2,\n",
       "         '멀어져요': 2,\n",
       "         '며칠': 1,\n",
       "         '몇': 2,\n",
       "         '모두가': 1,\n",
       "         '못하는데': 1,\n",
       "         '뭐': 2,\n",
       "         '미워': 1,\n",
       "         '밉다': 2,\n",
       "         '반대편까지': 1,\n",
       "         '밤만': 1,\n",
       "         '밤을': 2,\n",
       "         '번': 1,\n",
       "         '벚꽃이': 1,\n",
       "         '변한': 3,\n",
       "         '보게': 2,\n",
       "         '보고': 11,\n",
       "         '보내지': 1,\n",
       "         '보는': 1,\n",
       "         '본다': 1,\n",
       "         '봄날이': 3,\n",
       "         '불어내': 1,\n",
       "         '빨리': 1,\n",
       "         '뿐이야': 1,\n",
       "         '사실': 1,\n",
       "         '사진을': 1,\n",
       "         '새우면': 1,\n",
       "         '새워야': 2,\n",
       "         '설국열차': 1,\n",
       "         '손': 1,\n",
       "         '솔직히': 1,\n",
       "         '수': 1,\n",
       "         '순': 1,\n",
       "         '순간': 1,\n",
       "         '시간': 1,\n",
       "         '시간을': 1,\n",
       "         '시간조차': 1,\n",
       "         '시린': 1,\n",
       "         '싶다': 9,\n",
       "         '싶은데': 1,\n",
       "         '아니면': 1,\n",
       "         '아직': 1,\n",
       "         '아침은': 1,\n",
       "         '아프니까': 1,\n",
       "         '야속한': 1,\n",
       "         '어둠도': 1,\n",
       "         '어떤': 2,\n",
       "         '얼굴': 1,\n",
       "         '얼마나': 3,\n",
       "         '없었지': 1,\n",
       "         '없으니까': 1,\n",
       "         '여긴': 1,\n",
       "         '연기처럼': 2,\n",
       "         '영원할': 1,\n",
       "         '온통': 1,\n",
       "         '올': 3,\n",
       "         '올까': 1,\n",
       "         '와': 1,\n",
       "         '우리가': 3,\n",
       "         '원망하기보단': 1,\n",
       "         '이': 3,\n",
       "         '이렇게': 1,\n",
       "         '이만': 1,\n",
       "         '이제': 1,\n",
       "         '있어도': 1,\n",
       "         '있을': 1,\n",
       "         '잊은': 1,\n",
       "         '작은': 2,\n",
       "         '잡고': 1,\n",
       "         '적이': 1,\n",
       "         '조금': 1,\n",
       "         '조금만': 1,\n",
       "         '조금씩': 2,\n",
       "         '조차': 1,\n",
       "         '좀': 2,\n",
       "         '지구': 1,\n",
       "         '지나': 2,\n",
       "         '지운다': 1,\n",
       "         '지울게': 1,\n",
       "         '추운': 2,\n",
       "         '텐데': 1,\n",
       "         '피나봐요': 1,\n",
       "         '피울': 2,\n",
       "         '하루도': 1,\n",
       "         '하얀': 1,\n",
       "         '한': 1,\n",
       "         '해도': 1,\n",
       "         '허공을': 1,\n",
       "         '홀로': 1,\n",
       "         '흐르는': 1,\n",
       "         '힘들어진': 1})"
      ]
     },
     "execution_count": 1,
     "metadata": {},
     "output_type": "execute_result"
    }
   ],
   "source": [
    "mystring = '''\n",
    "보고 싶다 이렇게 \n",
    "말하니까 더 보고 싶다\n",
    "너희 사진을 \n",
    "보고 있어도 보고 싶다\n",
    "너무 야속한 시간 \n",
    "나는 우리가 밉다\n",
    "이제 얼굴 한 번 보는 것 조차\n",
    "힘들어진 우리가\n",
    "여긴 온통 겨울 뿐이야 \n",
    "8월에도 겨울이 와\n",
    "마음은 시간을 달려가네 \n",
    "홀로 남은 설국열차\n",
    "니 손 잡고 지구 \n",
    "반대편까지 가 \n",
    "이 겨울을 끝내고파\n",
    "그리움들이 \n",
    "얼마나 눈처럼 내려야 \n",
    "그 봄날이 올까\n",
    "Friend\n",
    "허공을 떠도는 \n",
    "작은 먼지처럼 \n",
    "작은 먼지처럼\n",
    "날리는 눈이 나라면 \n",
    "조금 더 빨리 네게\n",
    "닿을 수 있을 텐데\n",
    "눈꽃이 떨어져요\n",
    "또 조금씩 멀어져요\n",
    "보고 싶다\n",
    "보고 싶다\n",
    "얼마나 기다려야 \n",
    "또 몇 밤을 더 새워야\n",
    "널 보게 될까 \n",
    "만나게 될까\n",
    "추운 겨울 끝을 지나 \n",
    "다시 봄날이 올 때까지\n",
    "꽃 피울 때까지 \n",
    "그곳에 좀 더 머물러줘 \n",
    "머물러줘\n",
    "니가 변한 건지 \n",
    "아니면 내가 변한 건지\n",
    "이 순간 흐르는 시간조차 미워 \n",
    "우리가 변한 거지 뭐 \n",
    "모두가 그런 거지 뭐\n",
    "그래 밉다 니가 \n",
    "넌 떠났지만 \n",
    "단 하루도 너를 \n",
    "잊은 적이 없었지 난\n",
    "솔직히 보고 싶은데 \n",
    "이만 너를 지울게\n",
    "그게 널 원망하기보단 \n",
    "덜 아프니까\n",
    "시린 널 불어내 본다 \n",
    "연기처럼 하얀 연기처럼\n",
    "말로는 지운다 해도 \n",
    "사실 난 아직 널 보내지 못하는데\n",
    "눈꽃이 떨어져요 \n",
    "또 조금씩 멀어져요\n",
    "보고 싶다 \n",
    "보고 싶다\n",
    "얼마나 기다려야 \n",
    "또 몇 밤을 더 새워야\n",
    "널 보게 될까 \n",
    "만나게 될까\n",
    "You know it all \n",
    "You're my best friend \n",
    "아침은 다시 올 거야\n",
    "어떤 어둠도 어떤 계절도 \n",
    "영원할 순 없으니까\n",
    "벚꽃이 피나봐요 \n",
    "이 겨울도 끝이 나요\n",
    "보고 싶다 \n",
    "보고 싶다\n",
    "조금만 기다리면 \n",
    "며칠 밤만 더 새우면\n",
    "만나러 갈게\n",
    "데리러 갈게 \n",
    "추운 겨울 끝을 지나 \n",
    "다시 봄날이 올 때까지\n",
    "꽃 피울 때까지 \n",
    "그곳에 좀 더 머물러줘 \n",
    "머물러줘\n",
    "'''\n",
    "\n",
    "from collections import Counter\n",
    "Counter(mystring.split())"
   ]
  },
  {
   "cell_type": "code",
   "execution_count": null,
   "metadata": {
    "collapsed": true
   },
   "outputs": [],
   "source": []
  }
 ],
 "metadata": {
  "kernelspec": {
   "display_name": "Python 3",
   "language": "python",
   "name": "python3"
  },
  "language_info": {
   "codemirror_mode": {
    "name": "ipython",
    "version": 3
   },
   "file_extension": ".py",
   "mimetype": "text/x-python",
   "name": "python",
   "nbconvert_exporter": "python",
   "pygments_lexer": "ipython3",
   "version": "3.5.2"
  }
 },
 "nbformat": 4,
 "nbformat_minor": 2
}
