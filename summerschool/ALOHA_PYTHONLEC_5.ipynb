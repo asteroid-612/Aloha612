{
 "cells": [
  {
   "cell_type": "markdown",
   "metadata": {
    "collapsed": true
   },
   "source": [
    "#### 실패했던 퀴즈 풀이"
   ]
  },
  {
   "cell_type": "code",
   "execution_count": 1,
   "metadata": {
    "collapsed": true
   },
   "outputs": [],
   "source": [
    "성적리스트 = [('싸이', {'국어': 62, '수학': 47, '영어': 86}),\n",
    " ('GD', {'국어': 83, '수학': 85, '영어': 64}),\n",
    " ('유희열', {'국어': 100, '수학': 78, '영어': 96}),\n",
    " ('아이유', {'국어': 52, '수학': 87, '영어': 61}),\n",
    " ('윤도현', {'국어': 76, '수학': 74, '영어': 68}),\n",
    " ('이효리', {'국어': 88, '수학': 98, '영어': 78}),\n",
    " ('이승환', {'국어': 73, '수학': 58, '영어': 67}),\n",
    " ('제이슨 므라즈', {'국어': 43, '수학': 35, '영어': 55}),\n",
    " ('마크툽', {'국어': 98, '수학': 33, '영어': 95}),\n",
    " ('박명호', {'국어': 50, '수학': 94, '영어': 86}),\n",
    " ('박진영', {'국어': 59, '수학': 52, '영어': 81}),\n",
    " ('루시드폴', {'국어': 79, '수학': 42, '영어': 35}),\n",
    " ('노을', {'국어': 50, '수학': 51, '영어': 64}),\n",
    " ('넥스트', {'국어': 31, '수학': 46, '영어': 75})]"
   ]
  },
  {
   "cell_type": "code",
   "execution_count": 2,
   "metadata": {
    "collapsed": true
   },
   "outputs": [],
   "source": [
    "for person in 성적리스트: \n",
    "    # person[0] = 이름\n",
    "    # person[1] = 성적\n",
    "    total = person[1]['국어'] + person[1]['수학'] + person[1]['영어']\n",
    "    average = total / 3\n",
    "    person[1]['총점'] = total\n",
    "    person[1]['평균'] = average"
   ]
  },
  {
   "cell_type": "code",
   "execution_count": 3,
   "metadata": {},
   "outputs": [
    {
     "data": {
      "text/plain": [
       "[('싸이', {'국어': 62, '수학': 47, '영어': 86, '총점': 195, '평균': 65.0}),\n",
       " ('GD', {'국어': 83, '수학': 85, '영어': 64, '총점': 232, '평균': 77.33333333333333}),\n",
       " ('유희열', {'국어': 100, '수학': 78, '영어': 96, '총점': 274, '평균': 91.33333333333333}),\n",
       " ('아이유', {'국어': 52, '수학': 87, '영어': 61, '총점': 200, '평균': 66.66666666666667}),\n",
       " ('윤도현', {'국어': 76, '수학': 74, '영어': 68, '총점': 218, '평균': 72.66666666666667}),\n",
       " ('이효리', {'국어': 88, '수학': 98, '영어': 78, '총점': 264, '평균': 88.0}),\n",
       " ('이승환', {'국어': 73, '수학': 58, '영어': 67, '총점': 198, '평균': 66.0}),\n",
       " ('제이슨 므라즈',\n",
       "  {'국어': 43, '수학': 35, '영어': 55, '총점': 133, '평균': 44.333333333333336}),\n",
       " ('마크툽', {'국어': 98, '수학': 33, '영어': 95, '총점': 226, '평균': 75.33333333333333}),\n",
       " ('박명호', {'국어': 50, '수학': 94, '영어': 86, '총점': 230, '평균': 76.66666666666667}),\n",
       " ('박진영', {'국어': 59, '수학': 52, '영어': 81, '총점': 192, '평균': 64.0}),\n",
       " ('루시드폴', {'국어': 79, '수학': 42, '영어': 35, '총점': 156, '평균': 52.0}),\n",
       " ('노을', {'국어': 50, '수학': 51, '영어': 64, '총점': 165, '평균': 55.0}),\n",
       " ('넥스트', {'국어': 31, '수학': 46, '영어': 75, '총점': 152, '평균': 50.666666666666664})]"
      ]
     },
     "execution_count": 3,
     "metadata": {},
     "output_type": "execute_result"
    }
   ],
   "source": [
    "   성적리스트"
   ]
  },
  {
   "cell_type": "code",
   "execution_count": 5,
   "metadata": {
    "collapsed": true
   },
   "outputs": [],
   "source": [
    "def filter_fn(person):\n",
    "    return person[1]['평균'] > 70\n",
    "\n",
    "def sort_fn(person):\n",
    "    return person[1]['평균']\n",
    "\n",
    "결과리스트 = sorted(filter(filter_fn, 성적리스트), key=sort_fn)"
   ]
  },
  {
   "cell_type": "code",
   "execution_count": 6,
   "metadata": {},
   "outputs": [
    {
     "data": {
      "text/plain": [
       "[('윤도현', {'국어': 76, '수학': 74, '영어': 68, '총점': 218, '평균': 72.66666666666667}),\n",
       " ('마크툽', {'국어': 98, '수학': 33, '영어': 95, '총점': 226, '평균': 75.33333333333333}),\n",
       " ('박명호', {'국어': 50, '수학': 94, '영어': 86, '총점': 230, '평균': 76.66666666666667}),\n",
       " ('GD', {'국어': 83, '수학': 85, '영어': 64, '총점': 232, '평균': 77.33333333333333}),\n",
       " ('이효리', {'국어': 88, '수학': 98, '영어': 78, '총점': 264, '평균': 88.0}),\n",
       " ('유희열', {'국어': 100, '수학': 78, '영어': 96, '총점': 274, '평균': 91.33333333333333})]"
      ]
     },
     "execution_count": 6,
     "metadata": {},
     "output_type": "execute_result"
    }
   ],
   "source": [
    "결과리스트"
   ]
  },
  {
   "cell_type": "code",
   "execution_count": 7,
   "metadata": {
    "collapsed": true
   },
   "outputs": [],
   "source": [
    "import json\n",
    "\n",
    "json_string = json.dumps(결과리스트, ensure_ascii=False)\n",
    "# ensure_ascii = False : UTF8 출력 (추천!)\n",
    "# ensure_ascii = True (디폴트) : 유니코드 코드값으로 출력\n",
    "\n",
    "with open(\"성적_결과리스트.json\", \"wt\", encoding=\"utf8\") as f:\n",
    "    f.write(json_string)"
   ]
  },
  {
   "cell_type": "code",
   "execution_count": 8,
   "metadata": {},
   "outputs": [
    {
     "name": "stdout",
     "output_type": "stream",
     "text": [
      "[[\"윤도현\", {\"국어\": 76, \"총점\": 218, \"평균\": 72.66666666666667, \"영어\": 68, \"수학\": 74}], [\"마크툽\", {\"국어\": 98, \"총점\": 226, \"평균\": 75.33333333333333, \"영어\": 95, \"수학\": 33}], [\"박명호\", {\"국어\": 50, \"총점\": 230, \"평균\": 76.66666666666667, \"영어\": 86, \"수학\": 94}], [\"GD\", {\"국어\": 83, \"총점\": 232, \"평균\": 77.33333333333333, \"영어\": 64, \"수학\": 85}], [\"이효리\", {\"국어\": 88, \"총점\": 264, \"평균\": 88.0, \"영어\": 78, \"수학\": 98}], [\"유희열\", {\"국어\": 100, \"총점\": 274, \"평균\": 91.33333333333333, \"영어\": 96, \"수학\": 78}]]\n"
     ]
    }
   ],
   "source": [
    "with open(\"성적_결과리스트.json\", \"rt\", encoding=\"utf8\") as f:\n",
    "    print(f.read()) # json_string 을 읽어서 출력"
   ]
  },
  {
   "cell_type": "code",
   "execution_count": 1,
   "metadata": {},
   "outputs": [
    {
     "data": {
      "text/plain": [
       "<_sre.SRE_Match object; span=(0, 5), match='01011'>"
      ]
     },
     "execution_count": 1,
     "metadata": {},
     "output_type": "execute_result"
    }
   ],
   "source": [
    "import re\n",
    "\n",
    "re.match(r\"01[016-9][1-9]\\d\", '01011')"
   ]
  },
  {
   "cell_type": "code",
   "execution_count": 2,
   "metadata": {},
   "outputs": [
    {
     "data": {
      "text/plain": [
       "<_sre.SRE_Match object; span=(0, 5), match='01012'>"
      ]
     },
     "execution_count": 2,
     "metadata": {},
     "output_type": "execute_result"
    }
   ],
   "source": [
    "re.match(r\"01[016-9][1-9]\\d\", '01012341234')"
   ]
  },
  {
   "cell_type": "code",
   "execution_count": 3,
   "metadata": {
    "collapsed": true
   },
   "outputs": [],
   "source": [
    "re.match(r\"01[016-9][1-9]\\d\",'010-123401234')"
   ]
  },
  {
   "cell_type": "code",
   "execution_count": 4,
   "metadata": {},
   "outputs": [
    {
     "name": "stdout",
     "output_type": "stream",
     "text": [
      "True\n",
      "False\n",
      "False\n"
     ]
    }
   ],
   "source": [
    "import re\n",
    "\n",
    "def validate_phone_number(number):\n",
    "    if not re.match(r'^01[016789][1-9]\\d{6,7}$', number):\n",
    "        return False\n",
    "    return True\n",
    "\n",
    "print(validate_phone_number('01012341234'))\n",
    "print(validate_phone_number('010123412'))\n",
    "print(validate_phone_number('012341234a'))"
   ]
  },
  {
   "cell_type": "code",
   "execution_count": 5,
   "metadata": {},
   "outputs": [
    {
     "data": {
      "text/plain": [
       "<_sre.SRE_Match object; span=(0, 19), match='1234-1234-1234-1234'>"
      ]
     },
     "execution_count": 5,
     "metadata": {},
     "output_type": "execute_result"
    }
   ],
   "source": [
    "import re\n",
    "\n",
    "re.match(r'^\\d{4}-\\d{4}-\\d{4}-\\d{4}$', '1234-1234-1234-1234')"
   ]
  },
  {
   "cell_type": "code",
   "execution_count": 6,
   "metadata": {},
   "outputs": [
    {
     "data": {
      "text/plain": [
       "<_sre.SRE_Match object; span=(0, 14), match='900618-1692244'>"
      ]
     },
     "execution_count": 6,
     "metadata": {},
     "output_type": "execute_result"
    }
   ],
   "source": [
    "re.match(r'^90[01]\\d[0123]\\d-1\\d{6}$','900618-1692244')"
   ]
  },
  {
   "cell_type": "code",
   "execution_count": 7,
   "metadata": {
    "collapsed": true
   },
   "outputs": [],
   "source": [
    "# 퀴즈 #3 : Hex color code를 모두 추출하는 정규 표현식\n",
    "\n",
    "html = \"\"\"\n",
    "<!doctype html>\n",
    "<html>\n",
    "    <head>\n",
    "        <meta charset=\"utf-8\" />\n",
    "        <title>RGB Colors</title>\n",
    "    </head>\n",
    "    <body>\n",
    "        <h1>RGB Colors</h1>\n",
    "        <ul>\n",
    "            <li>Red : #FF0000</li>\n",
    "            <li>Green : #00FF00</li>\n",
    "            <li>Blue : #0000FF</li>\n",
    "        </ul>\n",
    "    </body>\n",
    "</html>\n",
    "\"\"\""
   ]
  },
  {
   "cell_type": "code",
   "execution_count": 8,
   "metadata": {},
   "outputs": [
    {
     "data": {
      "text/plain": [
       "['#FF0000', '#00FF00', '#0000FF']"
      ]
     },
     "execution_count": 8,
     "metadata": {},
     "output_type": "execute_result"
    }
   ],
   "source": [
    "import re\n",
    "\n",
    "re.findall(r'#[0-9a-fA-F]{6}', html)"
   ]
  },
  {
   "cell_type": "code",
   "execution_count": 10,
   "metadata": {},
   "outputs": [
    {
     "name": "stdout",
     "output_type": "stream",
     "text": [
      "lucky numbers are [36, 34, 3, 23, 10, 22] bounus number is 16\n"
     ]
    }
   ],
   "source": [
    "# 무작위 선별, 로또 만들기\n",
    "\n",
    "import random\n",
    "number = []\n",
    "for i in range(1,46):\n",
    "    number.append(i)\n",
    "\n",
    "random.shuffle(number)\n",
    "print(\"lucky numbers are\",number[:6],\"bounus number is\",number[7])"
   ]
  },
  {
   "cell_type": "code",
   "execution_count": null,
   "metadata": {
    "collapsed": true
   },
   "outputs": [],
   "source": []
  }
 ],
 "metadata": {
  "kernelspec": {
   "display_name": "Python 3",
   "language": "python",
   "name": "python3"
  },
  "language_info": {
   "codemirror_mode": {
    "name": "ipython",
    "version": 3
   },
   "file_extension": ".py",
   "mimetype": "text/x-python",
   "name": "python",
   "nbconvert_exporter": "python",
   "pygments_lexer": "ipython3",
   "version": "3.5.2"
  }
 },
 "nbformat": 4,
 "nbformat_minor": 2
}
